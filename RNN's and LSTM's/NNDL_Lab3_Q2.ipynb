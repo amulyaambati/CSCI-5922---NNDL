{
  "nbformat": 4,
  "nbformat_minor": 0,
  "metadata": {
    "colab": {
      "provenance": []
    },
    "kernelspec": {
      "name": "python3",
      "display_name": "Python 3"
    },
    "language_info": {
      "name": "python"
    }
  },
  "cells": [
    {
      "cell_type": "code",
      "execution_count": 31,
      "metadata": {
        "id": "vDUX9xDkAN3m"
      },
      "outputs": [],
      "source": [
        "import pandas as pd\n",
        "from sklearn.model_selection import train_test_split\n",
        "import nltk\n",
        "from nltk.corpus import stopwords\n",
        "import re\n",
        "from sklearn.feature_extraction.text import TfidfVectorizer\n",
        "import numpy as np\n",
        "from tensorflow.keras.models import Sequential\n",
        "from tensorflow.keras.layers import Embedding, SimpleRNN, LSTM, GRU, Dense\n",
        "from sklearn.preprocessing import OneHotEncoder\n",
        "from sklearn.metrics import confusion_matrix, accuracy_score\n",
        "import seaborn as sns\n",
        "import matplotlib.pyplot as plt\n",
        "from keras.initializers import Constant\n",
        "import numpy as np\n",
        "\n"
      ]
    },
    {
      "cell_type": "code",
      "source": [
        "data = pd.read_csv('/content/movie.csv')"
      ],
      "metadata": {
        "id": "_pkZoqZ5Anrw"
      },
      "execution_count": 32,
      "outputs": []
    },
    {
      "cell_type": "code",
      "source": [
        "data.head()"
      ],
      "metadata": {
        "colab": {
          "base_uri": "https://localhost:8080/",
          "height": 206
        },
        "id": "dynCb8VBAyf4",
        "outputId": "9a919157-e956-45fc-f9b6-46e71f441985"
      },
      "execution_count": 33,
      "outputs": [
        {
          "output_type": "execute_result",
          "data": {
            "text/plain": [
              "                                                text  label\n",
              "0  I grew up (b. 1965) watching and loving the Th...      0\n",
              "1  When I put this movie in my DVD player, and sa...      0\n",
              "2  Why do people who do not know what a particula...      0\n",
              "3  Even though I have great interest in Biblical ...      0\n",
              "4  Im a die hard Dads Army fan and nothing will e...      1"
            ],
            "text/html": [
              "\n",
              "  <div id=\"df-04559d1c-a05b-4b36-8961-5b294e4af947\" class=\"colab-df-container\">\n",
              "    <div>\n",
              "<style scoped>\n",
              "    .dataframe tbody tr th:only-of-type {\n",
              "        vertical-align: middle;\n",
              "    }\n",
              "\n",
              "    .dataframe tbody tr th {\n",
              "        vertical-align: top;\n",
              "    }\n",
              "\n",
              "    .dataframe thead th {\n",
              "        text-align: right;\n",
              "    }\n",
              "</style>\n",
              "<table border=\"1\" class=\"dataframe\">\n",
              "  <thead>\n",
              "    <tr style=\"text-align: right;\">\n",
              "      <th></th>\n",
              "      <th>text</th>\n",
              "      <th>label</th>\n",
              "    </tr>\n",
              "  </thead>\n",
              "  <tbody>\n",
              "    <tr>\n",
              "      <th>0</th>\n",
              "      <td>I grew up (b. 1965) watching and loving the Th...</td>\n",
              "      <td>0</td>\n",
              "    </tr>\n",
              "    <tr>\n",
              "      <th>1</th>\n",
              "      <td>When I put this movie in my DVD player, and sa...</td>\n",
              "      <td>0</td>\n",
              "    </tr>\n",
              "    <tr>\n",
              "      <th>2</th>\n",
              "      <td>Why do people who do not know what a particula...</td>\n",
              "      <td>0</td>\n",
              "    </tr>\n",
              "    <tr>\n",
              "      <th>3</th>\n",
              "      <td>Even though I have great interest in Biblical ...</td>\n",
              "      <td>0</td>\n",
              "    </tr>\n",
              "    <tr>\n",
              "      <th>4</th>\n",
              "      <td>Im a die hard Dads Army fan and nothing will e...</td>\n",
              "      <td>1</td>\n",
              "    </tr>\n",
              "  </tbody>\n",
              "</table>\n",
              "</div>\n",
              "    <div class=\"colab-df-buttons\">\n",
              "\n",
              "  <div class=\"colab-df-container\">\n",
              "    <button class=\"colab-df-convert\" onclick=\"convertToInteractive('df-04559d1c-a05b-4b36-8961-5b294e4af947')\"\n",
              "            title=\"Convert this dataframe to an interactive table.\"\n",
              "            style=\"display:none;\">\n",
              "\n",
              "  <svg xmlns=\"http://www.w3.org/2000/svg\" height=\"24px\" viewBox=\"0 -960 960 960\">\n",
              "    <path d=\"M120-120v-720h720v720H120Zm60-500h600v-160H180v160Zm220 220h160v-160H400v160Zm0 220h160v-160H400v160ZM180-400h160v-160H180v160Zm440 0h160v-160H620v160ZM180-180h160v-160H180v160Zm440 0h160v-160H620v160Z\"/>\n",
              "  </svg>\n",
              "    </button>\n",
              "\n",
              "  <style>\n",
              "    .colab-df-container {\n",
              "      display:flex;\n",
              "      gap: 12px;\n",
              "    }\n",
              "\n",
              "    .colab-df-convert {\n",
              "      background-color: #E8F0FE;\n",
              "      border: none;\n",
              "      border-radius: 50%;\n",
              "      cursor: pointer;\n",
              "      display: none;\n",
              "      fill: #1967D2;\n",
              "      height: 32px;\n",
              "      padding: 0 0 0 0;\n",
              "      width: 32px;\n",
              "    }\n",
              "\n",
              "    .colab-df-convert:hover {\n",
              "      background-color: #E2EBFA;\n",
              "      box-shadow: 0px 1px 2px rgba(60, 64, 67, 0.3), 0px 1px 3px 1px rgba(60, 64, 67, 0.15);\n",
              "      fill: #174EA6;\n",
              "    }\n",
              "\n",
              "    .colab-df-buttons div {\n",
              "      margin-bottom: 4px;\n",
              "    }\n",
              "\n",
              "    [theme=dark] .colab-df-convert {\n",
              "      background-color: #3B4455;\n",
              "      fill: #D2E3FC;\n",
              "    }\n",
              "\n",
              "    [theme=dark] .colab-df-convert:hover {\n",
              "      background-color: #434B5C;\n",
              "      box-shadow: 0px 1px 3px 1px rgba(0, 0, 0, 0.15);\n",
              "      filter: drop-shadow(0px 1px 2px rgba(0, 0, 0, 0.3));\n",
              "      fill: #FFFFFF;\n",
              "    }\n",
              "  </style>\n",
              "\n",
              "    <script>\n",
              "      const buttonEl =\n",
              "        document.querySelector('#df-04559d1c-a05b-4b36-8961-5b294e4af947 button.colab-df-convert');\n",
              "      buttonEl.style.display =\n",
              "        google.colab.kernel.accessAllowed ? 'block' : 'none';\n",
              "\n",
              "      async function convertToInteractive(key) {\n",
              "        const element = document.querySelector('#df-04559d1c-a05b-4b36-8961-5b294e4af947');\n",
              "        const dataTable =\n",
              "          await google.colab.kernel.invokeFunction('convertToInteractive',\n",
              "                                                    [key], {});\n",
              "        if (!dataTable) return;\n",
              "\n",
              "        const docLinkHtml = 'Like what you see? Visit the ' +\n",
              "          '<a target=\"_blank\" href=https://colab.research.google.com/notebooks/data_table.ipynb>data table notebook</a>'\n",
              "          + ' to learn more about interactive tables.';\n",
              "        element.innerHTML = '';\n",
              "        dataTable['output_type'] = 'display_data';\n",
              "        await google.colab.output.renderOutput(dataTable, element);\n",
              "        const docLink = document.createElement('div');\n",
              "        docLink.innerHTML = docLinkHtml;\n",
              "        element.appendChild(docLink);\n",
              "      }\n",
              "    </script>\n",
              "  </div>\n",
              "\n",
              "\n",
              "<div id=\"df-ed5bcc0a-773c-4999-93ea-282c5a59abfc\">\n",
              "  <button class=\"colab-df-quickchart\" onclick=\"quickchart('df-ed5bcc0a-773c-4999-93ea-282c5a59abfc')\"\n",
              "            title=\"Suggest charts\"\n",
              "            style=\"display:none;\">\n",
              "\n",
              "<svg xmlns=\"http://www.w3.org/2000/svg\" height=\"24px\"viewBox=\"0 0 24 24\"\n",
              "     width=\"24px\">\n",
              "    <g>\n",
              "        <path d=\"M19 3H5c-1.1 0-2 .9-2 2v14c0 1.1.9 2 2 2h14c1.1 0 2-.9 2-2V5c0-1.1-.9-2-2-2zM9 17H7v-7h2v7zm4 0h-2V7h2v10zm4 0h-2v-4h2v4z\"/>\n",
              "    </g>\n",
              "</svg>\n",
              "  </button>\n",
              "\n",
              "<style>\n",
              "  .colab-df-quickchart {\n",
              "      --bg-color: #E8F0FE;\n",
              "      --fill-color: #1967D2;\n",
              "      --hover-bg-color: #E2EBFA;\n",
              "      --hover-fill-color: #174EA6;\n",
              "      --disabled-fill-color: #AAA;\n",
              "      --disabled-bg-color: #DDD;\n",
              "  }\n",
              "\n",
              "  [theme=dark] .colab-df-quickchart {\n",
              "      --bg-color: #3B4455;\n",
              "      --fill-color: #D2E3FC;\n",
              "      --hover-bg-color: #434B5C;\n",
              "      --hover-fill-color: #FFFFFF;\n",
              "      --disabled-bg-color: #3B4455;\n",
              "      --disabled-fill-color: #666;\n",
              "  }\n",
              "\n",
              "  .colab-df-quickchart {\n",
              "    background-color: var(--bg-color);\n",
              "    border: none;\n",
              "    border-radius: 50%;\n",
              "    cursor: pointer;\n",
              "    display: none;\n",
              "    fill: var(--fill-color);\n",
              "    height: 32px;\n",
              "    padding: 0;\n",
              "    width: 32px;\n",
              "  }\n",
              "\n",
              "  .colab-df-quickchart:hover {\n",
              "    background-color: var(--hover-bg-color);\n",
              "    box-shadow: 0 1px 2px rgba(60, 64, 67, 0.3), 0 1px 3px 1px rgba(60, 64, 67, 0.15);\n",
              "    fill: var(--button-hover-fill-color);\n",
              "  }\n",
              "\n",
              "  .colab-df-quickchart-complete:disabled,\n",
              "  .colab-df-quickchart-complete:disabled:hover {\n",
              "    background-color: var(--disabled-bg-color);\n",
              "    fill: var(--disabled-fill-color);\n",
              "    box-shadow: none;\n",
              "  }\n",
              "\n",
              "  .colab-df-spinner {\n",
              "    border: 2px solid var(--fill-color);\n",
              "    border-color: transparent;\n",
              "    border-bottom-color: var(--fill-color);\n",
              "    animation:\n",
              "      spin 1s steps(1) infinite;\n",
              "  }\n",
              "\n",
              "  @keyframes spin {\n",
              "    0% {\n",
              "      border-color: transparent;\n",
              "      border-bottom-color: var(--fill-color);\n",
              "      border-left-color: var(--fill-color);\n",
              "    }\n",
              "    20% {\n",
              "      border-color: transparent;\n",
              "      border-left-color: var(--fill-color);\n",
              "      border-top-color: var(--fill-color);\n",
              "    }\n",
              "    30% {\n",
              "      border-color: transparent;\n",
              "      border-left-color: var(--fill-color);\n",
              "      border-top-color: var(--fill-color);\n",
              "      border-right-color: var(--fill-color);\n",
              "    }\n",
              "    40% {\n",
              "      border-color: transparent;\n",
              "      border-right-color: var(--fill-color);\n",
              "      border-top-color: var(--fill-color);\n",
              "    }\n",
              "    60% {\n",
              "      border-color: transparent;\n",
              "      border-right-color: var(--fill-color);\n",
              "    }\n",
              "    80% {\n",
              "      border-color: transparent;\n",
              "      border-right-color: var(--fill-color);\n",
              "      border-bottom-color: var(--fill-color);\n",
              "    }\n",
              "    90% {\n",
              "      border-color: transparent;\n",
              "      border-bottom-color: var(--fill-color);\n",
              "    }\n",
              "  }\n",
              "</style>\n",
              "\n",
              "  <script>\n",
              "    async function quickchart(key) {\n",
              "      const quickchartButtonEl =\n",
              "        document.querySelector('#' + key + ' button');\n",
              "      quickchartButtonEl.disabled = true;  // To prevent multiple clicks.\n",
              "      quickchartButtonEl.classList.add('colab-df-spinner');\n",
              "      try {\n",
              "        const charts = await google.colab.kernel.invokeFunction(\n",
              "            'suggestCharts', [key], {});\n",
              "      } catch (error) {\n",
              "        console.error('Error during call to suggestCharts:', error);\n",
              "      }\n",
              "      quickchartButtonEl.classList.remove('colab-df-spinner');\n",
              "      quickchartButtonEl.classList.add('colab-df-quickchart-complete');\n",
              "    }\n",
              "    (() => {\n",
              "      let quickchartButtonEl =\n",
              "        document.querySelector('#df-ed5bcc0a-773c-4999-93ea-282c5a59abfc button');\n",
              "      quickchartButtonEl.style.display =\n",
              "        google.colab.kernel.accessAllowed ? 'block' : 'none';\n",
              "    })();\n",
              "  </script>\n",
              "</div>\n",
              "    </div>\n",
              "  </div>\n"
            ],
            "application/vnd.google.colaboratory.intrinsic+json": {
              "type": "dataframe",
              "variable_name": "data",
              "summary": "{\n  \"name\": \"data\",\n  \"rows\": 40000,\n  \"fields\": [\n    {\n      \"column\": \"text\",\n      \"properties\": {\n        \"dtype\": \"string\",\n        \"num_unique_values\": 39723,\n        \"samples\": [\n          \"There are similarities between Ray Lawrence's \\\"Jindabyne\\\" and his last movie \\\"Lantana\\\" \\u0096 a dead body and its repercussions for already dysfunctional lives. But whereas \\\"Lantana\\\" offered some hope and resolution, \\\"Jindabyne\\\" leaves everything unresolved in a bleak way that will leave most viewers unsatisfied, perhaps even cheated.<br /><br />The storyline - the aftermath of a fisherman's discovery of a corpse floating in a remote river - is based on a short story by Raymond Carver. It became an element in Robert Altman's classic 1993 ensemble \\\"Short Cuts\\\". Lawrence uses this theme for an exploration and exposition of relationships within a small Australian community under stress. The movie poses some moral questions \\\"Would you let the discovery of a dead body ruin your good weekend?\\\" and more poignantly for Australians \\\"Would it make any difference if the dead person was an aboriginal?\\\" The acting, especially by Gabriel Byrne and Laura Linney, is commendable. And there are elements of mysticism reinforced by haunting music, not unlike \\\"Picnic at Hanging Rock\\\".<br /><br />If all this sounds like the basis for a great movie - be prepared for a let down, the pace is very slow and the murder is shown near the beginning, thereby eliminating the element of mystery. And so we are left with these desolate lives and a blank finale.\",\n          \"Hammer House of Horror: Witching Time is set in rural England on Woodstock farm where stressed musician David Winter (Jon Finch) lives with his actress wife Mary (Prunella Gee) & is currently composing the music for a horror film. One night while looking for his dog Billy David finds a mysterious woman in his barn, calling herself Lucinda Jessop (Patricia Quinn) she claims to be a witch who has transported herself from 300 years in the past to now. Obviously rather sceptical David has a hard time believing her so he locks her in a room in his farmhouse & calls his doctor Charles (Ian McCulloch) to come examine her, however once he arrives & they enter the room Lucinda has disappeared. Charles puts it down to David drinking too much but over the next few day strange & disturbing things begin to happen to David & Mary...<br /><br />Witching Time was episode 1 from the short lived British anthology horror series produced by Hammer studios for TV & originally aired here in the UK during September 1980, the first of two Hammer House of Horror episodes to be directed by Don Leaver (episode 13 The Mark of Satan being the other) I actually rather liked this. As a series Hammer House of Horror dealt with various different themes & were all unconnected to each other except in name & unsurprisingly Watching Time is a sinister & effective little tale about a witch, the script by Anthony Read benefits from it's slight 50 odd minute duration & moves along at a nice pace. The character's are pretty good as is the dialogue, there are some nice scenes here & I liked the way it never quite reveals whether David & Mary are going crazy or not. I think it's a well structured, entertaining & reasonably creepy horror themed TV show that I enjoyed more than I thought I would.<br /><br />Being made for British TV meant the boys at Hammer had a lower budget than usual, if that was even possible, & as such there is no gorgeous period settings here as in their most well know Frankenstein & Dracula films although the contemporary English setting does give it a certain atmosphere that you can relate to a bit more. Another TV based restriction is that the exploitation levels are lower than you might hope for, there's some nudity & gore but not much although I didn't mind too much as the story here is pretty good. It's well made for what it is & Hammer's experience on their feature films probably helped make these look pretty good, the acting is good as well with genre favourite Ian McCulloch making a bit-part appearance.<br /><br />Witching Time is a good start to the Hammer House of Horror series, as a 50 minute piece of British TV it's pretty damned good, now why don't they make show's like this over here anymore?\",\n          \"What a great cast for this movie. The timing was excellent and there were so many clever lines-several times I was still laughing minutes after they were delivered. I found Manna From Heaven to have some surprising moments and while there were things I was thinking would happen, the way they came together was anything but predictable. This movie is about hope and righting wrongs. I left the theater feeling inspired to do the right thing. Bravo to the Five Sisters.\"\n        ],\n        \"semantic_type\": \"\",\n        \"description\": \"\"\n      }\n    },\n    {\n      \"column\": \"label\",\n      \"properties\": {\n        \"dtype\": \"number\",\n        \"std\": 0,\n        \"min\": 0,\n        \"max\": 1,\n        \"num_unique_values\": 2,\n        \"samples\": [\n          1,\n          0\n        ],\n        \"semantic_type\": \"\",\n        \"description\": \"\"\n      }\n    }\n  ]\n}"
            }
          },
          "metadata": {},
          "execution_count": 33
        }
      ]
    },
    {
      "cell_type": "code",
      "source": [
        "data['label'].value_counts(normalize=True)"
      ],
      "metadata": {
        "colab": {
          "base_uri": "https://localhost:8080/"
        },
        "id": "b5nC-PLKITTs",
        "outputId": "6eedeef2-ba91-493e-e18f-4405c592614d"
      },
      "execution_count": 34,
      "outputs": [
        {
          "output_type": "execute_result",
          "data": {
            "text/plain": [
              "0    0.500475\n",
              "1    0.499525\n",
              "Name: label, dtype: float64"
            ]
          },
          "metadata": {},
          "execution_count": 34
        }
      ]
    },
    {
      "cell_type": "code",
      "source": [
        "nltk.download('stopwords')\n",
        "# We filter out the english language stopwrds\n",
        "\n",
        "stop_words = stopwords.words('english')\n",
        "print(stop_words)"
      ],
      "metadata": {
        "colab": {
          "base_uri": "https://localhost:8080/"
        },
        "id": "9QSdB-kqD28T",
        "outputId": "6d0ceab8-a142-4e89-876e-e4088ce57f8e"
      },
      "execution_count": 35,
      "outputs": [
        {
          "output_type": "stream",
          "name": "stdout",
          "text": [
            "['i', 'me', 'my', 'myself', 'we', 'our', 'ours', 'ourselves', 'you', \"you're\", \"you've\", \"you'll\", \"you'd\", 'your', 'yours', 'yourself', 'yourselves', 'he', 'him', 'his', 'himself', 'she', \"she's\", 'her', 'hers', 'herself', 'it', \"it's\", 'its', 'itself', 'they', 'them', 'their', 'theirs', 'themselves', 'what', 'which', 'who', 'whom', 'this', 'that', \"that'll\", 'these', 'those', 'am', 'is', 'are', 'was', 'were', 'be', 'been', 'being', 'have', 'has', 'had', 'having', 'do', 'does', 'did', 'doing', 'a', 'an', 'the', 'and', 'but', 'if', 'or', 'because', 'as', 'until', 'while', 'of', 'at', 'by', 'for', 'with', 'about', 'against', 'between', 'into', 'through', 'during', 'before', 'after', 'above', 'below', 'to', 'from', 'up', 'down', 'in', 'out', 'on', 'off', 'over', 'under', 'again', 'further', 'then', 'once', 'here', 'there', 'when', 'where', 'why', 'how', 'all', 'any', 'both', 'each', 'few', 'more', 'most', 'other', 'some', 'such', 'no', 'nor', 'not', 'only', 'own', 'same', 'so', 'than', 'too', 'very', 's', 't', 'can', 'will', 'just', 'don', \"don't\", 'should', \"should've\", 'now', 'd', 'll', 'm', 'o', 're', 've', 'y', 'ain', 'aren', \"aren't\", 'couldn', \"couldn't\", 'didn', \"didn't\", 'doesn', \"doesn't\", 'hadn', \"hadn't\", 'hasn', \"hasn't\", 'haven', \"haven't\", 'isn', \"isn't\", 'ma', 'mightn', \"mightn't\", 'mustn', \"mustn't\", 'needn', \"needn't\", 'shan', \"shan't\", 'shouldn', \"shouldn't\", 'wasn', \"wasn't\", 'weren', \"weren't\", 'won', \"won't\", 'wouldn', \"wouldn't\"]\n"
          ]
        },
        {
          "output_type": "stream",
          "name": "stderr",
          "text": [
            "[nltk_data] Downloading package stopwords to /root/nltk_data...\n",
            "[nltk_data]   Package stopwords is already up-to-date!\n"
          ]
        }
      ]
    },
    {
      "cell_type": "code",
      "source": [
        "remove_chars = \"@S+|https?:S+|http?:S|[^A-Za-z0-9]+\""
      ],
      "metadata": {
        "id": "FKSomaXeXERS"
      },
      "execution_count": 36,
      "outputs": []
    },
    {
      "cell_type": "code",
      "source": [
        "def tokenize_text(text):\n",
        "  # Text passed to the regex equatio\n",
        "  text = re.sub(remove_chars, ' ', str(text).lower()).strip()\n",
        "  # Empty list created to store final tokens\n",
        "  tokens = []\n",
        "  for token in text.split():\n",
        "    # check if the token is a stop word or not\n",
        "    if token not in stop_words:\n",
        "        tokens.append(token)\n",
        "  return \" \".join(tokens)"
      ],
      "metadata": {
        "id": "u-elSAt3I7gU"
      },
      "execution_count": 37,
      "outputs": []
    },
    {
      "cell_type": "code",
      "source": [
        "data['tokenized_text'] = data['text'].apply(lambda x: tokenize_text(x))"
      ],
      "metadata": {
        "id": "pJKL12bgXs-M"
      },
      "execution_count": 38,
      "outputs": []
    },
    {
      "cell_type": "code",
      "source": [
        "data.head()"
      ],
      "metadata": {
        "colab": {
          "base_uri": "https://localhost:8080/",
          "height": 206
        },
        "id": "DLQcn7V4X5lb",
        "outputId": "8343fbc7-9b18-4b2f-f80f-ac91b7fe8f22"
      },
      "execution_count": 39,
      "outputs": [
        {
          "output_type": "execute_result",
          "data": {
            "text/plain": [
              "                                                text  label  \\\n",
              "0  I grew up (b. 1965) watching and loving the Th...      0   \n",
              "1  When I put this movie in my DVD player, and sa...      0   \n",
              "2  Why do people who do not know what a particula...      0   \n",
              "3  Even though I have great interest in Biblical ...      0   \n",
              "4  Im a die hard Dads Army fan and nothing will e...      1   \n",
              "\n",
              "                                      tokenized_text  \n",
              "0  grew b 1965 watching loving thunderbirds mates...  \n",
              "1  put movie dvd player sat coke chips expectatio...  \n",
              "2  people know particular time past like feel nee...  \n",
              "3  even though great interest biblical movies bor...  \n",
              "4  im die hard dads army fan nothing ever change ...  "
            ],
            "text/html": [
              "\n",
              "  <div id=\"df-da6ea48a-12b9-4d84-8e04-40abb038fd61\" class=\"colab-df-container\">\n",
              "    <div>\n",
              "<style scoped>\n",
              "    .dataframe tbody tr th:only-of-type {\n",
              "        vertical-align: middle;\n",
              "    }\n",
              "\n",
              "    .dataframe tbody tr th {\n",
              "        vertical-align: top;\n",
              "    }\n",
              "\n",
              "    .dataframe thead th {\n",
              "        text-align: right;\n",
              "    }\n",
              "</style>\n",
              "<table border=\"1\" class=\"dataframe\">\n",
              "  <thead>\n",
              "    <tr style=\"text-align: right;\">\n",
              "      <th></th>\n",
              "      <th>text</th>\n",
              "      <th>label</th>\n",
              "      <th>tokenized_text</th>\n",
              "    </tr>\n",
              "  </thead>\n",
              "  <tbody>\n",
              "    <tr>\n",
              "      <th>0</th>\n",
              "      <td>I grew up (b. 1965) watching and loving the Th...</td>\n",
              "      <td>0</td>\n",
              "      <td>grew b 1965 watching loving thunderbirds mates...</td>\n",
              "    </tr>\n",
              "    <tr>\n",
              "      <th>1</th>\n",
              "      <td>When I put this movie in my DVD player, and sa...</td>\n",
              "      <td>0</td>\n",
              "      <td>put movie dvd player sat coke chips expectatio...</td>\n",
              "    </tr>\n",
              "    <tr>\n",
              "      <th>2</th>\n",
              "      <td>Why do people who do not know what a particula...</td>\n",
              "      <td>0</td>\n",
              "      <td>people know particular time past like feel nee...</td>\n",
              "    </tr>\n",
              "    <tr>\n",
              "      <th>3</th>\n",
              "      <td>Even though I have great interest in Biblical ...</td>\n",
              "      <td>0</td>\n",
              "      <td>even though great interest biblical movies bor...</td>\n",
              "    </tr>\n",
              "    <tr>\n",
              "      <th>4</th>\n",
              "      <td>Im a die hard Dads Army fan and nothing will e...</td>\n",
              "      <td>1</td>\n",
              "      <td>im die hard dads army fan nothing ever change ...</td>\n",
              "    </tr>\n",
              "  </tbody>\n",
              "</table>\n",
              "</div>\n",
              "    <div class=\"colab-df-buttons\">\n",
              "\n",
              "  <div class=\"colab-df-container\">\n",
              "    <button class=\"colab-df-convert\" onclick=\"convertToInteractive('df-da6ea48a-12b9-4d84-8e04-40abb038fd61')\"\n",
              "            title=\"Convert this dataframe to an interactive table.\"\n",
              "            style=\"display:none;\">\n",
              "\n",
              "  <svg xmlns=\"http://www.w3.org/2000/svg\" height=\"24px\" viewBox=\"0 -960 960 960\">\n",
              "    <path d=\"M120-120v-720h720v720H120Zm60-500h600v-160H180v160Zm220 220h160v-160H400v160Zm0 220h160v-160H400v160ZM180-400h160v-160H180v160Zm440 0h160v-160H620v160ZM180-180h160v-160H180v160Zm440 0h160v-160H620v160Z\"/>\n",
              "  </svg>\n",
              "    </button>\n",
              "\n",
              "  <style>\n",
              "    .colab-df-container {\n",
              "      display:flex;\n",
              "      gap: 12px;\n",
              "    }\n",
              "\n",
              "    .colab-df-convert {\n",
              "      background-color: #E8F0FE;\n",
              "      border: none;\n",
              "      border-radius: 50%;\n",
              "      cursor: pointer;\n",
              "      display: none;\n",
              "      fill: #1967D2;\n",
              "      height: 32px;\n",
              "      padding: 0 0 0 0;\n",
              "      width: 32px;\n",
              "    }\n",
              "\n",
              "    .colab-df-convert:hover {\n",
              "      background-color: #E2EBFA;\n",
              "      box-shadow: 0px 1px 2px rgba(60, 64, 67, 0.3), 0px 1px 3px 1px rgba(60, 64, 67, 0.15);\n",
              "      fill: #174EA6;\n",
              "    }\n",
              "\n",
              "    .colab-df-buttons div {\n",
              "      margin-bottom: 4px;\n",
              "    }\n",
              "\n",
              "    [theme=dark] .colab-df-convert {\n",
              "      background-color: #3B4455;\n",
              "      fill: #D2E3FC;\n",
              "    }\n",
              "\n",
              "    [theme=dark] .colab-df-convert:hover {\n",
              "      background-color: #434B5C;\n",
              "      box-shadow: 0px 1px 3px 1px rgba(0, 0, 0, 0.15);\n",
              "      filter: drop-shadow(0px 1px 2px rgba(0, 0, 0, 0.3));\n",
              "      fill: #FFFFFF;\n",
              "    }\n",
              "  </style>\n",
              "\n",
              "    <script>\n",
              "      const buttonEl =\n",
              "        document.querySelector('#df-da6ea48a-12b9-4d84-8e04-40abb038fd61 button.colab-df-convert');\n",
              "      buttonEl.style.display =\n",
              "        google.colab.kernel.accessAllowed ? 'block' : 'none';\n",
              "\n",
              "      async function convertToInteractive(key) {\n",
              "        const element = document.querySelector('#df-da6ea48a-12b9-4d84-8e04-40abb038fd61');\n",
              "        const dataTable =\n",
              "          await google.colab.kernel.invokeFunction('convertToInteractive',\n",
              "                                                    [key], {});\n",
              "        if (!dataTable) return;\n",
              "\n",
              "        const docLinkHtml = 'Like what you see? Visit the ' +\n",
              "          '<a target=\"_blank\" href=https://colab.research.google.com/notebooks/data_table.ipynb>data table notebook</a>'\n",
              "          + ' to learn more about interactive tables.';\n",
              "        element.innerHTML = '';\n",
              "        dataTable['output_type'] = 'display_data';\n",
              "        await google.colab.output.renderOutput(dataTable, element);\n",
              "        const docLink = document.createElement('div');\n",
              "        docLink.innerHTML = docLinkHtml;\n",
              "        element.appendChild(docLink);\n",
              "      }\n",
              "    </script>\n",
              "  </div>\n",
              "\n",
              "\n",
              "<div id=\"df-d16414a5-c58a-4cdb-9dca-8bfb5c2163bd\">\n",
              "  <button class=\"colab-df-quickchart\" onclick=\"quickchart('df-d16414a5-c58a-4cdb-9dca-8bfb5c2163bd')\"\n",
              "            title=\"Suggest charts\"\n",
              "            style=\"display:none;\">\n",
              "\n",
              "<svg xmlns=\"http://www.w3.org/2000/svg\" height=\"24px\"viewBox=\"0 0 24 24\"\n",
              "     width=\"24px\">\n",
              "    <g>\n",
              "        <path d=\"M19 3H5c-1.1 0-2 .9-2 2v14c0 1.1.9 2 2 2h14c1.1 0 2-.9 2-2V5c0-1.1-.9-2-2-2zM9 17H7v-7h2v7zm4 0h-2V7h2v10zm4 0h-2v-4h2v4z\"/>\n",
              "    </g>\n",
              "</svg>\n",
              "  </button>\n",
              "\n",
              "<style>\n",
              "  .colab-df-quickchart {\n",
              "      --bg-color: #E8F0FE;\n",
              "      --fill-color: #1967D2;\n",
              "      --hover-bg-color: #E2EBFA;\n",
              "      --hover-fill-color: #174EA6;\n",
              "      --disabled-fill-color: #AAA;\n",
              "      --disabled-bg-color: #DDD;\n",
              "  }\n",
              "\n",
              "  [theme=dark] .colab-df-quickchart {\n",
              "      --bg-color: #3B4455;\n",
              "      --fill-color: #D2E3FC;\n",
              "      --hover-bg-color: #434B5C;\n",
              "      --hover-fill-color: #FFFFFF;\n",
              "      --disabled-bg-color: #3B4455;\n",
              "      --disabled-fill-color: #666;\n",
              "  }\n",
              "\n",
              "  .colab-df-quickchart {\n",
              "    background-color: var(--bg-color);\n",
              "    border: none;\n",
              "    border-radius: 50%;\n",
              "    cursor: pointer;\n",
              "    display: none;\n",
              "    fill: var(--fill-color);\n",
              "    height: 32px;\n",
              "    padding: 0;\n",
              "    width: 32px;\n",
              "  }\n",
              "\n",
              "  .colab-df-quickchart:hover {\n",
              "    background-color: var(--hover-bg-color);\n",
              "    box-shadow: 0 1px 2px rgba(60, 64, 67, 0.3), 0 1px 3px 1px rgba(60, 64, 67, 0.15);\n",
              "    fill: var(--button-hover-fill-color);\n",
              "  }\n",
              "\n",
              "  .colab-df-quickchart-complete:disabled,\n",
              "  .colab-df-quickchart-complete:disabled:hover {\n",
              "    background-color: var(--disabled-bg-color);\n",
              "    fill: var(--disabled-fill-color);\n",
              "    box-shadow: none;\n",
              "  }\n",
              "\n",
              "  .colab-df-spinner {\n",
              "    border: 2px solid var(--fill-color);\n",
              "    border-color: transparent;\n",
              "    border-bottom-color: var(--fill-color);\n",
              "    animation:\n",
              "      spin 1s steps(1) infinite;\n",
              "  }\n",
              "\n",
              "  @keyframes spin {\n",
              "    0% {\n",
              "      border-color: transparent;\n",
              "      border-bottom-color: var(--fill-color);\n",
              "      border-left-color: var(--fill-color);\n",
              "    }\n",
              "    20% {\n",
              "      border-color: transparent;\n",
              "      border-left-color: var(--fill-color);\n",
              "      border-top-color: var(--fill-color);\n",
              "    }\n",
              "    30% {\n",
              "      border-color: transparent;\n",
              "      border-left-color: var(--fill-color);\n",
              "      border-top-color: var(--fill-color);\n",
              "      border-right-color: var(--fill-color);\n",
              "    }\n",
              "    40% {\n",
              "      border-color: transparent;\n",
              "      border-right-color: var(--fill-color);\n",
              "      border-top-color: var(--fill-color);\n",
              "    }\n",
              "    60% {\n",
              "      border-color: transparent;\n",
              "      border-right-color: var(--fill-color);\n",
              "    }\n",
              "    80% {\n",
              "      border-color: transparent;\n",
              "      border-right-color: var(--fill-color);\n",
              "      border-bottom-color: var(--fill-color);\n",
              "    }\n",
              "    90% {\n",
              "      border-color: transparent;\n",
              "      border-bottom-color: var(--fill-color);\n",
              "    }\n",
              "  }\n",
              "</style>\n",
              "\n",
              "  <script>\n",
              "    async function quickchart(key) {\n",
              "      const quickchartButtonEl =\n",
              "        document.querySelector('#' + key + ' button');\n",
              "      quickchartButtonEl.disabled = true;  // To prevent multiple clicks.\n",
              "      quickchartButtonEl.classList.add('colab-df-spinner');\n",
              "      try {\n",
              "        const charts = await google.colab.kernel.invokeFunction(\n",
              "            'suggestCharts', [key], {});\n",
              "      } catch (error) {\n",
              "        console.error('Error during call to suggestCharts:', error);\n",
              "      }\n",
              "      quickchartButtonEl.classList.remove('colab-df-spinner');\n",
              "      quickchartButtonEl.classList.add('colab-df-quickchart-complete');\n",
              "    }\n",
              "    (() => {\n",
              "      let quickchartButtonEl =\n",
              "        document.querySelector('#df-d16414a5-c58a-4cdb-9dca-8bfb5c2163bd button');\n",
              "      quickchartButtonEl.style.display =\n",
              "        google.colab.kernel.accessAllowed ? 'block' : 'none';\n",
              "    })();\n",
              "  </script>\n",
              "</div>\n",
              "    </div>\n",
              "  </div>\n"
            ],
            "application/vnd.google.colaboratory.intrinsic+json": {
              "type": "dataframe",
              "variable_name": "data",
              "summary": "{\n  \"name\": \"data\",\n  \"rows\": 40000,\n  \"fields\": [\n    {\n      \"column\": \"text\",\n      \"properties\": {\n        \"dtype\": \"string\",\n        \"num_unique_values\": 39723,\n        \"samples\": [\n          \"There are similarities between Ray Lawrence's \\\"Jindabyne\\\" and his last movie \\\"Lantana\\\" \\u0096 a dead body and its repercussions for already dysfunctional lives. But whereas \\\"Lantana\\\" offered some hope and resolution, \\\"Jindabyne\\\" leaves everything unresolved in a bleak way that will leave most viewers unsatisfied, perhaps even cheated.<br /><br />The storyline - the aftermath of a fisherman's discovery of a corpse floating in a remote river - is based on a short story by Raymond Carver. It became an element in Robert Altman's classic 1993 ensemble \\\"Short Cuts\\\". Lawrence uses this theme for an exploration and exposition of relationships within a small Australian community under stress. The movie poses some moral questions \\\"Would you let the discovery of a dead body ruin your good weekend?\\\" and more poignantly for Australians \\\"Would it make any difference if the dead person was an aboriginal?\\\" The acting, especially by Gabriel Byrne and Laura Linney, is commendable. And there are elements of mysticism reinforced by haunting music, not unlike \\\"Picnic at Hanging Rock\\\".<br /><br />If all this sounds like the basis for a great movie - be prepared for a let down, the pace is very slow and the murder is shown near the beginning, thereby eliminating the element of mystery. And so we are left with these desolate lives and a blank finale.\",\n          \"Hammer House of Horror: Witching Time is set in rural England on Woodstock farm where stressed musician David Winter (Jon Finch) lives with his actress wife Mary (Prunella Gee) & is currently composing the music for a horror film. One night while looking for his dog Billy David finds a mysterious woman in his barn, calling herself Lucinda Jessop (Patricia Quinn) she claims to be a witch who has transported herself from 300 years in the past to now. Obviously rather sceptical David has a hard time believing her so he locks her in a room in his farmhouse & calls his doctor Charles (Ian McCulloch) to come examine her, however once he arrives & they enter the room Lucinda has disappeared. Charles puts it down to David drinking too much but over the next few day strange & disturbing things begin to happen to David & Mary...<br /><br />Witching Time was episode 1 from the short lived British anthology horror series produced by Hammer studios for TV & originally aired here in the UK during September 1980, the first of two Hammer House of Horror episodes to be directed by Don Leaver (episode 13 The Mark of Satan being the other) I actually rather liked this. As a series Hammer House of Horror dealt with various different themes & were all unconnected to each other except in name & unsurprisingly Watching Time is a sinister & effective little tale about a witch, the script by Anthony Read benefits from it's slight 50 odd minute duration & moves along at a nice pace. The character's are pretty good as is the dialogue, there are some nice scenes here & I liked the way it never quite reveals whether David & Mary are going crazy or not. I think it's a well structured, entertaining & reasonably creepy horror themed TV show that I enjoyed more than I thought I would.<br /><br />Being made for British TV meant the boys at Hammer had a lower budget than usual, if that was even possible, & as such there is no gorgeous period settings here as in their most well know Frankenstein & Dracula films although the contemporary English setting does give it a certain atmosphere that you can relate to a bit more. Another TV based restriction is that the exploitation levels are lower than you might hope for, there's some nudity & gore but not much although I didn't mind too much as the story here is pretty good. It's well made for what it is & Hammer's experience on their feature films probably helped make these look pretty good, the acting is good as well with genre favourite Ian McCulloch making a bit-part appearance.<br /><br />Witching Time is a good start to the Hammer House of Horror series, as a 50 minute piece of British TV it's pretty damned good, now why don't they make show's like this over here anymore?\",\n          \"What a great cast for this movie. The timing was excellent and there were so many clever lines-several times I was still laughing minutes after they were delivered. I found Manna From Heaven to have some surprising moments and while there were things I was thinking would happen, the way they came together was anything but predictable. This movie is about hope and righting wrongs. I left the theater feeling inspired to do the right thing. Bravo to the Five Sisters.\"\n        ],\n        \"semantic_type\": \"\",\n        \"description\": \"\"\n      }\n    },\n    {\n      \"column\": \"label\",\n      \"properties\": {\n        \"dtype\": \"number\",\n        \"std\": 0,\n        \"min\": 0,\n        \"max\": 1,\n        \"num_unique_values\": 2,\n        \"samples\": [\n          1,\n          0\n        ],\n        \"semantic_type\": \"\",\n        \"description\": \"\"\n      }\n    },\n    {\n      \"column\": \"tokenized_text\",\n      \"properties\": {\n        \"dtype\": \"string\",\n        \"num_unique_values\": 39720,\n        \"samples\": [\n          \"always bit distrust watching british period films usually find insipid boring screenplays ones example vanity fair boleyn girl magnificent production design european landscapes thick british accents make movies suggest artistic value really fortunately excellent film young victoria fall situation deserves enthusiastic recommendation fascinating story excellent performances emily blunt paul bettany jim broadbent costumes locations unexpectedly make movie pretty rich view say unexpectedly usually pay much attention details br br victorian era humble opinion one key points contemporary civilization social aspect also scientific artistic cultural ones honestly know origins era much maybe enjoyed simplification political economic events prepared landing modern era much also liked way queen victoria portrayed young intelligent monarch whose decisions always good least inspired good intentions also found depiction romance victoria prince albert interesting equally interested combination intellects well emotions evokes fail found movie screenwriter julian fellowes used clich romantic cinema love story something feels bit place screenplay br br liked young victoria much really took nice surprise hope period films follow example movie costumes landscapes work support interesting story replacement\",\n          \"p highly recommended two friends great br br similar mine taste films seen anyone know br br idea saw movie sadistic cruel repulsive fine entertaining movie windbag effort trying pass highbrow lowbrow movie making lowbrow highbrow br br ancient generation gap clich redeeming social value comes mind bill pullman trying maybe little hard except kid rest acting seems self conscious kinda lame br br save watch double feature cold blood hitcher br br somebody said would never made jennifer lynch overrated david lynch daughter\"\n        ],\n        \"semantic_type\": \"\",\n        \"description\": \"\"\n      }\n    }\n  ]\n}"
            }
          },
          "metadata": {},
          "execution_count": 39
        }
      ]
    },
    {
      "cell_type": "code",
      "source": [
        "train,test = train_test_split(data, test_size=0.25, random_state=42)"
      ],
      "metadata": {
        "id": "QH1ycOPwaWiT"
      },
      "execution_count": 40,
      "outputs": []
    },
    {
      "cell_type": "code",
      "source": [
        "train.reset_index(inplace=True, drop=True)\n",
        "test.reset_index(inplace=True, drop=True)"
      ],
      "metadata": {
        "id": "RHK12HNOWzNH"
      },
      "execution_count": 41,
      "outputs": []
    },
    {
      "cell_type": "code",
      "source": [
        "test.head()"
      ],
      "metadata": {
        "colab": {
          "base_uri": "https://localhost:8080/",
          "height": 206
        },
        "id": "4J01GbNrW64K",
        "outputId": "e370289e-cdeb-44d6-ec5a-af2898348490"
      },
      "execution_count": 42,
      "outputs": [
        {
          "output_type": "execute_result",
          "data": {
            "text/plain": [
              "                                                text  label  \\\n",
              "0  The central theme in this movie seems to be co...      0   \n",
              "1  An excellent example of \"cowboy noir\", as it's...      1   \n",
              "2  The ending made my heart jump up into my throa...      0   \n",
              "3  Only the chosen ones will appreciate the quali...      1   \n",
              "4  This is a really funny film, especially the se...      1   \n",
              "\n",
              "                                      tokenized_text  \n",
              "0  central theme movie seems confusion relationsh...  \n",
              "1  excellent example cowboy noir called unemploye...  \n",
              "2  ending made heart jump throat proceeded leave ...  \n",
              "3  chosen ones appreciate quality story character...  \n",
              "4  really funny film especially second third four...  "
            ],
            "text/html": [
              "\n",
              "  <div id=\"df-573bfa19-bcd0-4929-9caf-468edb0072c4\" class=\"colab-df-container\">\n",
              "    <div>\n",
              "<style scoped>\n",
              "    .dataframe tbody tr th:only-of-type {\n",
              "        vertical-align: middle;\n",
              "    }\n",
              "\n",
              "    .dataframe tbody tr th {\n",
              "        vertical-align: top;\n",
              "    }\n",
              "\n",
              "    .dataframe thead th {\n",
              "        text-align: right;\n",
              "    }\n",
              "</style>\n",
              "<table border=\"1\" class=\"dataframe\">\n",
              "  <thead>\n",
              "    <tr style=\"text-align: right;\">\n",
              "      <th></th>\n",
              "      <th>text</th>\n",
              "      <th>label</th>\n",
              "      <th>tokenized_text</th>\n",
              "    </tr>\n",
              "  </thead>\n",
              "  <tbody>\n",
              "    <tr>\n",
              "      <th>0</th>\n",
              "      <td>The central theme in this movie seems to be co...</td>\n",
              "      <td>0</td>\n",
              "      <td>central theme movie seems confusion relationsh...</td>\n",
              "    </tr>\n",
              "    <tr>\n",
              "      <th>1</th>\n",
              "      <td>An excellent example of \"cowboy noir\", as it's...</td>\n",
              "      <td>1</td>\n",
              "      <td>excellent example cowboy noir called unemploye...</td>\n",
              "    </tr>\n",
              "    <tr>\n",
              "      <th>2</th>\n",
              "      <td>The ending made my heart jump up into my throa...</td>\n",
              "      <td>0</td>\n",
              "      <td>ending made heart jump throat proceeded leave ...</td>\n",
              "    </tr>\n",
              "    <tr>\n",
              "      <th>3</th>\n",
              "      <td>Only the chosen ones will appreciate the quali...</td>\n",
              "      <td>1</td>\n",
              "      <td>chosen ones appreciate quality story character...</td>\n",
              "    </tr>\n",
              "    <tr>\n",
              "      <th>4</th>\n",
              "      <td>This is a really funny film, especially the se...</td>\n",
              "      <td>1</td>\n",
              "      <td>really funny film especially second third four...</td>\n",
              "    </tr>\n",
              "  </tbody>\n",
              "</table>\n",
              "</div>\n",
              "    <div class=\"colab-df-buttons\">\n",
              "\n",
              "  <div class=\"colab-df-container\">\n",
              "    <button class=\"colab-df-convert\" onclick=\"convertToInteractive('df-573bfa19-bcd0-4929-9caf-468edb0072c4')\"\n",
              "            title=\"Convert this dataframe to an interactive table.\"\n",
              "            style=\"display:none;\">\n",
              "\n",
              "  <svg xmlns=\"http://www.w3.org/2000/svg\" height=\"24px\" viewBox=\"0 -960 960 960\">\n",
              "    <path d=\"M120-120v-720h720v720H120Zm60-500h600v-160H180v160Zm220 220h160v-160H400v160Zm0 220h160v-160H400v160ZM180-400h160v-160H180v160Zm440 0h160v-160H620v160ZM180-180h160v-160H180v160Zm440 0h160v-160H620v160Z\"/>\n",
              "  </svg>\n",
              "    </button>\n",
              "\n",
              "  <style>\n",
              "    .colab-df-container {\n",
              "      display:flex;\n",
              "      gap: 12px;\n",
              "    }\n",
              "\n",
              "    .colab-df-convert {\n",
              "      background-color: #E8F0FE;\n",
              "      border: none;\n",
              "      border-radius: 50%;\n",
              "      cursor: pointer;\n",
              "      display: none;\n",
              "      fill: #1967D2;\n",
              "      height: 32px;\n",
              "      padding: 0 0 0 0;\n",
              "      width: 32px;\n",
              "    }\n",
              "\n",
              "    .colab-df-convert:hover {\n",
              "      background-color: #E2EBFA;\n",
              "      box-shadow: 0px 1px 2px rgba(60, 64, 67, 0.3), 0px 1px 3px 1px rgba(60, 64, 67, 0.15);\n",
              "      fill: #174EA6;\n",
              "    }\n",
              "\n",
              "    .colab-df-buttons div {\n",
              "      margin-bottom: 4px;\n",
              "    }\n",
              "\n",
              "    [theme=dark] .colab-df-convert {\n",
              "      background-color: #3B4455;\n",
              "      fill: #D2E3FC;\n",
              "    }\n",
              "\n",
              "    [theme=dark] .colab-df-convert:hover {\n",
              "      background-color: #434B5C;\n",
              "      box-shadow: 0px 1px 3px 1px rgba(0, 0, 0, 0.15);\n",
              "      filter: drop-shadow(0px 1px 2px rgba(0, 0, 0, 0.3));\n",
              "      fill: #FFFFFF;\n",
              "    }\n",
              "  </style>\n",
              "\n",
              "    <script>\n",
              "      const buttonEl =\n",
              "        document.querySelector('#df-573bfa19-bcd0-4929-9caf-468edb0072c4 button.colab-df-convert');\n",
              "      buttonEl.style.display =\n",
              "        google.colab.kernel.accessAllowed ? 'block' : 'none';\n",
              "\n",
              "      async function convertToInteractive(key) {\n",
              "        const element = document.querySelector('#df-573bfa19-bcd0-4929-9caf-468edb0072c4');\n",
              "        const dataTable =\n",
              "          await google.colab.kernel.invokeFunction('convertToInteractive',\n",
              "                                                    [key], {});\n",
              "        if (!dataTable) return;\n",
              "\n",
              "        const docLinkHtml = 'Like what you see? Visit the ' +\n",
              "          '<a target=\"_blank\" href=https://colab.research.google.com/notebooks/data_table.ipynb>data table notebook</a>'\n",
              "          + ' to learn more about interactive tables.';\n",
              "        element.innerHTML = '';\n",
              "        dataTable['output_type'] = 'display_data';\n",
              "        await google.colab.output.renderOutput(dataTable, element);\n",
              "        const docLink = document.createElement('div');\n",
              "        docLink.innerHTML = docLinkHtml;\n",
              "        element.appendChild(docLink);\n",
              "      }\n",
              "    </script>\n",
              "  </div>\n",
              "\n",
              "\n",
              "<div id=\"df-7d16bbd2-e75d-46a1-b38c-e064cffdb6b1\">\n",
              "  <button class=\"colab-df-quickchart\" onclick=\"quickchart('df-7d16bbd2-e75d-46a1-b38c-e064cffdb6b1')\"\n",
              "            title=\"Suggest charts\"\n",
              "            style=\"display:none;\">\n",
              "\n",
              "<svg xmlns=\"http://www.w3.org/2000/svg\" height=\"24px\"viewBox=\"0 0 24 24\"\n",
              "     width=\"24px\">\n",
              "    <g>\n",
              "        <path d=\"M19 3H5c-1.1 0-2 .9-2 2v14c0 1.1.9 2 2 2h14c1.1 0 2-.9 2-2V5c0-1.1-.9-2-2-2zM9 17H7v-7h2v7zm4 0h-2V7h2v10zm4 0h-2v-4h2v4z\"/>\n",
              "    </g>\n",
              "</svg>\n",
              "  </button>\n",
              "\n",
              "<style>\n",
              "  .colab-df-quickchart {\n",
              "      --bg-color: #E8F0FE;\n",
              "      --fill-color: #1967D2;\n",
              "      --hover-bg-color: #E2EBFA;\n",
              "      --hover-fill-color: #174EA6;\n",
              "      --disabled-fill-color: #AAA;\n",
              "      --disabled-bg-color: #DDD;\n",
              "  }\n",
              "\n",
              "  [theme=dark] .colab-df-quickchart {\n",
              "      --bg-color: #3B4455;\n",
              "      --fill-color: #D2E3FC;\n",
              "      --hover-bg-color: #434B5C;\n",
              "      --hover-fill-color: #FFFFFF;\n",
              "      --disabled-bg-color: #3B4455;\n",
              "      --disabled-fill-color: #666;\n",
              "  }\n",
              "\n",
              "  .colab-df-quickchart {\n",
              "    background-color: var(--bg-color);\n",
              "    border: none;\n",
              "    border-radius: 50%;\n",
              "    cursor: pointer;\n",
              "    display: none;\n",
              "    fill: var(--fill-color);\n",
              "    height: 32px;\n",
              "    padding: 0;\n",
              "    width: 32px;\n",
              "  }\n",
              "\n",
              "  .colab-df-quickchart:hover {\n",
              "    background-color: var(--hover-bg-color);\n",
              "    box-shadow: 0 1px 2px rgba(60, 64, 67, 0.3), 0 1px 3px 1px rgba(60, 64, 67, 0.15);\n",
              "    fill: var(--button-hover-fill-color);\n",
              "  }\n",
              "\n",
              "  .colab-df-quickchart-complete:disabled,\n",
              "  .colab-df-quickchart-complete:disabled:hover {\n",
              "    background-color: var(--disabled-bg-color);\n",
              "    fill: var(--disabled-fill-color);\n",
              "    box-shadow: none;\n",
              "  }\n",
              "\n",
              "  .colab-df-spinner {\n",
              "    border: 2px solid var(--fill-color);\n",
              "    border-color: transparent;\n",
              "    border-bottom-color: var(--fill-color);\n",
              "    animation:\n",
              "      spin 1s steps(1) infinite;\n",
              "  }\n",
              "\n",
              "  @keyframes spin {\n",
              "    0% {\n",
              "      border-color: transparent;\n",
              "      border-bottom-color: var(--fill-color);\n",
              "      border-left-color: var(--fill-color);\n",
              "    }\n",
              "    20% {\n",
              "      border-color: transparent;\n",
              "      border-left-color: var(--fill-color);\n",
              "      border-top-color: var(--fill-color);\n",
              "    }\n",
              "    30% {\n",
              "      border-color: transparent;\n",
              "      border-left-color: var(--fill-color);\n",
              "      border-top-color: var(--fill-color);\n",
              "      border-right-color: var(--fill-color);\n",
              "    }\n",
              "    40% {\n",
              "      border-color: transparent;\n",
              "      border-right-color: var(--fill-color);\n",
              "      border-top-color: var(--fill-color);\n",
              "    }\n",
              "    60% {\n",
              "      border-color: transparent;\n",
              "      border-right-color: var(--fill-color);\n",
              "    }\n",
              "    80% {\n",
              "      border-color: transparent;\n",
              "      border-right-color: var(--fill-color);\n",
              "      border-bottom-color: var(--fill-color);\n",
              "    }\n",
              "    90% {\n",
              "      border-color: transparent;\n",
              "      border-bottom-color: var(--fill-color);\n",
              "    }\n",
              "  }\n",
              "</style>\n",
              "\n",
              "  <script>\n",
              "    async function quickchart(key) {\n",
              "      const quickchartButtonEl =\n",
              "        document.querySelector('#' + key + ' button');\n",
              "      quickchartButtonEl.disabled = true;  // To prevent multiple clicks.\n",
              "      quickchartButtonEl.classList.add('colab-df-spinner');\n",
              "      try {\n",
              "        const charts = await google.colab.kernel.invokeFunction(\n",
              "            'suggestCharts', [key], {});\n",
              "      } catch (error) {\n",
              "        console.error('Error during call to suggestCharts:', error);\n",
              "      }\n",
              "      quickchartButtonEl.classList.remove('colab-df-spinner');\n",
              "      quickchartButtonEl.classList.add('colab-df-quickchart-complete');\n",
              "    }\n",
              "    (() => {\n",
              "      let quickchartButtonEl =\n",
              "        document.querySelector('#df-7d16bbd2-e75d-46a1-b38c-e064cffdb6b1 button');\n",
              "      quickchartButtonEl.style.display =\n",
              "        google.colab.kernel.accessAllowed ? 'block' : 'none';\n",
              "    })();\n",
              "  </script>\n",
              "</div>\n",
              "    </div>\n",
              "  </div>\n"
            ],
            "application/vnd.google.colaboratory.intrinsic+json": {
              "type": "dataframe",
              "variable_name": "test",
              "summary": "{\n  \"name\": \"test\",\n  \"rows\": 10000,\n  \"fields\": [\n    {\n      \"column\": \"text\",\n      \"properties\": {\n        \"dtype\": \"string\",\n        \"num_unique_values\": 9978,\n        \"samples\": [\n          \"\\\"Undercurrent\\\" features a top-notch cast of wonderful actors who might've been assembled for the perfect drawing-room comedy. Alas, they are pretty much wasted on a 'woman's view' potboiler--and a paper-thin one at that. Katharine Hepburn is indeed radiant as a tomboy/old maid who finally marries, but her husband is deeply disturbed and harboring dark family secrets. Director Vincente Minnelli has absolutely no idea how to mount this outlandish plot, concocted by Edward Chodorov from a story by Thelma Strabel, and the friendly, first-rate cast (including Robert Taylor, Robert Mitchum and Edmund Gwenn) is left treading in murky waters. ** from ****\",\n          \"Charles Chaplin's 'Shoulder Arms' of 1918 was his longest film to date, though, at just over 45 minutes in length, it was not quite a feature film. With World War One just drawing to a close, many popular entertainers of the time were doing their part to inspire their native troops, and Chaplin was no exception. And so the lovable Tramp went to war! The film begins with the Tramp in training, and the character is hilariously inept at even the simplest military drills, including marching and gun-slinging, much to the disgust of his drill sergeant. The Tramp then finds himself in the trenches, faced with a more formidable foe, though the Germans eventually turn out of be infinitely more incompetent than even he. The uproarious moment when the Tramp declares that he single-handedly captured thirteen German soldiers by \\\"surrounding them\\\" had me in stitches.<br /><br />There are plenty of other great moments in this film. Chaplin awaking to find his sleeping barracks underwater and being unable to literally find his own feet is hilarious, as is his ingenious use of a tube from a record player to sleep beneath the surface.<br /><br />However, the most memorable scenes in the film undoubtedly involve Chaplin skulking behind enemy lines disguised as a tree. The reactions of the bumbling German soldiers, unknowingly just metres from a sworn enemy, as they are single-handedly disabled one-by-one are highly amusing, especially when one soldier grapples an axe with the intention of cutting down a tree for firewood.<br /><br />This is a very enjoyable film, and one of the best of Chaplin's pre-1920 efforts. Highly recommended.\",\n          \"The best of the seven Sam Fuller movies that I've seen (including Park Row, Run of the Arrow, Verboten!, Shock Corridor, The Naked Kiss, The Big Red One, and this film), Pickup on South Street counts as one of the best film noirs. It represents Fuller at his most controlled. I like him when he's out of control, of course, but nearly everything in Pickup is perfect. The film is absolutely beautiful. Richard Widmark stars as a pickpocket who steals some microfilm that was meant to go to communist spies. Jean Peters plays the woman who was carrying the film for her boyfriend, played by Richard Kiley. Peters is forced to find Widmark and get it back. She finds him through a stool pigeon played by Thelma Ritter. Widmark and Peters are attracted to each other, which changes Peters loyalties (that, and the fact that she learns she's working for communists; the Cold War stuff is really interesting). The love story is done a little quickly and not entirely believable, but it's not so bad that it harms the film (unlike Fuller's previous film, Park Row). Richard Widmark is great. This must be one of his best roles, but I'm not so familiar with his career that I can say that for sure. Thelma Ritter gives the most memorable performance. Her role gives the film an unexpected emotional resonance, and her final scene in this film is as touching as any you will find in the cinema. I will never forget that. 10/10.\"\n        ],\n        \"semantic_type\": \"\",\n        \"description\": \"\"\n      }\n    },\n    {\n      \"column\": \"label\",\n      \"properties\": {\n        \"dtype\": \"number\",\n        \"std\": 0,\n        \"min\": 0,\n        \"max\": 1,\n        \"num_unique_values\": 2,\n        \"samples\": [\n          1,\n          0\n        ],\n        \"semantic_type\": \"\",\n        \"description\": \"\"\n      }\n    },\n    {\n      \"column\": \"tokenized_text\",\n      \"properties\": {\n        \"dtype\": \"string\",\n        \"num_unique_values\": 9978,\n        \"samples\": [\n          \"undercurrent features top notch cast wonderful actors might assembled perfect drawing room comedy alas pretty much wasted woman view potboiler paper thin one katharine hepburn indeed radiant tomboy old maid finally marries husband deeply disturbed harboring dark family secrets director vincente minnelli absolutely idea mount outlandish plot concocted edward chodorov story thelma strabel friendly first rate cast including robert taylor robert mitchum edmund gwenn left treading murky waters\",\n          \"charles chaplin shoulder arms 1918 longest film date though 45 minutes length quite feature film world war one drawing close many popular entertainers time part inspire native troops chaplin exception lovable tramp went war film begins tramp training character hilariously inept even simplest military drills including marching gun slinging much disgust drill sergeant tramp finds trenches faced formidable foe though germans eventually turn infinitely incompetent even uproarious moment tramp declares single handedly captured thirteen german soldiers surrounding stitches br br plenty great moments film chaplin awaking find sleeping barracks underwater unable literally find feet hilarious ingenious use tube record player sleep beneath surface br br however memorable scenes film undoubtedly involve chaplin skulking behind enemy lines disguised tree reactions bumbling german soldiers unknowingly metres sworn enemy single handedly disabled one one highly amusing especially one soldier grapples axe intention cutting tree firewood br br enjoyable film one best chaplin pre 1920 efforts highly recommended\"\n        ],\n        \"semantic_type\": \"\",\n        \"description\": \"\"\n      }\n    }\n  ]\n}"
            }
          },
          "metadata": {},
          "execution_count": 42
        }
      ]
    },
    {
      "cell_type": "code",
      "source": [
        "train.shape, test.shape"
      ],
      "metadata": {
        "colab": {
          "base_uri": "https://localhost:8080/"
        },
        "id": "KG81lvMPaZAq",
        "outputId": "59a4d063-0b4d-48bd-b036-e46e987cf2c7"
      },
      "execution_count": 43,
      "outputs": [
        {
          "output_type": "execute_result",
          "data": {
            "text/plain": [
              "((30000, 3), (10000, 3))"
            ]
          },
          "metadata": {},
          "execution_count": 43
        }
      ]
    },
    {
      "cell_type": "code",
      "source": [
        "from keras.layers import TextVectorization\n",
        "\n",
        "vectorizer = TextVectorization(max_tokens=10000, output_sequence_length=100)\n",
        "vectorizer.adapt(train['tokenized_text'])\n",
        "voc = vectorizer.get_vocabulary()"
      ],
      "metadata": {
        "id": "pDKiPsV4yZrk"
      },
      "execution_count": 44,
      "outputs": []
    },
    {
      "cell_type": "code",
      "source": [
        "x_train = vectorizer(np.array([[s] for s in train['tokenized_text']])).numpy()\n",
        "x_test  = vectorizer(np.array([[s] for s in test['tokenized_text']])).numpy()\n",
        "\n",
        "# y_train = np.array(train['label'])\n",
        "# y_test = np.array(test['label'])"
      ],
      "metadata": {
        "id": "q88ynz6SyciW"
      },
      "execution_count": 45,
      "outputs": []
    },
    {
      "cell_type": "code",
      "source": [
        "enc = OneHotEncoder(handle_unknown='ignore')\n",
        "enc.fit(np.array(train['label'].tolist()).reshape(-1,1))\n",
        "y_train = enc.transform(np.array(train['label'].tolist()).reshape(-1,1)).toarray()\n",
        "y_test = enc.transform(np.array(test['label'].tolist()).reshape(-1,1)).toarray()"
      ],
      "metadata": {
        "id": "HvCum0i0_yN2"
      },
      "execution_count": 46,
      "outputs": []
    },
    {
      "cell_type": "code",
      "source": [
        "x_train"
      ],
      "metadata": {
        "colab": {
          "base_uri": "https://localhost:8080/"
        },
        "id": "5EA5eWaT71k6",
        "outputId": "3d0ccc9d-723f-42f1-a7c9-b037b4dea2a0"
      },
      "execution_count": 47,
      "outputs": [
        {
          "output_type": "execute_result",
          "data": {
            "text/plain": [
              "array([[4933, 1120,  950, ...,    0,    0,    0],\n",
              "       [ 241,  216, 8904, ...,    0,    0,    0],\n",
              "       [  14,  457,  178, ...,  216,   26,    6],\n",
              "       ...,\n",
              "       [2390,  362,   13, ...,   23,    1, 4093],\n",
              "       [ 420, 7989,    5, ...,  487, 3603, 1313],\n",
              "       [   3,  365, 1294, ...,    0,    0,    0]])"
            ]
          },
          "metadata": {},
          "execution_count": 47
        }
      ]
    },
    {
      "cell_type": "code",
      "source": [
        "x_train.shape, y_train.shape, x_test.shape, y_test.shape"
      ],
      "metadata": {
        "colab": {
          "base_uri": "https://localhost:8080/"
        },
        "id": "fOQbQQTm7KsG",
        "outputId": "40131d21-8a47-4eb1-cd65-8bde3f0c6386"
      },
      "execution_count": 48,
      "outputs": [
        {
          "output_type": "execute_result",
          "data": {
            "text/plain": [
              "((30000, 100), (30000, 2), (10000, 100), (10000, 2))"
            ]
          },
          "metadata": {},
          "execution_count": 48
        }
      ]
    },
    {
      "cell_type": "code",
      "source": [
        "!wget http://nlp.stanford.edu/data/glove.6B.zip\n",
        "!unzip -q glove.6B.zip"
      ],
      "metadata": {
        "id": "6wcHfqEGyhaF",
        "colab": {
          "base_uri": "https://localhost:8080/"
        },
        "outputId": "af13ab8d-db9f-4245-991c-35855758490f"
      },
      "execution_count": 22,
      "outputs": [
        {
          "output_type": "stream",
          "name": "stdout",
          "text": [
            "--2024-03-13 15:59:32--  http://nlp.stanford.edu/data/glove.6B.zip\n",
            "Resolving nlp.stanford.edu (nlp.stanford.edu)... 171.64.67.140\n",
            "Connecting to nlp.stanford.edu (nlp.stanford.edu)|171.64.67.140|:80... connected.\n",
            "HTTP request sent, awaiting response... 302 Found\n",
            "Location: https://nlp.stanford.edu/data/glove.6B.zip [following]\n",
            "--2024-03-13 15:59:32--  https://nlp.stanford.edu/data/glove.6B.zip\n",
            "Connecting to nlp.stanford.edu (nlp.stanford.edu)|171.64.67.140|:443... connected.\n",
            "HTTP request sent, awaiting response... 301 Moved Permanently\n",
            "Location: https://downloads.cs.stanford.edu/nlp/data/glove.6B.zip [following]\n",
            "--2024-03-13 15:59:33--  https://downloads.cs.stanford.edu/nlp/data/glove.6B.zip\n",
            "Resolving downloads.cs.stanford.edu (downloads.cs.stanford.edu)... 171.64.64.22\n",
            "Connecting to downloads.cs.stanford.edu (downloads.cs.stanford.edu)|171.64.64.22|:443... connected.\n",
            "HTTP request sent, awaiting response... 200 OK\n",
            "Length: 862182613 (822M) [application/zip]\n",
            "Saving to: ‘glove.6B.zip’\n",
            "\n",
            "glove.6B.zip        100%[===================>] 822.24M  5.09MB/s    in 2m 38s  \n",
            "\n",
            "2024-03-13 16:02:12 (5.19 MB/s) - ‘glove.6B.zip’ saved [862182613/862182613]\n",
            "\n"
          ]
        }
      ]
    },
    {
      "cell_type": "code",
      "source": [
        "path_to_glove_file = \"glove.6B.50d.txt\"\n",
        "\n",
        "embeddings_dict_50 = {}\n",
        "\n",
        "with open(path_to_glove_file) as f:\n",
        "  for line in f:\n",
        "    word, coefs = line.split(maxsplit=1)\n",
        "    coefs = np.fromstring(coefs, 'f', sep=' ')\n",
        "    embeddings_dict_50[word] = coefs\n",
        "\n",
        "print(\"Found {} word vectors. Vector length is {}.\".format(len(embeddings_dict_50), len(list(embeddings_dict_50.values())[0])))"
      ],
      "metadata": {
        "colab": {
          "base_uri": "https://localhost:8080/"
        },
        "id": "7-rzBBpgyhz4",
        "outputId": "f2dfad55-da68-4b7d-e3b3-402a518c3a51"
      },
      "execution_count": 49,
      "outputs": [
        {
          "output_type": "stream",
          "name": "stdout",
          "text": [
            "Found 400000 word vectors. Vector length is 50.\n"
          ]
        }
      ]
    },
    {
      "cell_type": "code",
      "source": [
        "path_to_glove_file = \"glove.6B.100d.txt\"\n",
        "\n",
        "embeddings_dict_100 = {}\n",
        "\n",
        "with open(path_to_glove_file) as f:\n",
        "  for line in f:\n",
        "    word, coefs = line.split(maxsplit=1)\n",
        "    coefs = np.fromstring(coefs, 'f', sep=' ')\n",
        "    embeddings_dict_100[word] = coefs\n",
        "\n",
        "print(\"Found {} word vectors. Vector length is {}.\".format(len(embeddings_dict_100), len(list(embeddings_dict_100.values())[0])))"
      ],
      "metadata": {
        "colab": {
          "base_uri": "https://localhost:8080/"
        },
        "id": "LgZK9gU1jbMr",
        "outputId": "cdaf0f4d-8fd9-495d-9357-7028e947d75c"
      },
      "execution_count": 50,
      "outputs": [
        {
          "output_type": "stream",
          "name": "stdout",
          "text": [
            "Found 400000 word vectors. Vector length is 100.\n"
          ]
        }
      ]
    },
    {
      "cell_type": "code",
      "source": [
        "hits = 0\n",
        "\n",
        "embedding_matrix_50 = np.zeros((len(voc), 50))\n",
        "for ind, word in enumerate(voc):\n",
        "  if word in embeddings_dict_50.keys():\n",
        "    embedding_matrix_50[ind] = embeddings_dict_50[word].copy()\n",
        "    hits += 1\n",
        "\n",
        "print('converted {} words output {} ({} misses)'.format(hits, len(voc), len(voc)-hits))"
      ],
      "metadata": {
        "colab": {
          "base_uri": "https://localhost:8080/"
        },
        "id": "IoqchTdwyjrZ",
        "outputId": "98e803e0-8dfe-4abf-8b34-16fba491093f"
      },
      "execution_count": 51,
      "outputs": [
        {
          "output_type": "stream",
          "name": "stdout",
          "text": [
            "converted 9995 words output 10000 (5 misses)\n"
          ]
        }
      ]
    },
    {
      "cell_type": "code",
      "source": [
        "hits = 0\n",
        "\n",
        "embedding_matrix_100 = np.zeros((len(voc), 100))\n",
        "for ind, word in enumerate(voc):\n",
        "  if word in embeddings_dict_100.keys():\n",
        "    embedding_matrix_100[ind] = embeddings_dict_100[word].copy()\n",
        "    hits += 1\n",
        "\n",
        "print('converted {} words output {} ({} misses)'.format(hits, len(voc), len(voc)-hits))"
      ],
      "metadata": {
        "colab": {
          "base_uri": "https://localhost:8080/"
        },
        "id": "7-Eoy4H4jTHv",
        "outputId": "07b876b4-1a44-44b0-a7b9-c205a29af620"
      },
      "execution_count": 52,
      "outputs": [
        {
          "output_type": "stream",
          "name": "stdout",
          "text": [
            "converted 9995 words output 10000 (5 misses)\n"
          ]
        }
      ]
    },
    {
      "cell_type": "code",
      "source": [
        "def gru_model(input_dim,output_dim,num_classes,embedding_matrix):\n",
        "  model = Sequential()\n",
        "  model.add(Embedding(input_dim = input_dim , output_dim = output_dim,embeddings_initializer=Constant(embedding_matrix), trainable=False))\n",
        "  model.add(GRU(32))\n",
        "  model.add(Dense(32,activation='relu'))\n",
        "  model.add(Dense(num_classes,activation='softmax'))\n",
        "  model.compile(optimizer = 'adam', loss = 'categorical_crossentropy', metrics = ['accuracy'])\n",
        "  return model"
      ],
      "metadata": {
        "id": "-C79GdxqZLaM"
      },
      "execution_count": 53,
      "outputs": []
    },
    {
      "cell_type": "code",
      "source": [
        "gru_50 = gru_model(len(voc),50,2,embedding_matrix_50)\n",
        "gru_50.summary()"
      ],
      "metadata": {
        "id": "r3W5aHUTC-QG",
        "colab": {
          "base_uri": "https://localhost:8080/"
        },
        "outputId": "b593e051-9fd7-43f3-caae-77314625a382"
      },
      "execution_count": 54,
      "outputs": [
        {
          "output_type": "stream",
          "name": "stdout",
          "text": [
            "Model: \"sequential_1\"\n",
            "_________________________________________________________________\n",
            " Layer (type)                Output Shape              Param #   \n",
            "=================================================================\n",
            " embedding_1 (Embedding)     (None, None, 50)          500000    \n",
            "                                                                 \n",
            " gru_1 (GRU)                 (None, 32)                8064      \n",
            "                                                                 \n",
            " dense_2 (Dense)             (None, 32)                1056      \n",
            "                                                                 \n",
            " dense_3 (Dense)             (None, 2)                 66        \n",
            "                                                                 \n",
            "=================================================================\n",
            "Total params: 509186 (1.94 MB)\n",
            "Trainable params: 9186 (35.88 KB)\n",
            "Non-trainable params: 500000 (1.91 MB)\n",
            "_________________________________________________________________\n"
          ]
        }
      ]
    },
    {
      "cell_type": "code",
      "source": [
        "gru_fitted_50 = gru_50.fit(x_train, y_train, epochs=10, validation_split=0.2,batch_size=256)"
      ],
      "metadata": {
        "colab": {
          "base_uri": "https://localhost:8080/"
        },
        "id": "Sh0sninRogI3",
        "outputId": "a2c0dc97-c087-4c6f-9248-3c937ec2bf3a"
      },
      "execution_count": 55,
      "outputs": [
        {
          "output_type": "stream",
          "name": "stdout",
          "text": [
            "Epoch 1/10\n",
            "94/94 [==============================] - 16s 129ms/step - loss: 0.6892 - accuracy: 0.5286 - val_loss: 0.6809 - val_accuracy: 0.5440\n",
            "Epoch 2/10\n",
            "94/94 [==============================] - 9s 91ms/step - loss: 0.6039 - accuracy: 0.6689 - val_loss: 0.5231 - val_accuracy: 0.7473\n",
            "Epoch 3/10\n",
            "94/94 [==============================] - 14s 149ms/step - loss: 0.4882 - accuracy: 0.7727 - val_loss: 0.4972 - val_accuracy: 0.7673\n",
            "Epoch 4/10\n",
            "94/94 [==============================] - 9s 94ms/step - loss: 0.4466 - accuracy: 0.7953 - val_loss: 0.4421 - val_accuracy: 0.7953\n",
            "Epoch 5/10\n",
            "94/94 [==============================] - 11s 112ms/step - loss: 0.4227 - accuracy: 0.8073 - val_loss: 0.4322 - val_accuracy: 0.7968\n",
            "Epoch 6/10\n",
            "94/94 [==============================] - 12s 131ms/step - loss: 0.4052 - accuracy: 0.8160 - val_loss: 0.4197 - val_accuracy: 0.8067\n",
            "Epoch 7/10\n",
            "94/94 [==============================] - 7s 74ms/step - loss: 0.3951 - accuracy: 0.8215 - val_loss: 0.4104 - val_accuracy: 0.8152\n",
            "Epoch 8/10\n",
            "94/94 [==============================] - 11s 118ms/step - loss: 0.3894 - accuracy: 0.8252 - val_loss: 0.4136 - val_accuracy: 0.8080\n",
            "Epoch 9/10\n",
            "94/94 [==============================] - 12s 126ms/step - loss: 0.3785 - accuracy: 0.8310 - val_loss: 0.4113 - val_accuracy: 0.8148\n",
            "Epoch 10/10\n",
            "94/94 [==============================] - 8s 83ms/step - loss: 0.3722 - accuracy: 0.8340 - val_loss: 0.4001 - val_accuracy: 0.8223\n"
          ]
        }
      ]
    },
    {
      "cell_type": "code",
      "source": [
        "gru_100 = gru_model(len(voc),100,2,embedding_matrix_100)\n",
        "gru_100.summary()"
      ],
      "metadata": {
        "colab": {
          "base_uri": "https://localhost:8080/"
        },
        "id": "XaRklMRTkTV2",
        "outputId": "7c26ca15-8776-47ef-87af-8fd1616d0a79"
      },
      "execution_count": 56,
      "outputs": [
        {
          "output_type": "stream",
          "name": "stdout",
          "text": [
            "Model: \"sequential_2\"\n",
            "_________________________________________________________________\n",
            " Layer (type)                Output Shape              Param #   \n",
            "=================================================================\n",
            " embedding_2 (Embedding)     (None, None, 100)         1000000   \n",
            "                                                                 \n",
            " gru_2 (GRU)                 (None, 32)                12864     \n",
            "                                                                 \n",
            " dense_4 (Dense)             (None, 32)                1056      \n",
            "                                                                 \n",
            " dense_5 (Dense)             (None, 2)                 66        \n",
            "                                                                 \n",
            "=================================================================\n",
            "Total params: 1013986 (3.87 MB)\n",
            "Trainable params: 13986 (54.63 KB)\n",
            "Non-trainable params: 1000000 (3.81 MB)\n",
            "_________________________________________________________________\n"
          ]
        }
      ]
    },
    {
      "cell_type": "code",
      "source": [
        "gru_fitted_100 = gru_100.fit(x_train, y_train, epochs=10, validation_split=0.2,batch_size=256)"
      ],
      "metadata": {
        "colab": {
          "base_uri": "https://localhost:8080/"
        },
        "id": "B1CR-_3ckTgw",
        "outputId": "039fe331-85fc-4bc1-efb9-dce7f5215b43"
      },
      "execution_count": 57,
      "outputs": [
        {
          "output_type": "stream",
          "name": "stdout",
          "text": [
            "Epoch 1/10\n",
            "94/94 [==============================] - 19s 171ms/step - loss: 0.6888 - accuracy: 0.5243 - val_loss: 0.6775 - val_accuracy: 0.5512\n",
            "Epoch 2/10\n",
            "94/94 [==============================] - 15s 164ms/step - loss: 0.5820 - accuracy: 0.6926 - val_loss: 0.4955 - val_accuracy: 0.7708\n",
            "Epoch 3/10\n",
            "94/94 [==============================] - 13s 143ms/step - loss: 0.4468 - accuracy: 0.7995 - val_loss: 0.4370 - val_accuracy: 0.8010\n",
            "Epoch 4/10\n",
            "94/94 [==============================] - 13s 136ms/step - loss: 0.3980 - accuracy: 0.8231 - val_loss: 0.3965 - val_accuracy: 0.8237\n",
            "Epoch 5/10\n",
            "94/94 [==============================] - 18s 189ms/step - loss: 0.3663 - accuracy: 0.8382 - val_loss: 0.3835 - val_accuracy: 0.8280\n",
            "Epoch 6/10\n",
            "94/94 [==============================] - 19s 204ms/step - loss: 0.3509 - accuracy: 0.8479 - val_loss: 0.3946 - val_accuracy: 0.8257\n",
            "Epoch 7/10\n",
            "94/94 [==============================] - 13s 141ms/step - loss: 0.3374 - accuracy: 0.8534 - val_loss: 0.3633 - val_accuracy: 0.8398\n",
            "Epoch 8/10\n",
            "94/94 [==============================] - 14s 145ms/step - loss: 0.3274 - accuracy: 0.8608 - val_loss: 0.3778 - val_accuracy: 0.8373\n",
            "Epoch 9/10\n",
            "94/94 [==============================] - 14s 145ms/step - loss: 0.3201 - accuracy: 0.8615 - val_loss: 0.3553 - val_accuracy: 0.8448\n",
            "Epoch 10/10\n",
            "94/94 [==============================] - 13s 141ms/step - loss: 0.3124 - accuracy: 0.8665 - val_loss: 0.3510 - val_accuracy: 0.8478\n"
          ]
        }
      ]
    },
    {
      "cell_type": "code",
      "source": [
        "def performance(model, x, y):\n",
        "  loss,accuracy = model.evaluate(x,y)\n",
        "  print(loss)\n",
        "  print(accuracy)\n",
        "\n",
        "  y_pred = model.predict(x)\n",
        "  predicted_classes = np.argmax(y_pred, axis=1)\n",
        "  true_classes = np.argmax(y, axis=1)\n",
        "\n",
        "  conf_matrix = confusion_matrix(true_classes, predicted_classes)\n",
        "  plt.figure()\n",
        "  sns.heatmap(conf_matrix.T, square=True, annot=True, fmt='d', cbar=False)\n",
        "  plt.xlabel(\"True Label\")\n",
        "  plt.ylabel(\"Predicted Label\")"
      ],
      "metadata": {
        "id": "GC-tp3-EO5zo"
      },
      "execution_count": 58,
      "outputs": []
    },
    {
      "cell_type": "code",
      "source": [
        "print('Confusion matrix of GRU 50 model:')\n",
        "performance(gru_50,x_test,y_test)"
      ],
      "metadata": {
        "id": "DfcQTDzrvrK3",
        "colab": {
          "base_uri": "https://localhost:8080/",
          "height": 536
        },
        "outputId": "ec6dbe29-0fda-4589-aa6f-e5ecff2e648e"
      },
      "execution_count": 59,
      "outputs": [
        {
          "output_type": "stream",
          "name": "stdout",
          "text": [
            "Confusion matrix of GRU 50 model:\n",
            "313/313 [==============================] - 5s 16ms/step - loss: 0.3948 - accuracy: 0.8230\n",
            "0.3948245942592621\n",
            "0.8230000138282776\n",
            "313/313 [==============================] - 6s 16ms/step\n"
          ]
        },
        {
          "output_type": "display_data",
          "data": {
            "text/plain": [
              "<Figure size 640x480 with 1 Axes>"
            ],
            "image/png": "[encoded data removed]"
          },
          "metadata": {}
        }
      ]
    },
    {
      "cell_type": "code",
      "source": [
        "print('Confusion matrix of GRU 100 model:')\n",
        "performance(gru_100,x_test,y_test)"
      ],
      "metadata": {
        "colab": {
          "base_uri": "https://localhost:8080/",
          "height": 536
        },
        "id": "ow8ey10sk6w5",
        "outputId": "55d9ea7b-cd19-43ef-9c00-c8f295296715"
      },
      "execution_count": 60,
      "outputs": [
        {
          "output_type": "stream",
          "name": "stdout",
          "text": [
            "Confusion matrix of GRU 100 model:\n",
            "313/313 [==============================] - 4s 12ms/step - loss: 0.3433 - accuracy: 0.8505\n",
            "0.3433462977409363\n",
            "0.8504999876022339\n",
            "313/313 [==============================] - 4s 10ms/step\n"
          ]
        },
        {
          "output_type": "display_data",
          "data": {
            "text/plain": [
              "<Figure size 640x480 with 1 Axes>"
            ],
            "image/png": "[encoded data removed]"
          },
          "metadata": {}
        }
      ]
    },
    {
      "cell_type": "code",
      "source": [
        "test['no_of_tokens'] = test['tokenized_text'].apply(lambda x : len(x.split(' ',-1)))"
      ],
      "metadata": {
        "id": "olcxJKQoQMY7"
      },
      "execution_count": 61,
      "outputs": []
    },
    {
      "cell_type": "code",
      "source": [
        "test.head()"
      ],
      "metadata": {
        "colab": {
          "base_uri": "https://localhost:8080/",
          "height": 206
        },
        "id": "AA9fltY7uO8z",
        "outputId": "b27a075f-24b1-49cf-f12f-9cbf2ce1926f"
      },
      "execution_count": 62,
      "outputs": [
        {
          "output_type": "execute_result",
          "data": {
            "text/plain": [
              "                                                text  label  \\\n",
              "0  The central theme in this movie seems to be co...      0   \n",
              "1  An excellent example of \"cowboy noir\", as it's...      1   \n",
              "2  The ending made my heart jump up into my throa...      0   \n",
              "3  Only the chosen ones will appreciate the quali...      1   \n",
              "4  This is a really funny film, especially the se...      1   \n",
              "\n",
              "                                      tokenized_text  no_of_tokens  \n",
              "0  central theme movie seems confusion relationsh...           148  \n",
              "1  excellent example cowboy noir called unemploye...           241  \n",
              "2  ending made heart jump throat proceeded leave ...            29  \n",
              "3  chosen ones appreciate quality story character...            67  \n",
              "4  really funny film especially second third four...            63  "
            ],
            "text/html": [
              "\n",
              "  <div id=\"df-e3f5ef4e-651e-4a07-b8aa-d6ccc60237fa\" class=\"colab-df-container\">\n",
              "    <div>\n",
              "<style scoped>\n",
              "    .dataframe tbody tr th:only-of-type {\n",
              "        vertical-align: middle;\n",
              "    }\n",
              "\n",
              "    .dataframe tbody tr th {\n",
              "        vertical-align: top;\n",
              "    }\n",
              "\n",
              "    .dataframe thead th {\n",
              "        text-align: right;\n",
              "    }\n",
              "</style>\n",
              "<table border=\"1\" class=\"dataframe\">\n",
              "  <thead>\n",
              "    <tr style=\"text-align: right;\">\n",
              "      <th></th>\n",
              "      <th>text</th>\n",
              "      <th>label</th>\n",
              "      <th>tokenized_text</th>\n",
              "      <th>no_of_tokens</th>\n",
              "    </tr>\n",
              "  </thead>\n",
              "  <tbody>\n",
              "    <tr>\n",
              "      <th>0</th>\n",
              "      <td>The central theme in this movie seems to be co...</td>\n",
              "      <td>0</td>\n",
              "      <td>central theme movie seems confusion relationsh...</td>\n",
              "      <td>148</td>\n",
              "    </tr>\n",
              "    <tr>\n",
              "      <th>1</th>\n",
              "      <td>An excellent example of \"cowboy noir\", as it's...</td>\n",
              "      <td>1</td>\n",
              "      <td>excellent example cowboy noir called unemploye...</td>\n",
              "      <td>241</td>\n",
              "    </tr>\n",
              "    <tr>\n",
              "      <th>2</th>\n",
              "      <td>The ending made my heart jump up into my throa...</td>\n",
              "      <td>0</td>\n",
              "      <td>ending made heart jump throat proceeded leave ...</td>\n",
              "      <td>29</td>\n",
              "    </tr>\n",
              "    <tr>\n",
              "      <th>3</th>\n",
              "      <td>Only the chosen ones will appreciate the quali...</td>\n",
              "      <td>1</td>\n",
              "      <td>chosen ones appreciate quality story character...</td>\n",
              "      <td>67</td>\n",
              "    </tr>\n",
              "    <tr>\n",
              "      <th>4</th>\n",
              "      <td>This is a really funny film, especially the se...</td>\n",
              "      <td>1</td>\n",
              "      <td>really funny film especially second third four...</td>\n",
              "      <td>63</td>\n",
              "    </tr>\n",
              "  </tbody>\n",
              "</table>\n",
              "</div>\n",
              "    <div class=\"colab-df-buttons\">\n",
              "\n",
              "  <div class=\"colab-df-container\">\n",
              "    <button class=\"colab-df-convert\" onclick=\"convertToInteractive('df-e3f5ef4e-651e-4a07-b8aa-d6ccc60237fa')\"\n",
              "            title=\"Convert this dataframe to an interactive table.\"\n",
              "            style=\"display:none;\">\n",
              "\n",
              "  <svg xmlns=\"http://www.w3.org/2000/svg\" height=\"24px\" viewBox=\"0 -960 960 960\">\n",
              "    <path d=\"M120-120v-720h720v720H120Zm60-500h600v-160H180v160Zm220 220h160v-160H400v160Zm0 220h160v-160H400v160ZM180-400h160v-160H180v160Zm440 0h160v-160H620v160ZM180-180h160v-160H180v160Zm440 0h160v-160H620v160Z\"/>\n",
              "  </svg>\n",
              "    </button>\n",
              "\n",
              "  <style>\n",
              "    .colab-df-container {\n",
              "      display:flex;\n",
              "      gap: 12px;\n",
              "    }\n",
              "\n",
              "    .colab-df-convert {\n",
              "      background-color: #E8F0FE;\n",
              "      border: none;\n",
              "      border-radius: 50%;\n",
              "      cursor: pointer;\n",
              "      display: none;\n",
              "      fill: #1967D2;\n",
              "      height: 32px;\n",
              "      padding: 0 0 0 0;\n",
              "      width: 32px;\n",
              "    }\n",
              "\n",
              "    .colab-df-convert:hover {\n",
              "      background-color: #E2EBFA;\n",
              "      box-shadow: 0px 1px 2px rgba(60, 64, 67, 0.3), 0px 1px 3px 1px rgba(60, 64, 67, 0.15);\n",
              "      fill: #174EA6;\n",
              "    }\n",
              "\n",
              "    .colab-df-buttons div {\n",
              "      margin-bottom: 4px;\n",
              "    }\n",
              "\n",
              "    [theme=dark] .colab-df-convert {\n",
              "      background-color: #3B4455;\n",
              "      fill: #D2E3FC;\n",
              "    }\n",
              "\n",
              "    [theme=dark] .colab-df-convert:hover {\n",
              "      background-color: #434B5C;\n",
              "      box-shadow: 0px 1px 3px 1px rgba(0, 0, 0, 0.15);\n",
              "      filter: drop-shadow(0px 1px 2px rgba(0, 0, 0, 0.3));\n",
              "      fill: #FFFFFF;\n",
              "    }\n",
              "  </style>\n",
              "\n",
              "    <script>\n",
              "      const buttonEl =\n",
              "        document.querySelector('#df-e3f5ef4e-651e-4a07-b8aa-d6ccc60237fa button.colab-df-convert');\n",
              "      buttonEl.style.display =\n",
              "        google.colab.kernel.accessAllowed ? 'block' : 'none';\n",
              "\n",
              "      async function convertToInteractive(key) {\n",
              "        const element = document.querySelector('#df-e3f5ef4e-651e-4a07-b8aa-d6ccc60237fa');\n",
              "        const dataTable =\n",
              "          await google.colab.kernel.invokeFunction('convertToInteractive',\n",
              "                                                    [key], {});\n",
              "        if (!dataTable) return;\n",
              "\n",
              "        const docLinkHtml = 'Like what you see? Visit the ' +\n",
              "          '<a target=\"_blank\" href=https://colab.research.google.com/notebooks/data_table.ipynb>data table notebook</a>'\n",
              "          + ' to learn more about interactive tables.';\n",
              "        element.innerHTML = '';\n",
              "        dataTable['output_type'] = 'display_data';\n",
              "        await google.colab.output.renderOutput(dataTable, element);\n",
              "        const docLink = document.createElement('div');\n",
              "        docLink.innerHTML = docLinkHtml;\n",
              "        element.appendChild(docLink);\n",
              "      }\n",
              "    </script>\n",
              "  </div>\n",
              "\n",
              "\n",
              "<div id=\"df-88733719-da5d-4ec2-b82f-29b273424d91\">\n",
              "  <button class=\"colab-df-quickchart\" onclick=\"quickchart('df-88733719-da5d-4ec2-b82f-29b273424d91')\"\n",
              "            title=\"Suggest charts\"\n",
              "            style=\"display:none;\">\n",
              "\n",
              "<svg xmlns=\"http://www.w3.org/2000/svg\" height=\"24px\"viewBox=\"0 0 24 24\"\n",
              "     width=\"24px\">\n",
              "    <g>\n",
              "        <path d=\"M19 3H5c-1.1 0-2 .9-2 2v14c0 1.1.9 2 2 2h14c1.1 0 2-.9 2-2V5c0-1.1-.9-2-2-2zM9 17H7v-7h2v7zm4 0h-2V7h2v10zm4 0h-2v-4h2v4z\"/>\n",
              "    </g>\n",
              "</svg>\n",
              "  </button>\n",
              "\n",
              "<style>\n",
              "  .colab-df-quickchart {\n",
              "      --bg-color: #E8F0FE;\n",
              "      --fill-color: #1967D2;\n",
              "      --hover-bg-color: #E2EBFA;\n",
              "      --hover-fill-color: #174EA6;\n",
              "      --disabled-fill-color: #AAA;\n",
              "      --disabled-bg-color: #DDD;\n",
              "  }\n",
              "\n",
              "  [theme=dark] .colab-df-quickchart {\n",
              "      --bg-color: #3B4455;\n",
              "      --fill-color: #D2E3FC;\n",
              "      --hover-bg-color: #434B5C;\n",
              "      --hover-fill-color: #FFFFFF;\n",
              "      --disabled-bg-color: #3B4455;\n",
              "      --disabled-fill-color: #666;\n",
              "  }\n",
              "\n",
              "  .colab-df-quickchart {\n",
              "    background-color: var(--bg-color);\n",
              "    border: none;\n",
              "    border-radius: 50%;\n",
              "    cursor: pointer;\n",
              "    display: none;\n",
              "    fill: var(--fill-color);\n",
              "    height: 32px;\n",
              "    padding: 0;\n",
              "    width: 32px;\n",
              "  }\n",
              "\n",
              "  .colab-df-quickchart:hover {\n",
              "    background-color: var(--hover-bg-color);\n",
              "    box-shadow: 0 1px 2px rgba(60, 64, 67, 0.3), 0 1px 3px 1px rgba(60, 64, 67, 0.15);\n",
              "    fill: var(--button-hover-fill-color);\n",
              "  }\n",
              "\n",
              "  .colab-df-quickchart-complete:disabled,\n",
              "  .colab-df-quickchart-complete:disabled:hover {\n",
              "    background-color: var(--disabled-bg-color);\n",
              "    fill: var(--disabled-fill-color);\n",
              "    box-shadow: none;\n",
              "  }\n",
              "\n",
              "  .colab-df-spinner {\n",
              "    border: 2px solid var(--fill-color);\n",
              "    border-color: transparent;\n",
              "    border-bottom-color: var(--fill-color);\n",
              "    animation:\n",
              "      spin 1s steps(1) infinite;\n",
              "  }\n",
              "\n",
              "  @keyframes spin {\n",
              "    0% {\n",
              "      border-color: transparent;\n",
              "      border-bottom-color: var(--fill-color);\n",
              "      border-left-color: var(--fill-color);\n",
              "    }\n",
              "    20% {\n",
              "      border-color: transparent;\n",
              "      border-left-color: var(--fill-color);\n",
              "      border-top-color: var(--fill-color);\n",
              "    }\n",
              "    30% {\n",
              "      border-color: transparent;\n",
              "      border-left-color: var(--fill-color);\n",
              "      border-top-color: var(--fill-color);\n",
              "      border-right-color: var(--fill-color);\n",
              "    }\n",
              "    40% {\n",
              "      border-color: transparent;\n",
              "      border-right-color: var(--fill-color);\n",
              "      border-top-color: var(--fill-color);\n",
              "    }\n",
              "    60% {\n",
              "      border-color: transparent;\n",
              "      border-right-color: var(--fill-color);\n",
              "    }\n",
              "    80% {\n",
              "      border-color: transparent;\n",
              "      border-right-color: var(--fill-color);\n",
              "      border-bottom-color: var(--fill-color);\n",
              "    }\n",
              "    90% {\n",
              "      border-color: transparent;\n",
              "      border-bottom-color: var(--fill-color);\n",
              "    }\n",
              "  }\n",
              "</style>\n",
              "\n",
              "  <script>\n",
              "    async function quickchart(key) {\n",
              "      const quickchartButtonEl =\n",
              "        document.querySelector('#' + key + ' button');\n",
              "      quickchartButtonEl.disabled = true;  // To prevent multiple clicks.\n",
              "      quickchartButtonEl.classList.add('colab-df-spinner');\n",
              "      try {\n",
              "        const charts = await google.colab.kernel.invokeFunction(\n",
              "            'suggestCharts', [key], {});\n",
              "      } catch (error) {\n",
              "        console.error('Error during call to suggestCharts:', error);\n",
              "      }\n",
              "      quickchartButtonEl.classList.remove('colab-df-spinner');\n",
              "      quickchartButtonEl.classList.add('colab-df-quickchart-complete');\n",
              "    }\n",
              "    (() => {\n",
              "      let quickchartButtonEl =\n",
              "        document.querySelector('#df-88733719-da5d-4ec2-b82f-29b273424d91 button');\n",
              "      quickchartButtonEl.style.display =\n",
              "        google.colab.kernel.accessAllowed ? 'block' : 'none';\n",
              "    })();\n",
              "  </script>\n",
              "</div>\n",
              "    </div>\n",
              "  </div>\n"
            ],
            "application/vnd.google.colaboratory.intrinsic+json": {
              "type": "dataframe",
              "variable_name": "test",
              "summary": "{\n  \"name\": \"test\",\n  \"rows\": 10000,\n  \"fields\": [\n    {\n      \"column\": \"text\",\n      \"properties\": {\n        \"dtype\": \"string\",\n        \"num_unique_values\": 9978,\n        \"samples\": [\n          \"\\\"Undercurrent\\\" features a top-notch cast of wonderful actors who might've been assembled for the perfect drawing-room comedy. Alas, they are pretty much wasted on a 'woman's view' potboiler--and a paper-thin one at that. Katharine Hepburn is indeed radiant as a tomboy/old maid who finally marries, but her husband is deeply disturbed and harboring dark family secrets. Director Vincente Minnelli has absolutely no idea how to mount this outlandish plot, concocted by Edward Chodorov from a story by Thelma Strabel, and the friendly, first-rate cast (including Robert Taylor, Robert Mitchum and Edmund Gwenn) is left treading in murky waters. ** from ****\",\n          \"Charles Chaplin's 'Shoulder Arms' of 1918 was his longest film to date, though, at just over 45 minutes in length, it was not quite a feature film. With World War One just drawing to a close, many popular entertainers of the time were doing their part to inspire their native troops, and Chaplin was no exception. And so the lovable Tramp went to war! The film begins with the Tramp in training, and the character is hilariously inept at even the simplest military drills, including marching and gun-slinging, much to the disgust of his drill sergeant. The Tramp then finds himself in the trenches, faced with a more formidable foe, though the Germans eventually turn out of be infinitely more incompetent than even he. The uproarious moment when the Tramp declares that he single-handedly captured thirteen German soldiers by \\\"surrounding them\\\" had me in stitches.<br /><br />There are plenty of other great moments in this film. Chaplin awaking to find his sleeping barracks underwater and being unable to literally find his own feet is hilarious, as is his ingenious use of a tube from a record player to sleep beneath the surface.<br /><br />However, the most memorable scenes in the film undoubtedly involve Chaplin skulking behind enemy lines disguised as a tree. The reactions of the bumbling German soldiers, unknowingly just metres from a sworn enemy, as they are single-handedly disabled one-by-one are highly amusing, especially when one soldier grapples an axe with the intention of cutting down a tree for firewood.<br /><br />This is a very enjoyable film, and one of the best of Chaplin's pre-1920 efforts. Highly recommended.\",\n          \"The best of the seven Sam Fuller movies that I've seen (including Park Row, Run of the Arrow, Verboten!, Shock Corridor, The Naked Kiss, The Big Red One, and this film), Pickup on South Street counts as one of the best film noirs. It represents Fuller at his most controlled. I like him when he's out of control, of course, but nearly everything in Pickup is perfect. The film is absolutely beautiful. Richard Widmark stars as a pickpocket who steals some microfilm that was meant to go to communist spies. Jean Peters plays the woman who was carrying the film for her boyfriend, played by Richard Kiley. Peters is forced to find Widmark and get it back. She finds him through a stool pigeon played by Thelma Ritter. Widmark and Peters are attracted to each other, which changes Peters loyalties (that, and the fact that she learns she's working for communists; the Cold War stuff is really interesting). The love story is done a little quickly and not entirely believable, but it's not so bad that it harms the film (unlike Fuller's previous film, Park Row). Richard Widmark is great. This must be one of his best roles, but I'm not so familiar with his career that I can say that for sure. Thelma Ritter gives the most memorable performance. Her role gives the film an unexpected emotional resonance, and her final scene in this film is as touching as any you will find in the cinema. I will never forget that. 10/10.\"\n        ],\n        \"semantic_type\": \"\",\n        \"description\": \"\"\n      }\n    },\n    {\n      \"column\": \"label\",\n      \"properties\": {\n        \"dtype\": \"number\",\n        \"std\": 0,\n        \"min\": 0,\n        \"max\": 1,\n        \"num_unique_values\": 2,\n        \"samples\": [\n          1,\n          0\n        ],\n        \"semantic_type\": \"\",\n        \"description\": \"\"\n      }\n    },\n    {\n      \"column\": \"tokenized_text\",\n      \"properties\": {\n        \"dtype\": \"string\",\n        \"num_unique_values\": 9978,\n        \"samples\": [\n          \"undercurrent features top notch cast wonderful actors might assembled perfect drawing room comedy alas pretty much wasted woman view potboiler paper thin one katharine hepburn indeed radiant tomboy old maid finally marries husband deeply disturbed harboring dark family secrets director vincente minnelli absolutely idea mount outlandish plot concocted edward chodorov story thelma strabel friendly first rate cast including robert taylor robert mitchum edmund gwenn left treading murky waters\",\n          \"charles chaplin shoulder arms 1918 longest film date though 45 minutes length quite feature film world war one drawing close many popular entertainers time part inspire native troops chaplin exception lovable tramp went war film begins tramp training character hilariously inept even simplest military drills including marching gun slinging much disgust drill sergeant tramp finds trenches faced formidable foe though germans eventually turn infinitely incompetent even uproarious moment tramp declares single handedly captured thirteen german soldiers surrounding stitches br br plenty great moments film chaplin awaking find sleeping barracks underwater unable literally find feet hilarious ingenious use tube record player sleep beneath surface br br however memorable scenes film undoubtedly involve chaplin skulking behind enemy lines disguised tree reactions bumbling german soldiers unknowingly metres sworn enemy single handedly disabled one one highly amusing especially one soldier grapples axe intention cutting tree firewood br br enjoyable film one best chaplin pre 1920 efforts highly recommended\"\n        ],\n        \"semantic_type\": \"\",\n        \"description\": \"\"\n      }\n    },\n    {\n      \"column\": \"no_of_tokens\",\n      \"properties\": {\n        \"dtype\": \"number\",\n        \"std\": 94,\n        \"min\": 5,\n        \"max\": 1181,\n        \"num_unique_values\": 534,\n        \"samples\": [\n          492,\n          17\n        ],\n        \"semantic_type\": \"\",\n        \"description\": \"\"\n      }\n    }\n  ]\n}"
            }
          },
          "metadata": {},
          "execution_count": 62
        }
      ]
    },
    {
      "cell_type": "code",
      "source": [
        "sorted_test = test.sort_values('no_of_tokens')\n",
        "n = len(test)\n",
        "short_indices = sorted_test.index[0:int(0.33*n)]\n",
        "short_x_test = x_test[short_indices]\n",
        "short_y_test = y_test[short_indices]\n",
        "\n",
        "medium_indices = sorted_test.index[int(0.33*n):int(0.67*n)]\n",
        "medium_x_test = x_test[medium_indices]\n",
        "medium_y_test = y_test[medium_indices]\n",
        "\n",
        "long_indices = sorted_test.index[int(0.67*n):n]\n",
        "long_x_test = x_test[long_indices]\n",
        "long_y_test = y_test[long_indices]"
      ],
      "metadata": {
        "id": "ccl_9KS3udKa"
      },
      "execution_count": 63,
      "outputs": []
    },
    {
      "cell_type": "code",
      "source": [
        "for data in ('short','medium','long'):\n",
        "  print(f'Confusion matrix on {data} data')\n",
        "  if data == 'short':\n",
        "    x = short_x_test\n",
        "    y = short_y_test\n",
        "  elif data == 'medium':\n",
        "    x = medium_x_test\n",
        "    y = medium_y_test\n",
        "  else:\n",
        "    x = long_x_test\n",
        "    y = long_y_test\n",
        "  performance(gru_50, x,y)"
      ],
      "metadata": {
        "id": "fIWfk1g0vUD8",
        "colab": {
          "base_uri": "https://localhost:8080/",
          "height": 1000
        },
        "outputId": "a7ec5276-eebb-4361-c99c-1a41ea3e9e79"
      },
      "execution_count": 64,
      "outputs": [
        {
          "output_type": "stream",
          "name": "stdout",
          "text": [
            "Confusion matrix on short data\n",
            "104/104 [==============================] - 2s 18ms/step - loss: 0.3445 - accuracy: 0.8567\n",
            "0.3444814085960388\n",
            "0.8566666841506958\n",
            "104/104 [==============================] - 3s 28ms/step\n",
            "Confusion matrix on medium data\n",
            "107/107 [==============================] - 2s 19ms/step - loss: 0.3592 - accuracy: 0.8468\n",
            "0.3591828942298889\n",
            "0.8467646837234497\n",
            "107/107 [==============================] - 1s 9ms/step\n",
            "Confusion matrix on long data\n",
            "104/104 [==============================] - 1s 10ms/step - loss: 0.4819 - accuracy: 0.7648\n",
            "0.4818896949291229\n",
            "0.7648484706878662\n",
            "104/104 [==============================] - 1s 9ms/step\n"
          ]
        },
        {
          "output_type": "display_data",
          "data": {
            "text/plain": [
              "<Figure size 640x480 with 1 Axes>"
            ],
            "image/png": "[encoded data removed]"
          },
          "metadata": {}
        },
        {
          "output_type": "display_data",
          "data": {
            "text/plain": [
              "<Figure size 640x480 with 1 Axes>"
            ],
            "image/png": "[encoded data removed]"
          },
          "metadata": {}
        },
        {
          "output_type": "display_data",
          "data": {
            "text/plain": [
              "<Figure size 640x480 with 1 Axes>"
            ],
            "image/png": "[encoded data removed]"
          },
          "metadata": {}
        }
      ]
    },
    {
      "cell_type": "code",
      "source": [
        "for data in ('short','medium','long'):\n",
        "  print(f'Confusion matrix on {data} data')\n",
        "  if data == 'short':\n",
        "    x = short_x_test\n",
        "    y = short_y_test\n",
        "  elif data == 'medium':\n",
        "    x = medium_x_test\n",
        "    y = medium_y_test\n",
        "  else:\n",
        "    x = long_x_test\n",
        "    y = long_y_test\n",
        "  performance(gru_100, x,y)"
      ],
      "metadata": {
        "id": "8H_nQtkANjO7",
        "colab": {
          "base_uri": "https://localhost:8080/",
          "height": 1000
        },
        "outputId": "8da1059b-af43-4495-ea3b-080c5ce1de72"
      },
      "execution_count": 65,
      "outputs": [
        {
          "output_type": "stream",
          "name": "stdout",
          "text": [
            "Confusion matrix on short data\n",
            "104/104 [==============================] - 1s 11ms/step - loss: 0.2773 - accuracy: 0.8848\n",
            "0.27731049060821533\n",
            "0.8848484754562378\n",
            "104/104 [==============================] - 1s 10ms/step\n",
            "Confusion matrix on medium data\n",
            "107/107 [==============================] - 2s 14ms/step - loss: 0.3188 - accuracy: 0.8653\n",
            "0.31879889965057373\n",
            "0.8652940988540649\n",
            "107/107 [==============================] - 2s 17ms/step\n",
            "Confusion matrix on long data\n",
            "104/104 [==============================] - 2s 17ms/step - loss: 0.4347 - accuracy: 0.8009\n",
            "0.4346729516983032\n",
            "0.8009091019630432\n",
            "104/104 [==============================] - 2s 18ms/step\n"
          ]
        },
        {
          "output_type": "display_data",
          "data": {
            "text/plain": [
              "<Figure size 640x480 with 1 Axes>"
            ],
            "image/png": "[encoded data removed]"
          },
          "metadata": {}
        },
        {
          "output_type": "display_data",
          "data": {
            "text/plain": [
              "<Figure size 640x480 with 1 Axes>"
            ],
            "image/png": "[encoded data removed]"
          },
          "metadata": {}
        },
        {
          "output_type": "display_data",
          "data": {
            "text/plain": [
              "<Figure size 640x480 with 1 Axes>"
            ],
            "image/png": "[encoded data removed]"
          },
          "metadata": {}
        }
      ]
    },
    {
      "cell_type": "code",
      "source": [],
      "metadata": {
        "id": "pQ8o6Juxmhzb"
      },
      "execution_count": null,
      "outputs": []
    }
  ]
}