{
  "cells": [
    {
      "cell_type": "markdown",
      "metadata": {
        "id": "b-xTSIrzsjTg"
      },
      "source": [
        "## Credit score classification\n",
        "In the modern financial landscape, credit scores play a pivotal role in determining an individual's financial health and access to various financial products and services. A credit score is a numerical representation of an individual's creditworthiness, calculated based on their credit history and other relevant financial factors. Lenders, such as banks and credit card companies, use credit scores to assess the risk of lending money or extending credit to individuals.\n",
        "\n",
        "In this context, credit score classification refers to the categorization of credit scores into distinct groups based on predefined ranges. These classifications serve as a benchmark for assessing an individual's creditworthiness and determining their eligibility for credit products, interest rates, and loan terms.\n",
        "\n",
        "The data for this analysis was sourced from kaggle (Data link - [link](https://www.kaggle.com/datasets/sudhanshu2198/processed-data-credit-score))\n",
        ". This classifies the scores into standard, poor, and good with specific attributes and score ranges associated with each category and various other aspects.\n",
        "\n",
        "\n"
      ]
    },
    {
      "cell_type": "code",
      "execution_count": null,
      "metadata": {
        "id": "WzHaCuehFatF"
      },
      "outputs": [],
      "source": [
        "## import required libraries\n",
        "import pandas as pd"
      ]
    },
    {
      "cell_type": "markdown",
      "metadata": {
        "id": "rQqo-79WsZKz"
      },
      "source": [
        "### Data Loading and processing"
      ]
    },
    {
      "cell_type": "code",
      "execution_count": null,
      "metadata": {
        "id": "zRQf72mosh3V"
      },
      "outputs": [],
      "source": [
        "file_path = r'/content/Score.csv'\n",
        "data = pd.read_csv(file_path)"
      ]
    },
    {
      "cell_type": "code",
      "execution_count": null,
      "metadata": {
        "colab": {
          "base_uri": "https://localhost:8080/"
        },
        "id": "WTi0SUWGsiCc",
        "outputId": "46f69f47-d049-4897-9a17-dcc35751e3b4"
      },
      "outputs": [
        {
          "output_type": "execute_result",
          "data": {
            "text/plain": [
              "(99960, 21)"
            ]
          },
          "metadata": {},
          "execution_count": 3
        }
      ],
      "source": [
        "data.shape"
      ]
    },
    {
      "cell_type": "code",
      "execution_count": null,
      "metadata": {
        "colab": {
          "base_uri": "https://localhost:8080/",
          "height": 255
        },
        "id": "_PBgDRTusiFK",
        "outputId": "6926cf02-de52-4c42-c619-bf98f683de27"
      },
      "outputs": [
        {
          "output_type": "execute_result",
          "data": {
            "text/plain": [
              "   Delay_from_due_date  Num_of_Delayed_Payment  Num_Credit_Inquiries  \\\n",
              "0                  3.0                     7.0                   4.0   \n",
              "1                  3.0                     7.0                   4.0   \n",
              "2                  3.0                     7.0                   4.0   \n",
              "3                  5.0                     4.0                   4.0   \n",
              "4                  6.0                     4.0                   4.0   \n",
              "\n",
              "   Credit_Utilization_Ratio  Credit_History_Age Payment_of_Min_Amount  \\\n",
              "0                 26.822620               265.0                    No   \n",
              "1                 31.944960               265.0                    No   \n",
              "2                 28.609352               267.0                    No   \n",
              "3                 31.377862               268.0                    No   \n",
              "4                 24.797347               269.0                    No   \n",
              "\n",
              "   Amount_invested_monthly  Monthly_Balance Credit_Score Credit_Mix  ...  \\\n",
              "0                80.415295       312.494089         Good       Good  ...   \n",
              "1               118.280222       284.629162         Good       Good  ...   \n",
              "2                81.699521       331.209863         Good       Good  ...   \n",
              "3               199.458074       223.451310         Good       Good  ...   \n",
              "4                41.420153       341.489231         Good       Good  ...   \n",
              "\n",
              "    Age  Annual_Income  Num_Bank_Accounts  Num_Credit_Card  Interest_Rate  \\\n",
              "0  23.0       19114.12                3.0              4.0            3.0   \n",
              "1  23.0       19114.12                3.0              4.0            3.0   \n",
              "2  23.0       19114.12                3.0              4.0            3.0   \n",
              "3  23.0       19114.12                3.0              4.0            3.0   \n",
              "4  23.0       19114.12                3.0              4.0            3.0   \n",
              "\n",
              "   Num_of_Loan  Monthly_Inhand_Salary  Changed_Credit_Limit  Outstanding_Debt  \\\n",
              "0          4.0            1824.843333                 11.27            809.98   \n",
              "1          4.0            1824.843333                 11.27            809.98   \n",
              "2          4.0            1824.843333                 11.27            809.98   \n",
              "3          4.0            1824.843333                 11.27            809.98   \n",
              "4          4.0            1824.843333                 11.27            809.98   \n",
              "\n",
              "   Total_EMI_per_month  \n",
              "0            49.574949  \n",
              "1            49.574949  \n",
              "2            49.574949  \n",
              "3            49.574949  \n",
              "4            49.574949  \n",
              "\n",
              "[5 rows x 21 columns]"
            ],
            "text/html": [
              "\n",
              "  <div id=\"df-e2fd4522-6ee3-47c2-b17e-2185d7c6d5a8\" class=\"colab-df-container\">\n",
              "    <div>\n",
              "<style scoped>\n",
              "    .dataframe tbody tr th:only-of-type {\n",
              "        vertical-align: middle;\n",
              "    }\n",
              "\n",
              "    .dataframe tbody tr th {\n",
              "        vertical-align: top;\n",
              "    }\n",
              "\n",
              "    .dataframe thead th {\n",
              "        text-align: right;\n",
              "    }\n",
              "</style>\n",
              "<table border=\"1\" class=\"dataframe\">\n",
              "  <thead>\n",
              "    <tr style=\"text-align: right;\">\n",
              "      <th></th>\n",
              "      <th>Delay_from_due_date</th>\n",
              "      <th>Num_of_Delayed_Payment</th>\n",
              "      <th>Num_Credit_Inquiries</th>\n",
              "      <th>Credit_Utilization_Ratio</th>\n",
              "      <th>Credit_History_Age</th>\n",
              "      <th>Payment_of_Min_Amount</th>\n",
              "      <th>Amount_invested_monthly</th>\n",
              "      <th>Monthly_Balance</th>\n",
              "      <th>Credit_Score</th>\n",
              "      <th>Credit_Mix</th>\n",
              "      <th>...</th>\n",
              "      <th>Age</th>\n",
              "      <th>Annual_Income</th>\n",
              "      <th>Num_Bank_Accounts</th>\n",
              "      <th>Num_Credit_Card</th>\n",
              "      <th>Interest_Rate</th>\n",
              "      <th>Num_of_Loan</th>\n",
              "      <th>Monthly_Inhand_Salary</th>\n",
              "      <th>Changed_Credit_Limit</th>\n",
              "      <th>Outstanding_Debt</th>\n",
              "      <th>Total_EMI_per_month</th>\n",
              "    </tr>\n",
              "  </thead>\n",
              "  <tbody>\n",
              "    <tr>\n",
              "      <th>0</th>\n",
              "      <td>3.0</td>\n",
              "      <td>7.0</td>\n",
              "      <td>4.0</td>\n",
              "      <td>26.822620</td>\n",
              "      <td>265.0</td>\n",
              "      <td>No</td>\n",
              "      <td>80.415295</td>\n",
              "      <td>312.494089</td>\n",
              "      <td>Good</td>\n",
              "      <td>Good</td>\n",
              "      <td>...</td>\n",
              "      <td>23.0</td>\n",
              "      <td>19114.12</td>\n",
              "      <td>3.0</td>\n",
              "      <td>4.0</td>\n",
              "      <td>3.0</td>\n",
              "      <td>4.0</td>\n",
              "      <td>1824.843333</td>\n",
              "      <td>11.27</td>\n",
              "      <td>809.98</td>\n",
              "      <td>49.574949</td>\n",
              "    </tr>\n",
              "    <tr>\n",
              "      <th>1</th>\n",
              "      <td>3.0</td>\n",
              "      <td>7.0</td>\n",
              "      <td>4.0</td>\n",
              "      <td>31.944960</td>\n",
              "      <td>265.0</td>\n",
              "      <td>No</td>\n",
              "      <td>118.280222</td>\n",
              "      <td>284.629162</td>\n",
              "      <td>Good</td>\n",
              "      <td>Good</td>\n",
              "      <td>...</td>\n",
              "      <td>23.0</td>\n",
              "      <td>19114.12</td>\n",
              "      <td>3.0</td>\n",
              "      <td>4.0</td>\n",
              "      <td>3.0</td>\n",
              "      <td>4.0</td>\n",
              "      <td>1824.843333</td>\n",
              "      <td>11.27</td>\n",
              "      <td>809.98</td>\n",
              "      <td>49.574949</td>\n",
              "    </tr>\n",
              "    <tr>\n",
              "      <th>2</th>\n",
              "      <td>3.0</td>\n",
              "      <td>7.0</td>\n",
              "      <td>4.0</td>\n",
              "      <td>28.609352</td>\n",
              "      <td>267.0</td>\n",
              "      <td>No</td>\n",
              "      <td>81.699521</td>\n",
              "      <td>331.209863</td>\n",
              "      <td>Good</td>\n",
              "      <td>Good</td>\n",
              "      <td>...</td>\n",
              "      <td>23.0</td>\n",
              "      <td>19114.12</td>\n",
              "      <td>3.0</td>\n",
              "      <td>4.0</td>\n",
              "      <td>3.0</td>\n",
              "      <td>4.0</td>\n",
              "      <td>1824.843333</td>\n",
              "      <td>11.27</td>\n",
              "      <td>809.98</td>\n",
              "      <td>49.574949</td>\n",
              "    </tr>\n",
              "    <tr>\n",
              "      <th>3</th>\n",
              "      <td>5.0</td>\n",
              "      <td>4.0</td>\n",
              "      <td>4.0</td>\n",
              "      <td>31.377862</td>\n",
              "      <td>268.0</td>\n",
              "      <td>No</td>\n",
              "      <td>199.458074</td>\n",
              "      <td>223.451310</td>\n",
              "      <td>Good</td>\n",
              "      <td>Good</td>\n",
              "      <td>...</td>\n",
              "      <td>23.0</td>\n",
              "      <td>19114.12</td>\n",
              "      <td>3.0</td>\n",
              "      <td>4.0</td>\n",
              "      <td>3.0</td>\n",
              "      <td>4.0</td>\n",
              "      <td>1824.843333</td>\n",
              "      <td>11.27</td>\n",
              "      <td>809.98</td>\n",
              "      <td>49.574949</td>\n",
              "    </tr>\n",
              "    <tr>\n",
              "      <th>4</th>\n",
              "      <td>6.0</td>\n",
              "      <td>4.0</td>\n",
              "      <td>4.0</td>\n",
              "      <td>24.797347</td>\n",
              "      <td>269.0</td>\n",
              "      <td>No</td>\n",
              "      <td>41.420153</td>\n",
              "      <td>341.489231</td>\n",
              "      <td>Good</td>\n",
              "      <td>Good</td>\n",
              "      <td>...</td>\n",
              "      <td>23.0</td>\n",
              "      <td>19114.12</td>\n",
              "      <td>3.0</td>\n",
              "      <td>4.0</td>\n",
              "      <td>3.0</td>\n",
              "      <td>4.0</td>\n",
              "      <td>1824.843333</td>\n",
              "      <td>11.27</td>\n",
              "      <td>809.98</td>\n",
              "      <td>49.574949</td>\n",
              "    </tr>\n",
              "  </tbody>\n",
              "</table>\n",
              "<p>5 rows × 21 columns</p>\n",
              "</div>\n",
              "    <div class=\"colab-df-buttons\">\n",
              "\n",
              "  <div class=\"colab-df-container\">\n",
              "    <button class=\"colab-df-convert\" onclick=\"convertToInteractive('df-e2fd4522-6ee3-47c2-b17e-2185d7c6d5a8')\"\n",
              "            title=\"Convert this dataframe to an interactive table.\"\n",
              "            style=\"display:none;\">\n",
              "\n",
              "  <svg xmlns=\"http://www.w3.org/2000/svg\" height=\"24px\" viewBox=\"0 -960 960 960\">\n",
              "    <path d=\"M120-120v-720h720v720H120Zm60-500h600v-160H180v160Zm220 220h160v-160H400v160Zm0 220h160v-160H400v160ZM180-400h160v-160H180v160Zm440 0h160v-160H620v160ZM180-180h160v-160H180v160Zm440 0h160v-160H620v160Z\"/>\n",
              "  </svg>\n",
              "    </button>\n",
              "\n",
              "  <style>\n",
              "    .colab-df-container {\n",
              "      display:flex;\n",
              "      gap: 12px;\n",
              "    }\n",
              "\n",
              "    .colab-df-convert {\n",
              "      background-color: #E8F0FE;\n",
              "      border: none;\n",
              "      border-radius: 50%;\n",
              "      cursor: pointer;\n",
              "      display: none;\n",
              "      fill: #1967D2;\n",
              "      height: 32px;\n",
              "      padding: 0 0 0 0;\n",
              "      width: 32px;\n",
              "    }\n",
              "\n",
              "    .colab-df-convert:hover {\n",
              "      background-color: #E2EBFA;\n",
              "      box-shadow: 0px 1px 2px rgba(60, 64, 67, 0.3), 0px 1px 3px 1px rgba(60, 64, 67, 0.15);\n",
              "      fill: #174EA6;\n",
              "    }\n",
              "\n",
              "    .colab-df-buttons div {\n",
              "      margin-bottom: 4px;\n",
              "    }\n",
              "\n",
              "    [theme=dark] .colab-df-convert {\n",
              "      background-color: #3B4455;\n",
              "      fill: #D2E3FC;\n",
              "    }\n",
              "\n",
              "    [theme=dark] .colab-df-convert:hover {\n",
              "      background-color: #434B5C;\n",
              "      box-shadow: 0px 1px 3px 1px rgba(0, 0, 0, 0.15);\n",
              "      filter: drop-shadow(0px 1px 2px rgba(0, 0, 0, 0.3));\n",
              "      fill: #FFFFFF;\n",
              "    }\n",
              "  </style>\n",
              "\n",
              "    <script>\n",
              "      const buttonEl =\n",
              "        document.querySelector('#df-e2fd4522-6ee3-47c2-b17e-2185d7c6d5a8 button.colab-df-convert');\n",
              "      buttonEl.style.display =\n",
              "        google.colab.kernel.accessAllowed ? 'block' : 'none';\n",
              "\n",
              "      async function convertToInteractive(key) {\n",
              "        const element = document.querySelector('#df-e2fd4522-6ee3-47c2-b17e-2185d7c6d5a8');\n",
              "        const dataTable =\n",
              "          await google.colab.kernel.invokeFunction('convertToInteractive',\n",
              "                                                    [key], {});\n",
              "        if (!dataTable) return;\n",
              "\n",
              "        const docLinkHtml = 'Like what you see? Visit the ' +\n",
              "          '<a target=\"_blank\" href=https://colab.research.google.com/notebooks/data_table.ipynb>data table notebook</a>'\n",
              "          + ' to learn more about interactive tables.';\n",
              "        element.innerHTML = '';\n",
              "        dataTable['output_type'] = 'display_data';\n",
              "        await google.colab.output.renderOutput(dataTable, element);\n",
              "        const docLink = document.createElement('div');\n",
              "        docLink.innerHTML = docLinkHtml;\n",
              "        element.appendChild(docLink);\n",
              "      }\n",
              "    </script>\n",
              "  </div>\n",
              "\n",
              "\n",
              "<div id=\"df-561d8856-43e2-414c-aed5-c089cee74269\">\n",
              "  <button class=\"colab-df-quickchart\" onclick=\"quickchart('df-561d8856-43e2-414c-aed5-c089cee74269')\"\n",
              "            title=\"Suggest charts\"\n",
              "            style=\"display:none;\">\n",
              "\n",
              "<svg xmlns=\"http://www.w3.org/2000/svg\" height=\"24px\"viewBox=\"0 0 24 24\"\n",
              "     width=\"24px\">\n",
              "    <g>\n",
              "        <path d=\"M19 3H5c-1.1 0-2 .9-2 2v14c0 1.1.9 2 2 2h14c1.1 0 2-.9 2-2V5c0-1.1-.9-2-2-2zM9 17H7v-7h2v7zm4 0h-2V7h2v10zm4 0h-2v-4h2v4z\"/>\n",
              "    </g>\n",
              "</svg>\n",
              "  </button>\n",
              "\n",
              "<style>\n",
              "  .colab-df-quickchart {\n",
              "      --bg-color: #E8F0FE;\n",
              "      --fill-color: #1967D2;\n",
              "      --hover-bg-color: #E2EBFA;\n",
              "      --hover-fill-color: #174EA6;\n",
              "      --disabled-fill-color: #AAA;\n",
              "      --disabled-bg-color: #DDD;\n",
              "  }\n",
              "\n",
              "  [theme=dark] .colab-df-quickchart {\n",
              "      --bg-color: #3B4455;\n",
              "      --fill-color: #D2E3FC;\n",
              "      --hover-bg-color: #434B5C;\n",
              "      --hover-fill-color: #FFFFFF;\n",
              "      --disabled-bg-color: #3B4455;\n",
              "      --disabled-fill-color: #666;\n",
              "  }\n",
              "\n",
              "  .colab-df-quickchart {\n",
              "    background-color: var(--bg-color);\n",
              "    border: none;\n",
              "    border-radius: 50%;\n",
              "    cursor: pointer;\n",
              "    display: none;\n",
              "    fill: var(--fill-color);\n",
              "    height: 32px;\n",
              "    padding: 0;\n",
              "    width: 32px;\n",
              "  }\n",
              "\n",
              "  .colab-df-quickchart:hover {\n",
              "    background-color: var(--hover-bg-color);\n",
              "    box-shadow: 0 1px 2px rgba(60, 64, 67, 0.3), 0 1px 3px 1px rgba(60, 64, 67, 0.15);\n",
              "    fill: var(--button-hover-fill-color);\n",
              "  }\n",
              "\n",
              "  .colab-df-quickchart-complete:disabled,\n",
              "  .colab-df-quickchart-complete:disabled:hover {\n",
              "    background-color: var(--disabled-bg-color);\n",
              "    fill: var(--disabled-fill-color);\n",
              "    box-shadow: none;\n",
              "  }\n",
              "\n",
              "  .colab-df-spinner {\n",
              "    border: 2px solid var(--fill-color);\n",
              "    border-color: transparent;\n",
              "    border-bottom-color: var(--fill-color);\n",
              "    animation:\n",
              "      spin 1s steps(1) infinite;\n",
              "  }\n",
              "\n",
              "  @keyframes spin {\n",
              "    0% {\n",
              "      border-color: transparent;\n",
              "      border-bottom-color: var(--fill-color);\n",
              "      border-left-color: var(--fill-color);\n",
              "    }\n",
              "    20% {\n",
              "      border-color: transparent;\n",
              "      border-left-color: var(--fill-color);\n",
              "      border-top-color: var(--fill-color);\n",
              "    }\n",
              "    30% {\n",
              "      border-color: transparent;\n",
              "      border-left-color: var(--fill-color);\n",
              "      border-top-color: var(--fill-color);\n",
              "      border-right-color: var(--fill-color);\n",
              "    }\n",
              "    40% {\n",
              "      border-color: transparent;\n",
              "      border-right-color: var(--fill-color);\n",
              "      border-top-color: var(--fill-color);\n",
              "    }\n",
              "    60% {\n",
              "      border-color: transparent;\n",
              "      border-right-color: var(--fill-color);\n",
              "    }\n",
              "    80% {\n",
              "      border-color: transparent;\n",
              "      border-right-color: var(--fill-color);\n",
              "      border-bottom-color: var(--fill-color);\n",
              "    }\n",
              "    90% {\n",
              "      border-color: transparent;\n",
              "      border-bottom-color: var(--fill-color);\n",
              "    }\n",
              "  }\n",
              "</style>\n",
              "\n",
              "  <script>\n",
              "    async function quickchart(key) {\n",
              "      const quickchartButtonEl =\n",
              "        document.querySelector('#' + key + ' button');\n",
              "      quickchartButtonEl.disabled = true;  // To prevent multiple clicks.\n",
              "      quickchartButtonEl.classList.add('colab-df-spinner');\n",
              "      try {\n",
              "        const charts = await google.colab.kernel.invokeFunction(\n",
              "            'suggestCharts', [key], {});\n",
              "      } catch (error) {\n",
              "        console.error('Error during call to suggestCharts:', error);\n",
              "      }\n",
              "      quickchartButtonEl.classList.remove('colab-df-spinner');\n",
              "      quickchartButtonEl.classList.add('colab-df-quickchart-complete');\n",
              "    }\n",
              "    (() => {\n",
              "      let quickchartButtonEl =\n",
              "        document.querySelector('#df-561d8856-43e2-414c-aed5-c089cee74269 button');\n",
              "      quickchartButtonEl.style.display =\n",
              "        google.colab.kernel.accessAllowed ? 'block' : 'none';\n",
              "    })();\n",
              "  </script>\n",
              "</div>\n",
              "    </div>\n",
              "  </div>\n"
            ]
          },
          "metadata": {},
          "execution_count": 4
        }
      ],
      "source": [
        "data.head()"
      ]
    },
    {
      "cell_type": "code",
      "execution_count": null,
      "metadata": {
        "colab": {
          "base_uri": "https://localhost:8080/"
        },
        "id": "O3g0OvHIx2-4",
        "outputId": "0799fcbf-d144-4dcd-a718-b5effeaa1493"
      },
      "outputs": [
        {
          "output_type": "execute_result",
          "data": {
            "text/plain": [
              "False"
            ]
          },
          "metadata": {},
          "execution_count": 5
        }
      ],
      "source": [
        "data.isnull().sum().any()"
      ]
    },
    {
      "cell_type": "code",
      "execution_count": null,
      "metadata": {
        "colab": {
          "base_uri": "https://localhost:8080/"
        },
        "id": "7pglmOPR9DQV",
        "outputId": "b799e1e0-b2f0-42e1-fa8b-7b207cc8d3b2"
      },
      "outputs": [
        {
          "output_type": "stream",
          "name": "stdout",
          "text": [
            "<class 'pandas.core.frame.DataFrame'>\n",
            "RangeIndex: 99960 entries, 0 to 99959\n",
            "Data columns (total 21 columns):\n",
            " #   Column                    Non-Null Count  Dtype  \n",
            "---  ------                    --------------  -----  \n",
            " 0   Delay_from_due_date       99960 non-null  float64\n",
            " 1   Num_of_Delayed_Payment    99960 non-null  float64\n",
            " 2   Num_Credit_Inquiries      99960 non-null  float64\n",
            " 3   Credit_Utilization_Ratio  99960 non-null  float64\n",
            " 4   Credit_History_Age        99960 non-null  float64\n",
            " 5   Payment_of_Min_Amount     99960 non-null  object \n",
            " 6   Amount_invested_monthly   99960 non-null  float64\n",
            " 7   Monthly_Balance           99960 non-null  float64\n",
            " 8   Credit_Score              99960 non-null  object \n",
            " 9   Credit_Mix                99960 non-null  object \n",
            " 10  Payment_Behaviour         99960 non-null  object \n",
            " 11  Age                       99960 non-null  float64\n",
            " 12  Annual_Income             99960 non-null  float64\n",
            " 13  Num_Bank_Accounts         99960 non-null  float64\n",
            " 14  Num_Credit_Card           99960 non-null  float64\n",
            " 15  Interest_Rate             99960 non-null  float64\n",
            " 16  Num_of_Loan               99960 non-null  float64\n",
            " 17  Monthly_Inhand_Salary     99960 non-null  float64\n",
            " 18  Changed_Credit_Limit      99960 non-null  float64\n",
            " 19  Outstanding_Debt          99960 non-null  float64\n",
            " 20  Total_EMI_per_month       99960 non-null  float64\n",
            "dtypes: float64(17), object(4)\n",
            "memory usage: 16.0+ MB\n"
          ]
        }
      ],
      "source": [
        "data.info()"
      ]
    },
    {
      "cell_type": "code",
      "execution_count": null,
      "metadata": {
        "id": "b-Sact7zHQRR"
      },
      "outputs": [],
      "source": [
        "target_col = 'Credit_Score'"
      ]
    },
    {
      "cell_type": "code",
      "execution_count": null,
      "metadata": {
        "colab": {
          "base_uri": "https://localhost:8080/"
        },
        "id": "Cs85Jcun92rR",
        "outputId": "a994a8b1-57de-4503-aae1-bb6dab7924ba"
      },
      "outputs": [
        {
          "output_type": "execute_result",
          "data": {
            "text/plain": [
              "Standard    0.531703\n",
              "Poor        0.289996\n",
              "Good        0.178301\n",
              "Name: Credit_Score, dtype: float64"
            ]
          },
          "metadata": {},
          "execution_count": 8
        }
      ],
      "source": [
        "data[target_col].value_counts(normalize=True)"
      ]
    },
    {
      "cell_type": "code",
      "execution_count": null,
      "metadata": {
        "id": "ocUf65PQHYh_"
      },
      "outputs": [],
      "source": [
        "y =  data[[target_col]]\n",
        "X = data.drop(target_col, axis=1)\n"
      ]
    },
    {
      "cell_type": "markdown",
      "metadata": {
        "id": "Ys4frEwnFwQM"
      },
      "source": [
        "In our entire data, the proportion of all the 3 classes is not similar."
      ]
    },
    {
      "cell_type": "markdown",
      "metadata": {
        "id": "mw6NY9dDHz7y"
      },
      "source": [
        "A random train test split might not be correct because there is a chance that, all samples of minority class might go into training and we might not have a chance to evaluate prediction of minority class. Hence, proceed with stratified train test split whcih allows for similar distribution of target in train and test sets."
      ]
    },
    {
      "cell_type": "markdown",
      "metadata": {
        "id": "dKsS2TyRGJx_"
      },
      "source": [
        "**Perfomed Stratified Train Test split**"
      ]
    },
    {
      "cell_type": "code",
      "execution_count": null,
      "metadata": {
        "id": "VAiV8FuRsiLS"
      },
      "outputs": [],
      "source": [
        "from sklearn.model_selection import train_test_split\n",
        "X_train, X_test, y_train, y_test = train_test_split(X, y, random_state=1,stratify = y, test_size = 0.30)"
      ]
    },
    {
      "cell_type": "code",
      "execution_count": null,
      "metadata": {
        "colab": {
          "base_uri": "https://localhost:8080/"
        },
        "id": "yZn0vdYgHyPe",
        "outputId": "08a79d24-982d-4d01-e17d-a5261418c035"
      },
      "outputs": [
        {
          "output_type": "execute_result",
          "data": {
            "text/plain": [
              "((69972, 20), (69972, 1), (29988, 20), (29988, 1))"
            ]
          },
          "metadata": {},
          "execution_count": 11
        }
      ],
      "source": [
        "X_train.shape,y_train.shape,X_test.shape , y_test.shape"
      ]
    },
    {
      "cell_type": "code",
      "execution_count": null,
      "metadata": {
        "colab": {
          "base_uri": "https://localhost:8080/"
        },
        "id": "y6gPr16jImZv",
        "outputId": "71f0d85d-cb5a-41e8-c0b1-025e21dcf28a"
      },
      "outputs": [
        {
          "output_type": "execute_result",
          "data": {
            "text/plain": [
              "Credit_Score\n",
              "Standard        0.531698\n",
              "Poor            0.290002\n",
              "Good            0.178300\n",
              "dtype: float64"
            ]
          },
          "metadata": {},
          "execution_count": 12
        }
      ],
      "source": [
        "y_train.value_counts(normalize=True)"
      ]
    },
    {
      "cell_type": "code",
      "execution_count": null,
      "metadata": {
        "colab": {
          "base_uri": "https://localhost:8080/"
        },
        "id": "vE_OoOsYIuBm",
        "outputId": "cbeb921e-15cb-491d-db44-9fba91c09a38"
      },
      "outputs": [
        {
          "output_type": "execute_result",
          "data": {
            "text/plain": [
              "Credit_Score\n",
              "Standard        0.531713\n",
              "Poor            0.289983\n",
              "Good            0.178305\n",
              "dtype: float64"
            ]
          },
          "metadata": {},
          "execution_count": 13
        }
      ],
      "source": [
        "y_test.value_counts(normalize=True)"
      ]
    },
    {
      "cell_type": "markdown",
      "metadata": {
        "id": "-GHQXIAkI0R0"
      },
      "source": [
        "We can see that both train and test sets have same distribution of target column."
      ]
    },
    {
      "cell_type": "markdown",
      "metadata": {
        "id": "Tv4eV2PJK4gB"
      },
      "source": [
        "Since there are categorical columns, convert them into numeric values either by one-hot encoding or label encoding or some other kindof transformation."
      ]
    },
    {
      "cell_type": "markdown",
      "metadata": {
        "id": "OKrH1Klc-2Vd"
      },
      "source": [
        "Since policy_id is just an identifier and is random and doesnt effect their insurance claim decision, dropping that column."
      ]
    },
    {
      "cell_type": "code",
      "execution_count": null,
      "metadata": {
        "id": "Le3v6uje_MhW"
      },
      "outputs": [],
      "source": [
        "data_cols = X_train.columns"
      ]
    },
    {
      "cell_type": "code",
      "execution_count": null,
      "metadata": {
        "id": "4c0NxvN2_c5U"
      },
      "outputs": [],
      "source": [
        "from sklearn.preprocessing import OneHotEncoder"
      ]
    },
    {
      "cell_type": "code",
      "execution_count": null,
      "metadata": {
        "colab": {
          "base_uri": "https://localhost:8080/"
        },
        "id": "vNihajAz_xjm",
        "outputId": "1d478a58-90e5-41b1-abd0-ab997d74e4f6"
      },
      "outputs": [
        {
          "output_type": "stream",
          "name": "stdout",
          "text": [
            "Payment_of_Min_Amount 3\n",
            "Credit_Mix 3\n",
            "Payment_Behaviour 6\n"
          ]
        }
      ],
      "source": [
        "for col in data_cols:\n",
        "  if X_train[col].dtype == object:\n",
        "    print(col, X_train[col].nunique() )"
      ]
    },
    {
      "cell_type": "markdown",
      "metadata": {
        "id": "HKniENS8_8fc"
      },
      "source": [
        "Since all the above 3 categorical columns have small number of nunique values, one hot encoding can be performed on the above categorical columns."
      ]
    },
    {
      "cell_type": "code",
      "execution_count": null,
      "metadata": {
        "id": "eaU_IbsY-NMf"
      },
      "outputs": [],
      "source": [
        "for col in data_cols:\n",
        "  if X_train[col].dtype == object:\n",
        "    # encoding using onehot encoder\n",
        "    ohe = OneHotEncoder(drop='first')\n",
        "    ohe.fit(X_train[[col]])\n",
        "    X_train[ohe.get_feature_names_out().tolist()] = ohe.transform(X_train[[col]]).toarray()\n",
        "    X_test[ohe.get_feature_names_out().tolist()] = ohe.transform(X_test[[col]]).toarray()\n",
        "    # Done with feature encoding, now dropping the actual categorical columns.\n",
        "    X_train.drop(col,axis=1,inplace=True)\n",
        "    X_test.drop(col,axis=1,inplace=True)\n"
      ]
    },
    {
      "cell_type": "code",
      "execution_count": null,
      "metadata": {
        "colab": {
          "base_uri": "https://localhost:8080/",
          "height": 349
        },
        "id": "D7s1MORRsgA8",
        "outputId": "b5f2d861-5688-48db-fe81-094c1bb09546"
      },
      "outputs": [
        {
          "output_type": "execute_result",
          "data": {
            "text/plain": [
              "       Delay_from_due_date  Num_of_Delayed_Payment  Num_Credit_Inquiries  \\\n",
              "count         69972.000000            69972.000000          69972.000000   \n",
              "mean             21.096253               13.334648              5.768779   \n",
              "std              14.822407                6.265395              3.857986   \n",
              "min               0.000000                0.000000              0.000000   \n",
              "25%              10.000000                9.000000              3.000000   \n",
              "50%              18.000000               14.000000              5.000000   \n",
              "75%              28.000000               18.000000              8.000000   \n",
              "max              67.000000               28.000000             29.000000   \n",
              "\n",
              "       Credit_Utilization_Ratio  Credit_History_Age  Amount_invested_monthly  \\\n",
              "count              69972.000000        69972.000000             69972.000000   \n",
              "mean                  32.274129          221.094366               194.098588   \n",
              "std                    5.121105           99.639083               195.697572   \n",
              "min                   20.000000            1.000000                 0.000000   \n",
              "25%                   28.044842          145.000000                73.534845   \n",
              "50%                   32.269788          219.000000               129.723157   \n",
              "75%                   36.495345          302.000000               234.418613   \n",
              "max                   50.000000          404.000000              1961.218850   \n",
              "\n",
              "       Monthly_Balance           Age  Annual_Income  Num_Bank_Accounts  ...  \\\n",
              "count     69972.000000  69972.000000   69972.000000       69972.000000  ...   \n",
              "mean        403.554883     33.276468   50518.641380           5.370177  ...   \n",
              "std         214.471644     10.762144   38355.377666           2.596231  ...   \n",
              "min           0.007760     14.000000    7005.930000           0.000000  ...   \n",
              "25%         270.237133     24.000000   19397.325000           3.000000  ...   \n",
              "50%         337.833914     33.000000   36964.080000           5.000000  ...   \n",
              "75%         472.102561     42.000000   71689.680000           7.000000  ...   \n",
              "max        1602.040519     56.000000  179987.280000          10.000000  ...   \n",
              "\n",
              "       Total_EMI_per_month  Payment_of_Min_Amount_No  \\\n",
              "count         69972.000000              69972.000000   \n",
              "mean            105.542038                  0.356671   \n",
              "std             127.016879                  0.479020   \n",
              "min               0.000000                  0.000000   \n",
              "25%              29.105604                  0.000000   \n",
              "50%              66.058063                  0.000000   \n",
              "75%             144.923526                  1.000000   \n",
              "max            1779.103254                  1.000000   \n",
              "\n",
              "       Payment_of_Min_Amount_Yes  Credit_Mix_Good  Credit_Mix_Standard  \\\n",
              "count               69972.000000      69972.00000         69972.000000   \n",
              "mean                    0.523324          0.30415             0.457683   \n",
              "std                     0.499459          0.46005             0.498210   \n",
              "min                     0.000000          0.00000             0.000000   \n",
              "25%                     0.000000          0.00000             0.000000   \n",
              "50%                     1.000000          0.00000             0.000000   \n",
              "75%                     1.000000          1.00000             1.000000   \n",
              "max                     1.000000          1.00000             1.000000   \n",
              "\n",
              "       Payment_Behaviour_High_spent_Medium_value_payments  \\\n",
              "count                                       69972.000000    \n",
              "mean                                            0.266950    \n",
              "std                                             0.442369    \n",
              "min                                             0.000000    \n",
              "25%                                             0.000000    \n",
              "50%                                             0.000000    \n",
              "75%                                             1.000000    \n",
              "max                                             1.000000    \n",
              "\n",
              "       Payment_Behaviour_High_spent_Small_value_payments  \\\n",
              "count                                       69972.000000   \n",
              "mean                                            0.065526   \n",
              "std                                             0.247454   \n",
              "min                                             0.000000   \n",
              "25%                                             0.000000   \n",
              "50%                                             0.000000   \n",
              "75%                                             0.000000   \n",
              "max                                             1.000000   \n",
              "\n",
              "       Payment_Behaviour_Low_spent_Large_value_payments  \\\n",
              "count                                      69972.000000   \n",
              "mean                                           0.057680   \n",
              "std                                            0.233139   \n",
              "min                                            0.000000   \n",
              "25%                                            0.000000   \n",
              "50%                                            0.000000   \n",
              "75%                                            0.000000   \n",
              "max                                            1.000000   \n",
              "\n",
              "       Payment_Behaviour_Low_spent_Medium_value_payments  \\\n",
              "count                                       69972.000000   \n",
              "mean                                            0.102955   \n",
              "std                                             0.303903   \n",
              "min                                             0.000000   \n",
              "25%                                             0.000000   \n",
              "50%                                             0.000000   \n",
              "75%                                             0.000000   \n",
              "max                                             1.000000   \n",
              "\n",
              "       Payment_Behaviour_Low_spent_Small_value_payments  \n",
              "count                                      69972.000000  \n",
              "mean                                           0.338607  \n",
              "std                                            0.473239  \n",
              "min                                            0.000000  \n",
              "25%                                            0.000000  \n",
              "50%                                            0.000000  \n",
              "75%                                            1.000000  \n",
              "max                                            1.000000  \n",
              "\n",
              "[8 rows x 26 columns]"
            ],
            "text/html": [
              "\n",
              "  <div id=\"df-7736e3bf-e1ed-4fb7-9925-4134c9645e6f\" class=\"colab-df-container\">\n",
              "    <div>\n",
              "<style scoped>\n",
              "    .dataframe tbody tr th:only-of-type {\n",
              "        vertical-align: middle;\n",
              "    }\n",
              "\n",
              "    .dataframe tbody tr th {\n",
              "        vertical-align: top;\n",
              "    }\n",
              "\n",
              "    .dataframe thead th {\n",
              "        text-align: right;\n",
              "    }\n",
              "</style>\n",
              "<table border=\"1\" class=\"dataframe\">\n",
              "  <thead>\n",
              "    <tr style=\"text-align: right;\">\n",
              "      <th></th>\n",
              "      <th>Delay_from_due_date</th>\n",
              "      <th>Num_of_Delayed_Payment</th>\n",
              "      <th>Num_Credit_Inquiries</th>\n",
              "      <th>Credit_Utilization_Ratio</th>\n",
              "      <th>Credit_History_Age</th>\n",
              "      <th>Amount_invested_monthly</th>\n",
              "      <th>Monthly_Balance</th>\n",
              "      <th>Age</th>\n",
              "      <th>Annual_Income</th>\n",
              "      <th>Num_Bank_Accounts</th>\n",
              "      <th>...</th>\n",
              "      <th>Total_EMI_per_month</th>\n",
              "      <th>Payment_of_Min_Amount_No</th>\n",
              "      <th>Payment_of_Min_Amount_Yes</th>\n",
              "      <th>Credit_Mix_Good</th>\n",
              "      <th>Credit_Mix_Standard</th>\n",
              "      <th>Payment_Behaviour_High_spent_Medium_value_payments</th>\n",
              "      <th>Payment_Behaviour_High_spent_Small_value_payments</th>\n",
              "      <th>Payment_Behaviour_Low_spent_Large_value_payments</th>\n",
              "      <th>Payment_Behaviour_Low_spent_Medium_value_payments</th>\n",
              "      <th>Payment_Behaviour_Low_spent_Small_value_payments</th>\n",
              "    </tr>\n",
              "  </thead>\n",
              "  <tbody>\n",
              "    <tr>\n",
              "      <th>count</th>\n",
              "      <td>69972.000000</td>\n",
              "      <td>69972.000000</td>\n",
              "      <td>69972.000000</td>\n",
              "      <td>69972.000000</td>\n",
              "      <td>69972.000000</td>\n",
              "      <td>69972.000000</td>\n",
              "      <td>69972.000000</td>\n",
              "      <td>69972.000000</td>\n",
              "      <td>69972.000000</td>\n",
              "      <td>69972.000000</td>\n",
              "      <td>...</td>\n",
              "      <td>69972.000000</td>\n",
              "      <td>69972.000000</td>\n",
              "      <td>69972.000000</td>\n",
              "      <td>69972.00000</td>\n",
              "      <td>69972.000000</td>\n",
              "      <td>69972.000000</td>\n",
              "      <td>69972.000000</td>\n",
              "      <td>69972.000000</td>\n",
              "      <td>69972.000000</td>\n",
              "      <td>69972.000000</td>\n",
              "    </tr>\n",
              "    <tr>\n",
              "      <th>mean</th>\n",
              "      <td>21.096253</td>\n",
              "      <td>13.334648</td>\n",
              "      <td>5.768779</td>\n",
              "      <td>32.274129</td>\n",
              "      <td>221.094366</td>\n",
              "      <td>194.098588</td>\n",
              "      <td>403.554883</td>\n",
              "      <td>33.276468</td>\n",
              "      <td>50518.641380</td>\n",
              "      <td>5.370177</td>\n",
              "      <td>...</td>\n",
              "      <td>105.542038</td>\n",
              "      <td>0.356671</td>\n",
              "      <td>0.523324</td>\n",
              "      <td>0.30415</td>\n",
              "      <td>0.457683</td>\n",
              "      <td>0.266950</td>\n",
              "      <td>0.065526</td>\n",
              "      <td>0.057680</td>\n",
              "      <td>0.102955</td>\n",
              "      <td>0.338607</td>\n",
              "    </tr>\n",
              "    <tr>\n",
              "      <th>std</th>\n",
              "      <td>14.822407</td>\n",
              "      <td>6.265395</td>\n",
              "      <td>3.857986</td>\n",
              "      <td>5.121105</td>\n",
              "      <td>99.639083</td>\n",
              "      <td>195.697572</td>\n",
              "      <td>214.471644</td>\n",
              "      <td>10.762144</td>\n",
              "      <td>38355.377666</td>\n",
              "      <td>2.596231</td>\n",
              "      <td>...</td>\n",
              "      <td>127.016879</td>\n",
              "      <td>0.479020</td>\n",
              "      <td>0.499459</td>\n",
              "      <td>0.46005</td>\n",
              "      <td>0.498210</td>\n",
              "      <td>0.442369</td>\n",
              "      <td>0.247454</td>\n",
              "      <td>0.233139</td>\n",
              "      <td>0.303903</td>\n",
              "      <td>0.473239</td>\n",
              "    </tr>\n",
              "    <tr>\n",
              "      <th>min</th>\n",
              "      <td>0.000000</td>\n",
              "      <td>0.000000</td>\n",
              "      <td>0.000000</td>\n",
              "      <td>20.000000</td>\n",
              "      <td>1.000000</td>\n",
              "      <td>0.000000</td>\n",
              "      <td>0.007760</td>\n",
              "      <td>14.000000</td>\n",
              "      <td>7005.930000</td>\n",
              "      <td>0.000000</td>\n",
              "      <td>...</td>\n",
              "      <td>0.000000</td>\n",
              "      <td>0.000000</td>\n",
              "      <td>0.000000</td>\n",
              "      <td>0.00000</td>\n",
              "      <td>0.000000</td>\n",
              "      <td>0.000000</td>\n",
              "      <td>0.000000</td>\n",
              "      <td>0.000000</td>\n",
              "      <td>0.000000</td>\n",
              "      <td>0.000000</td>\n",
              "    </tr>\n",
              "    <tr>\n",
              "      <th>25%</th>\n",
              "      <td>10.000000</td>\n",
              "      <td>9.000000</td>\n",
              "      <td>3.000000</td>\n",
              "      <td>28.044842</td>\n",
              "      <td>145.000000</td>\n",
              "      <td>73.534845</td>\n",
              "      <td>270.237133</td>\n",
              "      <td>24.000000</td>\n",
              "      <td>19397.325000</td>\n",
              "      <td>3.000000</td>\n",
              "      <td>...</td>\n",
              "      <td>29.105604</td>\n",
              "      <td>0.000000</td>\n",
              "      <td>0.000000</td>\n",
              "      <td>0.00000</td>\n",
              "      <td>0.000000</td>\n",
              "      <td>0.000000</td>\n",
              "      <td>0.000000</td>\n",
              "      <td>0.000000</td>\n",
              "      <td>0.000000</td>\n",
              "      <td>0.000000</td>\n",
              "    </tr>\n",
              "    <tr>\n",
              "      <th>50%</th>\n",
              "      <td>18.000000</td>\n",
              "      <td>14.000000</td>\n",
              "      <td>5.000000</td>\n",
              "      <td>32.269788</td>\n",
              "      <td>219.000000</td>\n",
              "      <td>129.723157</td>\n",
              "      <td>337.833914</td>\n",
              "      <td>33.000000</td>\n",
              "      <td>36964.080000</td>\n",
              "      <td>5.000000</td>\n",
              "      <td>...</td>\n",
              "      <td>66.058063</td>\n",
              "      <td>0.000000</td>\n",
              "      <td>1.000000</td>\n",
              "      <td>0.00000</td>\n",
              "      <td>0.000000</td>\n",
              "      <td>0.000000</td>\n",
              "      <td>0.000000</td>\n",
              "      <td>0.000000</td>\n",
              "      <td>0.000000</td>\n",
              "      <td>0.000000</td>\n",
              "    </tr>\n",
              "    <tr>\n",
              "      <th>75%</th>\n",
              "      <td>28.000000</td>\n",
              "      <td>18.000000</td>\n",
              "      <td>8.000000</td>\n",
              "      <td>36.495345</td>\n",
              "      <td>302.000000</td>\n",
              "      <td>234.418613</td>\n",
              "      <td>472.102561</td>\n",
              "      <td>42.000000</td>\n",
              "      <td>71689.680000</td>\n",
              "      <td>7.000000</td>\n",
              "      <td>...</td>\n",
              "      <td>144.923526</td>\n",
              "      <td>1.000000</td>\n",
              "      <td>1.000000</td>\n",
              "      <td>1.00000</td>\n",
              "      <td>1.000000</td>\n",
              "      <td>1.000000</td>\n",
              "      <td>0.000000</td>\n",
              "      <td>0.000000</td>\n",
              "      <td>0.000000</td>\n",
              "      <td>1.000000</td>\n",
              "    </tr>\n",
              "    <tr>\n",
              "      <th>max</th>\n",
              "      <td>67.000000</td>\n",
              "      <td>28.000000</td>\n",
              "      <td>29.000000</td>\n",
              "      <td>50.000000</td>\n",
              "      <td>404.000000</td>\n",
              "      <td>1961.218850</td>\n",
              "      <td>1602.040519</td>\n",
              "      <td>56.000000</td>\n",
              "      <td>179987.280000</td>\n",
              "      <td>10.000000</td>\n",
              "      <td>...</td>\n",
              "      <td>1779.103254</td>\n",
              "      <td>1.000000</td>\n",
              "      <td>1.000000</td>\n",
              "      <td>1.00000</td>\n",
              "      <td>1.000000</td>\n",
              "      <td>1.000000</td>\n",
              "      <td>1.000000</td>\n",
              "      <td>1.000000</td>\n",
              "      <td>1.000000</td>\n",
              "      <td>1.000000</td>\n",
              "    </tr>\n",
              "  </tbody>\n",
              "</table>\n",
              "<p>8 rows × 26 columns</p>\n",
              "</div>\n",
              "    <div class=\"colab-df-buttons\">\n",
              "\n",
              "  <div class=\"colab-df-container\">\n",
              "    <button class=\"colab-df-convert\" onclick=\"convertToInteractive('df-7736e3bf-e1ed-4fb7-9925-4134c9645e6f')\"\n",
              "            title=\"Convert this dataframe to an interactive table.\"\n",
              "            style=\"display:none;\">\n",
              "\n",
              "  <svg xmlns=\"http://www.w3.org/2000/svg\" height=\"24px\" viewBox=\"0 -960 960 960\">\n",
              "    <path d=\"M120-120v-720h720v720H120Zm60-500h600v-160H180v160Zm220 220h160v-160H400v160Zm0 220h160v-160H400v160ZM180-400h160v-160H180v160Zm440 0h160v-160H620v160ZM180-180h160v-160H180v160Zm440 0h160v-160H620v160Z\"/>\n",
              "  </svg>\n",
              "    </button>\n",
              "\n",
              "  <style>\n",
              "    .colab-df-container {\n",
              "      display:flex;\n",
              "      gap: 12px;\n",
              "    }\n",
              "\n",
              "    .colab-df-convert {\n",
              "      background-color: #E8F0FE;\n",
              "      border: none;\n",
              "      border-radius: 50%;\n",
              "      cursor: pointer;\n",
              "      display: none;\n",
              "      fill: #1967D2;\n",
              "      height: 32px;\n",
              "      padding: 0 0 0 0;\n",
              "      width: 32px;\n",
              "    }\n",
              "\n",
              "    .colab-df-convert:hover {\n",
              "      background-color: #E2EBFA;\n",
              "      box-shadow: 0px 1px 2px rgba(60, 64, 67, 0.3), 0px 1px 3px 1px rgba(60, 64, 67, 0.15);\n",
              "      fill: #174EA6;\n",
              "    }\n",
              "\n",
              "    .colab-df-buttons div {\n",
              "      margin-bottom: 4px;\n",
              "    }\n",
              "\n",
              "    [theme=dark] .colab-df-convert {\n",
              "      background-color: #3B4455;\n",
              "      fill: #D2E3FC;\n",
              "    }\n",
              "\n",
              "    [theme=dark] .colab-df-convert:hover {\n",
              "      background-color: #434B5C;\n",
              "      box-shadow: 0px 1px 3px 1px rgba(0, 0, 0, 0.15);\n",
              "      filter: drop-shadow(0px 1px 2px rgba(0, 0, 0, 0.3));\n",
              "      fill: #FFFFFF;\n",
              "    }\n",
              "  </style>\n",
              "\n",
              "    <script>\n",
              "      const buttonEl =\n",
              "        document.querySelector('#df-7736e3bf-e1ed-4fb7-9925-4134c9645e6f button.colab-df-convert');\n",
              "      buttonEl.style.display =\n",
              "        google.colab.kernel.accessAllowed ? 'block' : 'none';\n",
              "\n",
              "      async function convertToInteractive(key) {\n",
              "        const element = document.querySelector('#df-7736e3bf-e1ed-4fb7-9925-4134c9645e6f');\n",
              "        const dataTable =\n",
              "          await google.colab.kernel.invokeFunction('convertToInteractive',\n",
              "                                                    [key], {});\n",
              "        if (!dataTable) return;\n",
              "\n",
              "        const docLinkHtml = 'Like what you see? Visit the ' +\n",
              "          '<a target=\"_blank\" href=https://colab.research.google.com/notebooks/data_table.ipynb>data table notebook</a>'\n",
              "          + ' to learn more about interactive tables.';\n",
              "        element.innerHTML = '';\n",
              "        dataTable['output_type'] = 'display_data';\n",
              "        await google.colab.output.renderOutput(dataTable, element);\n",
              "        const docLink = document.createElement('div');\n",
              "        docLink.innerHTML = docLinkHtml;\n",
              "        element.appendChild(docLink);\n",
              "      }\n",
              "    </script>\n",
              "  </div>\n",
              "\n",
              "\n",
              "<div id=\"df-ed963398-540f-43f5-b5c9-3a5e296a5105\">\n",
              "  <button class=\"colab-df-quickchart\" onclick=\"quickchart('df-ed963398-540f-43f5-b5c9-3a5e296a5105')\"\n",
              "            title=\"Suggest charts\"\n",
              "            style=\"display:none;\">\n",
              "\n",
              "<svg xmlns=\"http://www.w3.org/2000/svg\" height=\"24px\"viewBox=\"0 0 24 24\"\n",
              "     width=\"24px\">\n",
              "    <g>\n",
              "        <path d=\"M19 3H5c-1.1 0-2 .9-2 2v14c0 1.1.9 2 2 2h14c1.1 0 2-.9 2-2V5c0-1.1-.9-2-2-2zM9 17H7v-7h2v7zm4 0h-2V7h2v10zm4 0h-2v-4h2v4z\"/>\n",
              "    </g>\n",
              "</svg>\n",
              "  </button>\n",
              "\n",
              "<style>\n",
              "  .colab-df-quickchart {\n",
              "      --bg-color: #E8F0FE;\n",
              "      --fill-color: #1967D2;\n",
              "      --hover-bg-color: #E2EBFA;\n",
              "      --hover-fill-color: #174EA6;\n",
              "      --disabled-fill-color: #AAA;\n",
              "      --disabled-bg-color: #DDD;\n",
              "  }\n",
              "\n",
              "  [theme=dark] .colab-df-quickchart {\n",
              "      --bg-color: #3B4455;\n",
              "      --fill-color: #D2E3FC;\n",
              "      --hover-bg-color: #434B5C;\n",
              "      --hover-fill-color: #FFFFFF;\n",
              "      --disabled-bg-color: #3B4455;\n",
              "      --disabled-fill-color: #666;\n",
              "  }\n",
              "\n",
              "  .colab-df-quickchart {\n",
              "    background-color: var(--bg-color);\n",
              "    border: none;\n",
              "    border-radius: 50%;\n",
              "    cursor: pointer;\n",
              "    display: none;\n",
              "    fill: var(--fill-color);\n",
              "    height: 32px;\n",
              "    padding: 0;\n",
              "    width: 32px;\n",
              "  }\n",
              "\n",
              "  .colab-df-quickchart:hover {\n",
              "    background-color: var(--hover-bg-color);\n",
              "    box-shadow: 0 1px 2px rgba(60, 64, 67, 0.3), 0 1px 3px 1px rgba(60, 64, 67, 0.15);\n",
              "    fill: var(--button-hover-fill-color);\n",
              "  }\n",
              "\n",
              "  .colab-df-quickchart-complete:disabled,\n",
              "  .colab-df-quickchart-complete:disabled:hover {\n",
              "    background-color: var(--disabled-bg-color);\n",
              "    fill: var(--disabled-fill-color);\n",
              "    box-shadow: none;\n",
              "  }\n",
              "\n",
              "  .colab-df-spinner {\n",
              "    border: 2px solid var(--fill-color);\n",
              "    border-color: transparent;\n",
              "    border-bottom-color: var(--fill-color);\n",
              "    animation:\n",
              "      spin 1s steps(1) infinite;\n",
              "  }\n",
              "\n",
              "  @keyframes spin {\n",
              "    0% {\n",
              "      border-color: transparent;\n",
              "      border-bottom-color: var(--fill-color);\n",
              "      border-left-color: var(--fill-color);\n",
              "    }\n",
              "    20% {\n",
              "      border-color: transparent;\n",
              "      border-left-color: var(--fill-color);\n",
              "      border-top-color: var(--fill-color);\n",
              "    }\n",
              "    30% {\n",
              "      border-color: transparent;\n",
              "      border-left-color: var(--fill-color);\n",
              "      border-top-color: var(--fill-color);\n",
              "      border-right-color: var(--fill-color);\n",
              "    }\n",
              "    40% {\n",
              "      border-color: transparent;\n",
              "      border-right-color: var(--fill-color);\n",
              "      border-top-color: var(--fill-color);\n",
              "    }\n",
              "    60% {\n",
              "      border-color: transparent;\n",
              "      border-right-color: var(--fill-color);\n",
              "    }\n",
              "    80% {\n",
              "      border-color: transparent;\n",
              "      border-right-color: var(--fill-color);\n",
              "      border-bottom-color: var(--fill-color);\n",
              "    }\n",
              "    90% {\n",
              "      border-color: transparent;\n",
              "      border-bottom-color: var(--fill-color);\n",
              "    }\n",
              "  }\n",
              "</style>\n",
              "\n",
              "  <script>\n",
              "    async function quickchart(key) {\n",
              "      const quickchartButtonEl =\n",
              "        document.querySelector('#' + key + ' button');\n",
              "      quickchartButtonEl.disabled = true;  // To prevent multiple clicks.\n",
              "      quickchartButtonEl.classList.add('colab-df-spinner');\n",
              "      try {\n",
              "        const charts = await google.colab.kernel.invokeFunction(\n",
              "            'suggestCharts', [key], {});\n",
              "      } catch (error) {\n",
              "        console.error('Error during call to suggestCharts:', error);\n",
              "      }\n",
              "      quickchartButtonEl.classList.remove('colab-df-spinner');\n",
              "      quickchartButtonEl.classList.add('colab-df-quickchart-complete');\n",
              "    }\n",
              "    (() => {\n",
              "      let quickchartButtonEl =\n",
              "        document.querySelector('#df-ed963398-540f-43f5-b5c9-3a5e296a5105 button');\n",
              "      quickchartButtonEl.style.display =\n",
              "        google.colab.kernel.accessAllowed ? 'block' : 'none';\n",
              "    })();\n",
              "  </script>\n",
              "</div>\n",
              "    </div>\n",
              "  </div>\n"
            ]
          },
          "metadata": {},
          "execution_count": 18
        }
      ],
      "source": [
        "X_train.describe()"
      ]
    },
    {
      "cell_type": "markdown",
      "metadata": {
        "id": "yvu2mVsUwe57"
      },
      "source": [
        "Few columns have values which are in higher range like 50,000's, 500s and it would be difficult for the model to converge, hence scale the columns."
      ]
    },
    {
      "cell_type": "code",
      "execution_count": null,
      "metadata": {
        "id": "VA3IsqTer-B1"
      },
      "outputs": [],
      "source": [
        "temp = X_train.describe()\n",
        "temp = pd.DataFrame(temp.loc['mean']>10)\n",
        "scale_cols = temp[temp['mean']==True].index"
      ]
    },
    {
      "cell_type": "code",
      "execution_count": null,
      "metadata": {
        "id": "gt_wYbRlx2QF"
      },
      "outputs": [],
      "source": [
        "from sklearn.preprocessing import StandardScaler\n",
        "\n",
        "std_slr = StandardScaler()\n",
        "std_slr.fit(X_train[scale_cols])\n",
        "\n",
        "\n",
        "X_train_scaled = X_train.copy()\n",
        "X_test_scaled = X_test.copy()\n",
        "\n",
        "X_train_scaled[scale_cols] = std_slr.transform(X_train[scale_cols])\n",
        "X_test_scaled[scale_cols] = std_slr.transform(X_test[scale_cols])\n",
        "\n",
        "X_train_scaled = X_train_scaled.to_numpy()\n",
        "X_test_scaled = X_test_scaled.to_numpy()"
      ]
    },
    {
      "cell_type": "markdown",
      "source": [
        "Since our target column is categorical, we need to encode the target variable using one hot encoder."
      ],
      "metadata": {
        "id": "jCo4sDFyX82Z"
      }
    },
    {
      "cell_type": "code",
      "execution_count": null,
      "metadata": {
        "id": "A3U3x-SG-6fm"
      },
      "outputs": [],
      "source": [
        "col = 'Credit_Score'\n",
        "ohe_target = OneHotEncoder()\n",
        "ohe_target.fit(y_train[[col]])\n",
        "y_train = ohe_target.transform(y_train[[col]]).toarray()\n",
        "y_test = ohe_target.transform(y_test[[col]]).toarray()"
      ]
    },
    {
      "cell_type": "code",
      "source": [
        "X_train_scaled.shape,y_train.shape, X_test_scaled.shape,y_test.shape"
      ],
      "metadata": {
        "colab": {
          "base_uri": "https://localhost:8080/"
        },
        "id": "P2RKvDEmXVUs",
        "outputId": "654dc25f-698a-44f1-914b-033cf368087d"
      },
      "execution_count": null,
      "outputs": [
        {
          "output_type": "execute_result",
          "data": {
            "text/plain": [
              "((69972, 26), (69972, 3), (29988, 26), (29988, 3))"
            ]
          },
          "metadata": {},
          "execution_count": 22
        }
      ]
    },
    {
      "cell_type": "markdown",
      "metadata": {
        "id": "8BOdFFYex-uK"
      },
      "source": [
        "Done with data processing and train test set creation."
      ]
    },
    {
      "cell_type": "markdown",
      "metadata": {
        "id": "fcTawSPoyE6h"
      },
      "source": [
        "### Model Building"
      ]
    },
    {
      "cell_type": "code",
      "execution_count": null,
      "metadata": {
        "id": "VzuveZuK1m-G"
      },
      "outputs": [],
      "source": [
        "from sklearn.neural_network import MLPClassifier\n",
        "from sklearn import metrics"
      ]
    },
    {
      "cell_type": "code",
      "execution_count": null,
      "metadata": {
        "colab": {
          "base_uri": "https://localhost:8080/"
        },
        "id": "5pQ6_XRl2IIC",
        "outputId": "744c4c1e-6fce-4d45-89e1-f6bf959320d7"
      },
      "outputs": [
        {
          "output_type": "stream",
          "name": "stderr",
          "text": [
            "/usr/local/lib/python3.10/dist-packages/sklearn/neural_network/_multilayer_perceptron.py:686: ConvergenceWarning: Stochastic Optimizer: Maximum iterations (200) reached and the optimization hasn't converged yet.\n",
            "  warnings.warn(\n"
          ]
        },
        {
          "output_type": "stream",
          "name": "stdout",
          "text": [
            "Done model by training with 0.25 of the training data of size (17493, 26) \n",
            "time taken 48.85751819610596\n",
            "train accuracy 0.7341793860401303\n",
            "test accuracy 0.6403227957849806\n",
            "              precision    recall  f1-score   support\n",
            "\n",
            "           0       0.61      0.51      0.55      5347\n",
            "           1       0.69      0.68      0.68      8696\n",
            "           2       0.75      0.71      0.73     15945\n",
            "\n",
            "   micro avg       0.71      0.66      0.68     29988\n",
            "   macro avg       0.68      0.63      0.65     29988\n",
            "weighted avg       0.71      0.66      0.68     29988\n",
            " samples avg       0.65      0.66      0.66     29988\n",
            "\n"
          ]
        },
        {
          "output_type": "stream",
          "name": "stderr",
          "text": [
            "/usr/local/lib/python3.10/dist-packages/sklearn/metrics/_classification.py:1344: UndefinedMetricWarning: Precision and F-score are ill-defined and being set to 0.0 in samples with no predicted labels. Use `zero_division` parameter to control this behavior.\n",
            "  _warn_prf(average, modifier, msg_start, len(result))\n",
            "/usr/local/lib/python3.10/dist-packages/sklearn/neural_network/_multilayer_perceptron.py:686: ConvergenceWarning: Stochastic Optimizer: Maximum iterations (200) reached and the optimization hasn't converged yet.\n",
            "  warnings.warn(\n"
          ]
        },
        {
          "output_type": "stream",
          "name": "stdout",
          "text": [
            "Done model by training with 0.5 of the training data of size (34986, 26) \n",
            "time taken 95.83796858787537\n",
            "train accuracy 0.7327788258160407\n",
            "test accuracy 0.6484593837535014\n",
            "              precision    recall  f1-score   support\n",
            "\n",
            "           0       0.62      0.52      0.57      5347\n",
            "           1       0.71      0.67      0.69      8696\n",
            "           2       0.75      0.71      0.73     15945\n",
            "\n",
            "   micro avg       0.72      0.67      0.69     29988\n",
            "   macro avg       0.69      0.64      0.66     29988\n",
            "weighted avg       0.72      0.67      0.69     29988\n",
            " samples avg       0.66      0.67      0.66     29988\n",
            "\n"
          ]
        },
        {
          "output_type": "stream",
          "name": "stderr",
          "text": [
            "/usr/local/lib/python3.10/dist-packages/sklearn/metrics/_classification.py:1344: UndefinedMetricWarning: Precision and F-score are ill-defined and being set to 0.0 in samples with no predicted labels. Use `zero_division` parameter to control this behavior.\n",
            "  _warn_prf(average, modifier, msg_start, len(result))\n",
            "/usr/local/lib/python3.10/dist-packages/sklearn/neural_network/_multilayer_perceptron.py:686: ConvergenceWarning: Stochastic Optimizer: Maximum iterations (200) reached and the optimization hasn't converged yet.\n",
            "  warnings.warn(\n"
          ]
        },
        {
          "output_type": "stream",
          "name": "stdout",
          "text": [
            "Done model by training with 0.75 of the training data of size (52479, 26) \n",
            "time taken 146.70163440704346\n",
            "train accuracy 0.743021017930982\n",
            "test accuracy 0.6626650660264105\n",
            "              precision    recall  f1-score   support\n",
            "\n",
            "           0       0.65      0.56      0.60      5347\n",
            "           1       0.71      0.69      0.70      8696\n",
            "           2       0.76      0.73      0.74     15945\n",
            "\n",
            "   micro avg       0.73      0.69      0.71     29988\n",
            "   macro avg       0.70      0.66      0.68     29988\n",
            "weighted avg       0.72      0.69      0.70     29988\n",
            " samples avg       0.67      0.69      0.68     29988\n",
            "\n"
          ]
        },
        {
          "output_type": "stream",
          "name": "stderr",
          "text": [
            "/usr/local/lib/python3.10/dist-packages/sklearn/metrics/_classification.py:1344: UndefinedMetricWarning: Precision and F-score are ill-defined and being set to 0.0 in samples with no predicted labels. Use `zero_division` parameter to control this behavior.\n",
            "  _warn_prf(average, modifier, msg_start, len(result))\n",
            "/usr/local/lib/python3.10/dist-packages/sklearn/neural_network/_multilayer_perceptron.py:686: ConvergenceWarning: Stochastic Optimizer: Maximum iterations (200) reached and the optimization hasn't converged yet.\n",
            "  warnings.warn(\n"
          ]
        },
        {
          "output_type": "stream",
          "name": "stdout",
          "text": [
            "Done model by training with 1 of the training data of size (69972, 26) \n",
            "time taken 194.6551866531372\n",
            "train accuracy 0.7414394329160235\n",
            "test accuracy 0.6664332399626517\n",
            "              precision    recall  f1-score   support\n",
            "\n",
            "           0       0.65      0.56      0.60      5347\n",
            "           1       0.72      0.68      0.70      8696\n",
            "           2       0.76      0.73      0.75     15945\n",
            "\n",
            "   micro avg       0.73      0.69      0.71     29988\n",
            "   macro avg       0.71      0.66      0.68     29988\n",
            "weighted avg       0.73      0.69      0.71     29988\n",
            " samples avg       0.68      0.69      0.68     29988\n",
            "\n"
          ]
        },
        {
          "output_type": "stream",
          "name": "stderr",
          "text": [
            "/usr/local/lib/python3.10/dist-packages/sklearn/metrics/_classification.py:1344: UndefinedMetricWarning: Precision and F-score are ill-defined and being set to 0.0 in samples with no predicted labels. Use `zero_division` parameter to control this behavior.\n",
            "  _warn_prf(average, modifier, msg_start, len(result))\n"
          ]
        }
      ],
      "source": [
        "import time\n",
        "import numpy as np\n",
        "from sklearn.metrics import accuracy_score\n",
        "\n",
        "hidden_layer = [64,32]\n",
        "activation_func = 'tanh'\n",
        "train_sizes = [0.25,0.5,0.75,1]\n",
        "\n",
        "\n",
        "losses = []\n",
        "for train_percent in train_sizes:\n",
        "  time_start = time.time()\n",
        "  clf = MLPClassifier(random_state=1, hidden_layer_sizes=hidden_layer,activation= activation_func)\n",
        "\n",
        "  rows_id = np.random.randint(X_train_scaled.shape[0], size=int(train_percent*X_train_scaled.shape[0]))\n",
        "\n",
        "  X_train_temp = X_train_scaled[rows_id, :]\n",
        "  y_train_temp = y_train[rows_id,:]\n",
        "\n",
        "  clf.fit(X_train_temp,y_train_temp)\n",
        "  losses.append((train_percent,clf.loss_curve_))\n",
        "\n",
        "  print(f'Done model by training with {train_percent} of the training data of size {X_train_temp.shape} ')\n",
        "  print('time taken', time.time()- time_start)\n",
        "\n",
        "  y_train_pred = clf.predict(X_train_temp)\n",
        "  y_test_pred = clf.predict(X_test_scaled)\n",
        "\n",
        "  train_acc = accuracy_score(y_train_temp,y_train_pred)\n",
        "  test_acc = accuracy_score(y_test,y_test_pred)\n",
        "\n",
        "  print('train accuracy', train_acc)\n",
        "  print('test accuracy', test_acc)\n",
        "\n",
        "  print(metrics.classification_report(y_test, y_test_pred))"
      ]
    },
    {
      "cell_type": "code",
      "execution_count": null,
      "metadata": {
        "id": "NQjob8WiQVk-",
        "colab": {
          "base_uri": "https://localhost:8080/"
        },
        "outputId": "b9b00bb0-76be-479e-e56a-4750ff575e80"
      },
      "outputs": [
        {
          "output_type": "stream",
          "name": "stdout",
          "text": [
            "0.25\n",
            "0.5\n",
            "0.75\n",
            "1\n"
          ]
        }
      ],
      "source": [
        "for train_percent, loss in losses:\n",
        "  print(train_percent)"
      ]
    },
    {
      "cell_type": "code",
      "source": [
        "import matplotlib.pyplot as plt\n",
        "fig, ax = plt.subplots(figsize=(6,4))\n",
        "ax.plot(losses[0][1],label = '25% of train set')\n",
        "ax.plot(losses[1][1],label = '50% of train set')\n",
        "ax.plot(losses[2][1],label = '75% of train set')\n",
        "ax.plot(losses[3][1],label = '100% of train set')\n",
        "ax.set_xlabel('Number of iterations')\n",
        "ax.set_ylabel('Training Loss')\n",
        "plt.legend()\n",
        "plt.show()\n"
      ],
      "metadata": {
        "colab": {
          "base_uri": "https://localhost:8080/",
          "height": 388
        },
        "id": "uY-WVa2aIMTO",
        "outputId": "26b58e33-9970-446e-8721-f6061865e307"
      },
      "execution_count": null,
      "outputs": [
        {
          "output_type": "display_data",
          "data": {
            "text/plain": [
              "<Figure size 600x400 with 1 Axes>"
            ],
            "image/png": "[encoded data removed]"
          },
          "metadata": {}
        }
      ]
    },
    {
      "cell_type": "code",
      "source": [],
      "metadata": {
        "id": "p296Bn1JIjkj"
      },
      "execution_count": null,
      "outputs": []
    }
  ],
  "metadata": {
    "colab": {
      "provenance": []
    },
    "kernelspec": {
      "display_name": "Python 3",
      "name": "python3"
    },
    "language_info": {
      "name": "python"
    }
  },
  "nbformat": 4,
  "nbformat_minor": 0
}