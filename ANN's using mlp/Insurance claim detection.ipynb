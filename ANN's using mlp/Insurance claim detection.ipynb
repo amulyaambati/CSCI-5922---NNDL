{
  "cells": [
    {
      "cell_type": "markdown",
      "metadata": {
        "id": "b-xTSIrzsjTg"
      },
      "source": [
        "## Insurance claim detection\n",
        "Predicting car insurance claims is a crucial task for insurance companies seeking to optimize risk management, pricing strategies, and resource allocation. By accurately forecasting the likelihood of future claims, insurers can make informed decisions regarding premiums, underwriting policies, and claims processing, ultimately improving operational efficiency and profitability while ensuring fair and competitive pricing for policyholders.\n",
        "\n",
        "Data link - [link](https://www.kaggle.com/datasets/ifteshanajnin/carinsuranceclaimprediction-classification)\n",
        "\n",
        "The Dataset contains information on policyholders having the attributes like policy tenure, age of the car, age of the car owner, the population density of the city, make and model of the car, power, engine type, etc, and the target variable indicating whether the policyholder files a claim in the next 6 months or not.\n",
        "\n",
        " The aim of this assignment is to use MLP and experiemnt with various architectures(hyperparameters) and predict churn. Through this experimentation we aim to analyse various generic patterns in either performance or training time etc."
      ]
    },
    {
      "cell_type": "code",
      "execution_count": null,
      "metadata": {
        "id": "WzHaCuehFatF"
      },
      "outputs": [],
      "source": [
        "## import required libraries\n",
        "import pandas as pd"
      ]
    },
    {
      "cell_type": "markdown",
      "metadata": {
        "id": "rQqo-79WsZKz"
      },
      "source": [
        "### Data Loading and processing"
      ]
    },
    {
      "cell_type": "code",
      "execution_count": null,
      "metadata": {
        "id": "zRQf72mosh3V"
      },
      "outputs": [],
      "source": [
        "file_path = r'/content/insurance_claim_data.csv'\n",
        "data = pd.read_csv(file_path)"
      ]
    },
    {
      "cell_type": "code",
      "execution_count": null,
      "metadata": {
        "colab": {
          "base_uri": "https://localhost:8080/"
        },
        "id": "WTi0SUWGsiCc",
        "outputId": "d9f9abb5-427b-4aca-a942-b23f997ca142"
      },
      "outputs": [
        {
          "output_type": "execute_result",
          "data": {
            "text/plain": [
              "(58592, 44)"
            ]
          },
          "metadata": {},
          "execution_count": 87
        }
      ],
      "source": [
        "data.shape"
      ]
    },
    {
      "cell_type": "code",
      "execution_count": null,
      "metadata": {
        "colab": {
          "base_uri": "https://localhost:8080/",
          "height": 255
        },
        "id": "_PBgDRTusiFK",
        "outputId": "79d8183f-cd5a-42d5-dfba-10fee84e3b74"
      },
      "outputs": [
        {
          "output_type": "execute_result",
          "data": {
            "text/plain": [
              "  policy_id  policy_tenure  age_of_car  age_of_policyholder area_cluster  \\\n",
              "0   ID00001       0.515874        0.05             0.644231           C1   \n",
              "1   ID00002       0.672619        0.02             0.375000           C2   \n",
              "2   ID00003       0.841110        0.02             0.384615           C3   \n",
              "3   ID00004       0.900277        0.11             0.432692           C4   \n",
              "4   ID00005       0.596403        0.11             0.634615           C5   \n",
              "\n",
              "   population_density  make segment model fuel_type  ... is_brake_assist  \\\n",
              "0                4990     1       A    M1       CNG  ...              No   \n",
              "1               27003     1       A    M1       CNG  ...              No   \n",
              "2                4076     1       A    M1       CNG  ...              No   \n",
              "3               21622     1      C1    M2    Petrol  ...             Yes   \n",
              "4               34738     2       A    M3    Petrol  ...              No   \n",
              "\n",
              "  is_power_door_locks is_central_locking  is_power_steering  \\\n",
              "0                  No                 No                Yes   \n",
              "1                  No                 No                Yes   \n",
              "2                  No                 No                Yes   \n",
              "3                 Yes                Yes                Yes   \n",
              "4                 Yes                Yes                Yes   \n",
              "\n",
              "  is_driver_seat_height_adjustable is_day_night_rear_view_mirror is_ecw  \\\n",
              "0                               No                            No     No   \n",
              "1                               No                            No     No   \n",
              "2                               No                            No     No   \n",
              "3                              Yes                           Yes    Yes   \n",
              "4                               No                           Yes    Yes   \n",
              "\n",
              "  is_speed_alert ncap_rating is_claim  \n",
              "0            Yes           0        0  \n",
              "1            Yes           0        0  \n",
              "2            Yes           0        0  \n",
              "3            Yes           2        0  \n",
              "4            Yes           2        0  \n",
              "\n",
              "[5 rows x 44 columns]"
            ],
            "text/html": [
              "\n",
              "  <div id=\"df-fdfb7fad-caaf-4a02-910d-dce356e5be0c\" class=\"colab-df-container\">\n",
              "    <div>\n",
              "<style scoped>\n",
              "    .dataframe tbody tr th:only-of-type {\n",
              "        vertical-align: middle;\n",
              "    }\n",
              "\n",
              "    .dataframe tbody tr th {\n",
              "        vertical-align: top;\n",
              "    }\n",
              "\n",
              "    .dataframe thead th {\n",
              "        text-align: right;\n",
              "    }\n",
              "</style>\n",
              "<table border=\"1\" class=\"dataframe\">\n",
              "  <thead>\n",
              "    <tr style=\"text-align: right;\">\n",
              "      <th></th>\n",
              "      <th>policy_id</th>\n",
              "      <th>policy_tenure</th>\n",
              "      <th>age_of_car</th>\n",
              "      <th>age_of_policyholder</th>\n",
              "      <th>area_cluster</th>\n",
              "      <th>population_density</th>\n",
              "      <th>make</th>\n",
              "      <th>segment</th>\n",
              "      <th>model</th>\n",
              "      <th>fuel_type</th>\n",
              "      <th>...</th>\n",
              "      <th>is_brake_assist</th>\n",
              "      <th>is_power_door_locks</th>\n",
              "      <th>is_central_locking</th>\n",
              "      <th>is_power_steering</th>\n",
              "      <th>is_driver_seat_height_adjustable</th>\n",
              "      <th>is_day_night_rear_view_mirror</th>\n",
              "      <th>is_ecw</th>\n",
              "      <th>is_speed_alert</th>\n",
              "      <th>ncap_rating</th>\n",
              "      <th>is_claim</th>\n",
              "    </tr>\n",
              "  </thead>\n",
              "  <tbody>\n",
              "    <tr>\n",
              "      <th>0</th>\n",
              "      <td>ID00001</td>\n",
              "      <td>0.515874</td>\n",
              "      <td>0.05</td>\n",
              "      <td>0.644231</td>\n",
              "      <td>C1</td>\n",
              "      <td>4990</td>\n",
              "      <td>1</td>\n",
              "      <td>A</td>\n",
              "      <td>M1</td>\n",
              "      <td>CNG</td>\n",
              "      <td>...</td>\n",
              "      <td>No</td>\n",
              "      <td>No</td>\n",
              "      <td>No</td>\n",
              "      <td>Yes</td>\n",
              "      <td>No</td>\n",
              "      <td>No</td>\n",
              "      <td>No</td>\n",
              "      <td>Yes</td>\n",
              "      <td>0</td>\n",
              "      <td>0</td>\n",
              "    </tr>\n",
              "    <tr>\n",
              "      <th>1</th>\n",
              "      <td>ID00002</td>\n",
              "      <td>0.672619</td>\n",
              "      <td>0.02</td>\n",
              "      <td>0.375000</td>\n",
              "      <td>C2</td>\n",
              "      <td>27003</td>\n",
              "      <td>1</td>\n",
              "      <td>A</td>\n",
              "      <td>M1</td>\n",
              "      <td>CNG</td>\n",
              "      <td>...</td>\n",
              "      <td>No</td>\n",
              "      <td>No</td>\n",
              "      <td>No</td>\n",
              "      <td>Yes</td>\n",
              "      <td>No</td>\n",
              "      <td>No</td>\n",
              "      <td>No</td>\n",
              "      <td>Yes</td>\n",
              "      <td>0</td>\n",
              "      <td>0</td>\n",
              "    </tr>\n",
              "    <tr>\n",
              "      <th>2</th>\n",
              "      <td>ID00003</td>\n",
              "      <td>0.841110</td>\n",
              "      <td>0.02</td>\n",
              "      <td>0.384615</td>\n",
              "      <td>C3</td>\n",
              "      <td>4076</td>\n",
              "      <td>1</td>\n",
              "      <td>A</td>\n",
              "      <td>M1</td>\n",
              "      <td>CNG</td>\n",
              "      <td>...</td>\n",
              "      <td>No</td>\n",
              "      <td>No</td>\n",
              "      <td>No</td>\n",
              "      <td>Yes</td>\n",
              "      <td>No</td>\n",
              "      <td>No</td>\n",
              "      <td>No</td>\n",
              "      <td>Yes</td>\n",
              "      <td>0</td>\n",
              "      <td>0</td>\n",
              "    </tr>\n",
              "    <tr>\n",
              "      <th>3</th>\n",
              "      <td>ID00004</td>\n",
              "      <td>0.900277</td>\n",
              "      <td>0.11</td>\n",
              "      <td>0.432692</td>\n",
              "      <td>C4</td>\n",
              "      <td>21622</td>\n",
              "      <td>1</td>\n",
              "      <td>C1</td>\n",
              "      <td>M2</td>\n",
              "      <td>Petrol</td>\n",
              "      <td>...</td>\n",
              "      <td>Yes</td>\n",
              "      <td>Yes</td>\n",
              "      <td>Yes</td>\n",
              "      <td>Yes</td>\n",
              "      <td>Yes</td>\n",
              "      <td>Yes</td>\n",
              "      <td>Yes</td>\n",
              "      <td>Yes</td>\n",
              "      <td>2</td>\n",
              "      <td>0</td>\n",
              "    </tr>\n",
              "    <tr>\n",
              "      <th>4</th>\n",
              "      <td>ID00005</td>\n",
              "      <td>0.596403</td>\n",
              "      <td>0.11</td>\n",
              "      <td>0.634615</td>\n",
              "      <td>C5</td>\n",
              "      <td>34738</td>\n",
              "      <td>2</td>\n",
              "      <td>A</td>\n",
              "      <td>M3</td>\n",
              "      <td>Petrol</td>\n",
              "      <td>...</td>\n",
              "      <td>No</td>\n",
              "      <td>Yes</td>\n",
              "      <td>Yes</td>\n",
              "      <td>Yes</td>\n",
              "      <td>No</td>\n",
              "      <td>Yes</td>\n",
              "      <td>Yes</td>\n",
              "      <td>Yes</td>\n",
              "      <td>2</td>\n",
              "      <td>0</td>\n",
              "    </tr>\n",
              "  </tbody>\n",
              "</table>\n",
              "<p>5 rows × 44 columns</p>\n",
              "</div>\n",
              "    <div class=\"colab-df-buttons\">\n",
              "\n",
              "  <div class=\"colab-df-container\">\n",
              "    <button class=\"colab-df-convert\" onclick=\"convertToInteractive('df-fdfb7fad-caaf-4a02-910d-dce356e5be0c')\"\n",
              "            title=\"Convert this dataframe to an interactive table.\"\n",
              "            style=\"display:none;\">\n",
              "\n",
              "  <svg xmlns=\"http://www.w3.org/2000/svg\" height=\"24px\" viewBox=\"0 -960 960 960\">\n",
              "    <path d=\"M120-120v-720h720v720H120Zm60-500h600v-160H180v160Zm220 220h160v-160H400v160Zm0 220h160v-160H400v160ZM180-400h160v-160H180v160Zm440 0h160v-160H620v160ZM180-180h160v-160H180v160Zm440 0h160v-160H620v160Z\"/>\n",
              "  </svg>\n",
              "    </button>\n",
              "\n",
              "  <style>\n",
              "    .colab-df-container {\n",
              "      display:flex;\n",
              "      gap: 12px;\n",
              "    }\n",
              "\n",
              "    .colab-df-convert {\n",
              "      background-color: #E8F0FE;\n",
              "      border: none;\n",
              "      border-radius: 50%;\n",
              "      cursor: pointer;\n",
              "      display: none;\n",
              "      fill: #1967D2;\n",
              "      height: 32px;\n",
              "      padding: 0 0 0 0;\n",
              "      width: 32px;\n",
              "    }\n",
              "\n",
              "    .colab-df-convert:hover {\n",
              "      background-color: #E2EBFA;\n",
              "      box-shadow: 0px 1px 2px rgba(60, 64, 67, 0.3), 0px 1px 3px 1px rgba(60, 64, 67, 0.15);\n",
              "      fill: #174EA6;\n",
              "    }\n",
              "\n",
              "    .colab-df-buttons div {\n",
              "      margin-bottom: 4px;\n",
              "    }\n",
              "\n",
              "    [theme=dark] .colab-df-convert {\n",
              "      background-color: #3B4455;\n",
              "      fill: #D2E3FC;\n",
              "    }\n",
              "\n",
              "    [theme=dark] .colab-df-convert:hover {\n",
              "      background-color: #434B5C;\n",
              "      box-shadow: 0px 1px 3px 1px rgba(0, 0, 0, 0.15);\n",
              "      filter: drop-shadow(0px 1px 2px rgba(0, 0, 0, 0.3));\n",
              "      fill: #FFFFFF;\n",
              "    }\n",
              "  </style>\n",
              "\n",
              "    <script>\n",
              "      const buttonEl =\n",
              "        document.querySelector('#df-fdfb7fad-caaf-4a02-910d-dce356e5be0c button.colab-df-convert');\n",
              "      buttonEl.style.display =\n",
              "        google.colab.kernel.accessAllowed ? 'block' : 'none';\n",
              "\n",
              "      async function convertToInteractive(key) {\n",
              "        const element = document.querySelector('#df-fdfb7fad-caaf-4a02-910d-dce356e5be0c');\n",
              "        const dataTable =\n",
              "          await google.colab.kernel.invokeFunction('convertToInteractive',\n",
              "                                                    [key], {});\n",
              "        if (!dataTable) return;\n",
              "\n",
              "        const docLinkHtml = 'Like what you see? Visit the ' +\n",
              "          '<a target=\"_blank\" href=https://colab.research.google.com/notebooks/data_table.ipynb>data table notebook</a>'\n",
              "          + ' to learn more about interactive tables.';\n",
              "        element.innerHTML = '';\n",
              "        dataTable['output_type'] = 'display_data';\n",
              "        await google.colab.output.renderOutput(dataTable, element);\n",
              "        const docLink = document.createElement('div');\n",
              "        docLink.innerHTML = docLinkHtml;\n",
              "        element.appendChild(docLink);\n",
              "      }\n",
              "    </script>\n",
              "  </div>\n",
              "\n",
              "\n",
              "<div id=\"df-c5dbd6d1-4345-4a2d-9e11-942aa977305e\">\n",
              "  <button class=\"colab-df-quickchart\" onclick=\"quickchart('df-c5dbd6d1-4345-4a2d-9e11-942aa977305e')\"\n",
              "            title=\"Suggest charts\"\n",
              "            style=\"display:none;\">\n",
              "\n",
              "<svg xmlns=\"http://www.w3.org/2000/svg\" height=\"24px\"viewBox=\"0 0 24 24\"\n",
              "     width=\"24px\">\n",
              "    <g>\n",
              "        <path d=\"M19 3H5c-1.1 0-2 .9-2 2v14c0 1.1.9 2 2 2h14c1.1 0 2-.9 2-2V5c0-1.1-.9-2-2-2zM9 17H7v-7h2v7zm4 0h-2V7h2v10zm4 0h-2v-4h2v4z\"/>\n",
              "    </g>\n",
              "</svg>\n",
              "  </button>\n",
              "\n",
              "<style>\n",
              "  .colab-df-quickchart {\n",
              "      --bg-color: #E8F0FE;\n",
              "      --fill-color: #1967D2;\n",
              "      --hover-bg-color: #E2EBFA;\n",
              "      --hover-fill-color: #174EA6;\n",
              "      --disabled-fill-color: #AAA;\n",
              "      --disabled-bg-color: #DDD;\n",
              "  }\n",
              "\n",
              "  [theme=dark] .colab-df-quickchart {\n",
              "      --bg-color: #3B4455;\n",
              "      --fill-color: #D2E3FC;\n",
              "      --hover-bg-color: #434B5C;\n",
              "      --hover-fill-color: #FFFFFF;\n",
              "      --disabled-bg-color: #3B4455;\n",
              "      --disabled-fill-color: #666;\n",
              "  }\n",
              "\n",
              "  .colab-df-quickchart {\n",
              "    background-color: var(--bg-color);\n",
              "    border: none;\n",
              "    border-radius: 50%;\n",
              "    cursor: pointer;\n",
              "    display: none;\n",
              "    fill: var(--fill-color);\n",
              "    height: 32px;\n",
              "    padding: 0;\n",
              "    width: 32px;\n",
              "  }\n",
              "\n",
              "  .colab-df-quickchart:hover {\n",
              "    background-color: var(--hover-bg-color);\n",
              "    box-shadow: 0 1px 2px rgba(60, 64, 67, 0.3), 0 1px 3px 1px rgba(60, 64, 67, 0.15);\n",
              "    fill: var(--button-hover-fill-color);\n",
              "  }\n",
              "\n",
              "  .colab-df-quickchart-complete:disabled,\n",
              "  .colab-df-quickchart-complete:disabled:hover {\n",
              "    background-color: var(--disabled-bg-color);\n",
              "    fill: var(--disabled-fill-color);\n",
              "    box-shadow: none;\n",
              "  }\n",
              "\n",
              "  .colab-df-spinner {\n",
              "    border: 2px solid var(--fill-color);\n",
              "    border-color: transparent;\n",
              "    border-bottom-color: var(--fill-color);\n",
              "    animation:\n",
              "      spin 1s steps(1) infinite;\n",
              "  }\n",
              "\n",
              "  @keyframes spin {\n",
              "    0% {\n",
              "      border-color: transparent;\n",
              "      border-bottom-color: var(--fill-color);\n",
              "      border-left-color: var(--fill-color);\n",
              "    }\n",
              "    20% {\n",
              "      border-color: transparent;\n",
              "      border-left-color: var(--fill-color);\n",
              "      border-top-color: var(--fill-color);\n",
              "    }\n",
              "    30% {\n",
              "      border-color: transparent;\n",
              "      border-left-color: var(--fill-color);\n",
              "      border-top-color: var(--fill-color);\n",
              "      border-right-color: var(--fill-color);\n",
              "    }\n",
              "    40% {\n",
              "      border-color: transparent;\n",
              "      border-right-color: var(--fill-color);\n",
              "      border-top-color: var(--fill-color);\n",
              "    }\n",
              "    60% {\n",
              "      border-color: transparent;\n",
              "      border-right-color: var(--fill-color);\n",
              "    }\n",
              "    80% {\n",
              "      border-color: transparent;\n",
              "      border-right-color: var(--fill-color);\n",
              "      border-bottom-color: var(--fill-color);\n",
              "    }\n",
              "    90% {\n",
              "      border-color: transparent;\n",
              "      border-bottom-color: var(--fill-color);\n",
              "    }\n",
              "  }\n",
              "</style>\n",
              "\n",
              "  <script>\n",
              "    async function quickchart(key) {\n",
              "      const quickchartButtonEl =\n",
              "        document.querySelector('#' + key + ' button');\n",
              "      quickchartButtonEl.disabled = true;  // To prevent multiple clicks.\n",
              "      quickchartButtonEl.classList.add('colab-df-spinner');\n",
              "      try {\n",
              "        const charts = await google.colab.kernel.invokeFunction(\n",
              "            'suggestCharts', [key], {});\n",
              "      } catch (error) {\n",
              "        console.error('Error during call to suggestCharts:', error);\n",
              "      }\n",
              "      quickchartButtonEl.classList.remove('colab-df-spinner');\n",
              "      quickchartButtonEl.classList.add('colab-df-quickchart-complete');\n",
              "    }\n",
              "    (() => {\n",
              "      let quickchartButtonEl =\n",
              "        document.querySelector('#df-c5dbd6d1-4345-4a2d-9e11-942aa977305e button');\n",
              "      quickchartButtonEl.style.display =\n",
              "        google.colab.kernel.accessAllowed ? 'block' : 'none';\n",
              "    })();\n",
              "  </script>\n",
              "</div>\n",
              "    </div>\n",
              "  </div>\n"
            ]
          },
          "metadata": {},
          "execution_count": 88
        }
      ],
      "source": [
        "data.head()"
      ]
    },
    {
      "cell_type": "code",
      "execution_count": null,
      "metadata": {
        "colab": {
          "base_uri": "https://localhost:8080/"
        },
        "id": "O3g0OvHIx2-4",
        "outputId": "a257810f-daa5-4d0a-9428-614819024a86"
      },
      "outputs": [
        {
          "output_type": "execute_result",
          "data": {
            "text/plain": [
              "False"
            ]
          },
          "metadata": {},
          "execution_count": 89
        }
      ],
      "source": [
        "data.isnull().sum().any()"
      ]
    },
    {
      "cell_type": "code",
      "execution_count": null,
      "metadata": {
        "colab": {
          "base_uri": "https://localhost:8080/"
        },
        "id": "7pglmOPR9DQV",
        "outputId": "2ac6717f-941d-43eb-dac2-70e9ccd81527"
      },
      "outputs": [
        {
          "output_type": "stream",
          "name": "stdout",
          "text": [
            "<class 'pandas.core.frame.DataFrame'>\n",
            "RangeIndex: 58592 entries, 0 to 58591\n",
            "Data columns (total 44 columns):\n",
            " #   Column                            Non-Null Count  Dtype  \n",
            "---  ------                            --------------  -----  \n",
            " 0   policy_id                         58592 non-null  object \n",
            " 1   policy_tenure                     58592 non-null  float64\n",
            " 2   age_of_car                        58592 non-null  float64\n",
            " 3   age_of_policyholder               58592 non-null  float64\n",
            " 4   area_cluster                      58592 non-null  object \n",
            " 5   population_density                58592 non-null  int64  \n",
            " 6   make                              58592 non-null  int64  \n",
            " 7   segment                           58592 non-null  object \n",
            " 8   model                             58592 non-null  object \n",
            " 9   fuel_type                         58592 non-null  object \n",
            " 10  max_torque                        58592 non-null  object \n",
            " 11  max_power                         58592 non-null  object \n",
            " 12  engine_type                       58592 non-null  object \n",
            " 13  airbags                           58592 non-null  int64  \n",
            " 14  is_esc                            58592 non-null  object \n",
            " 15  is_adjustable_steering            58592 non-null  object \n",
            " 16  is_tpms                           58592 non-null  object \n",
            " 17  is_parking_sensors                58592 non-null  object \n",
            " 18  is_parking_camera                 58592 non-null  object \n",
            " 19  rear_brakes_type                  58592 non-null  object \n",
            " 20  displacement                      58592 non-null  int64  \n",
            " 21  cylinder                          58592 non-null  int64  \n",
            " 22  transmission_type                 58592 non-null  object \n",
            " 23  gear_box                          58592 non-null  int64  \n",
            " 24  steering_type                     58592 non-null  object \n",
            " 25  turning_radius                    58592 non-null  float64\n",
            " 26  length                            58592 non-null  int64  \n",
            " 27  width                             58592 non-null  int64  \n",
            " 28  height                            58592 non-null  int64  \n",
            " 29  gross_weight                      58592 non-null  int64  \n",
            " 30  is_front_fog_lights               58592 non-null  object \n",
            " 31  is_rear_window_wiper              58592 non-null  object \n",
            " 32  is_rear_window_washer             58592 non-null  object \n",
            " 33  is_rear_window_defogger           58592 non-null  object \n",
            " 34  is_brake_assist                   58592 non-null  object \n",
            " 35  is_power_door_locks               58592 non-null  object \n",
            " 36  is_central_locking                58592 non-null  object \n",
            " 37  is_power_steering                 58592 non-null  object \n",
            " 38  is_driver_seat_height_adjustable  58592 non-null  object \n",
            " 39  is_day_night_rear_view_mirror     58592 non-null  object \n",
            " 40  is_ecw                            58592 non-null  object \n",
            " 41  is_speed_alert                    58592 non-null  object \n",
            " 42  ncap_rating                       58592 non-null  int64  \n",
            " 43  is_claim                          58592 non-null  int64  \n",
            "dtypes: float64(4), int64(12), object(28)\n",
            "memory usage: 19.7+ MB\n"
          ]
        }
      ],
      "source": [
        "data.info()"
      ]
    },
    {
      "cell_type": "code",
      "execution_count": null,
      "metadata": {
        "id": "b-Sact7zHQRR"
      },
      "outputs": [],
      "source": [
        "target_col = 'is_claim'"
      ]
    },
    {
      "cell_type": "code",
      "execution_count": null,
      "metadata": {
        "colab": {
          "base_uri": "https://localhost:8080/"
        },
        "id": "Cs85Jcun92rR",
        "outputId": "85896c6c-30f8-41a0-c4e3-e58861cbc805"
      },
      "outputs": [
        {
          "output_type": "execute_result",
          "data": {
            "text/plain": [
              "0    0.936032\n",
              "1    0.063968\n",
              "Name: is_claim, dtype: float64"
            ]
          },
          "metadata": {},
          "execution_count": 92
        }
      ],
      "source": [
        "data[target_col].value_counts(normalize=True)"
      ]
    },
    {
      "cell_type": "markdown",
      "metadata": {
        "id": "Ys4frEwnFwQM"
      },
      "source": [
        "In our entire data, the proportion claimed (positives) is way less than (negatives), hence claim class looks like an imbalanced class."
      ]
    },
    {
      "cell_type": "markdown",
      "metadata": {
        "id": "mw6NY9dDHz7y"
      },
      "source": [
        "A random train test split might not be correct because there is a chance that, all positive samples might go into training and we might not have a chance to evaluate prediction of insurance claimed customers. Hence, proceed with stratified train test split whcih allows for similar distribution of target in train and test sets."
      ]
    },
    {
      "cell_type": "markdown",
      "metadata": {
        "id": "dKsS2TyRGJx_"
      },
      "source": [
        "**Perfomed Stratified Train Test split**"
      ]
    },
    {
      "cell_type": "code",
      "execution_count": null,
      "metadata": {
        "id": "VAiV8FuRsiLS"
      },
      "outputs": [],
      "source": [
        "from sklearn.model_selection import train_test_split\n",
        "\n",
        "train_data, test_data= train_test_split(data, random_state=1,stratify = data[target_col], test_size = 0.25)"
      ]
    },
    {
      "cell_type": "code",
      "execution_count": null,
      "metadata": {
        "colab": {
          "base_uri": "https://localhost:8080/"
        },
        "id": "yZn0vdYgHyPe",
        "outputId": "17e032be-c574-4aa7-826f-45ea2a33c527"
      },
      "outputs": [
        {
          "output_type": "execute_result",
          "data": {
            "text/plain": [
              "((43944, 44), (14648, 44))"
            ]
          },
          "metadata": {},
          "execution_count": 94
        }
      ],
      "source": [
        "train_data.shape,test_data.shape"
      ]
    },
    {
      "cell_type": "code",
      "execution_count": null,
      "metadata": {
        "colab": {
          "base_uri": "https://localhost:8080/"
        },
        "id": "y6gPr16jImZv",
        "outputId": "e6c2e71b-cf96-4c8b-ba66-507e8709b162"
      },
      "outputs": [
        {
          "output_type": "execute_result",
          "data": {
            "text/plain": [
              "0    0.936032\n",
              "1    0.063968\n",
              "Name: is_claim, dtype: float64"
            ]
          },
          "metadata": {},
          "execution_count": 95
        }
      ],
      "source": [
        "train_data[target_col].value_counts(normalize=True)"
      ]
    },
    {
      "cell_type": "code",
      "execution_count": null,
      "metadata": {
        "colab": {
          "base_uri": "https://localhost:8080/"
        },
        "id": "vE_OoOsYIuBm",
        "outputId": "b0483bc2-4807-4f61-a115-3448d1e13a86"
      },
      "outputs": [
        {
          "output_type": "execute_result",
          "data": {
            "text/plain": [
              "0    0.936032\n",
              "1    0.063968\n",
              "Name: is_claim, dtype: float64"
            ]
          },
          "metadata": {},
          "execution_count": 96
        }
      ],
      "source": [
        "test_data[target_col].value_counts(normalize=True)"
      ]
    },
    {
      "cell_type": "markdown",
      "metadata": {
        "id": "-GHQXIAkI0R0"
      },
      "source": [
        "We can see that both train and test sets have same distribution of target column."
      ]
    },
    {
      "cell_type": "markdown",
      "metadata": {
        "id": "Tv4eV2PJK4gB"
      },
      "source": [
        "Since there are categorical columns, convert them into numeric values either by one-hot encoding or label encoding or some other kindof transformation."
      ]
    },
    {
      "cell_type": "markdown",
      "metadata": {
        "id": "OKrH1Klc-2Vd"
      },
      "source": [
        "Since policy_id is just an identifier and is random and doesnt effect their insurance claim decision, dropping that column."
      ]
    },
    {
      "cell_type": "code",
      "execution_count": null,
      "metadata": {
        "id": "jCeAM8M_-_AF"
      },
      "outputs": [],
      "source": [
        "train_data.drop('policy_id',axis=1,inplace=True)\n",
        "test_data.drop('policy_id',axis=1,inplace=True)"
      ]
    },
    {
      "cell_type": "code",
      "execution_count": null,
      "metadata": {
        "id": "Le3v6uje_MhW"
      },
      "outputs": [],
      "source": [
        "data_cols = train_data.columns"
      ]
    },
    {
      "cell_type": "code",
      "execution_count": null,
      "metadata": {
        "id": "4c0NxvN2_c5U"
      },
      "outputs": [],
      "source": [
        "from sklearn.preprocessing import OneHotEncoder"
      ]
    },
    {
      "cell_type": "code",
      "execution_count": null,
      "metadata": {
        "colab": {
          "base_uri": "https://localhost:8080/"
        },
        "id": "vNihajAz_xjm",
        "outputId": "bfaf1497-4ce2-4918-fe8b-6bbecfd8c657"
      },
      "outputs": [
        {
          "output_type": "stream",
          "name": "stdout",
          "text": [
            "area_cluster 22\n",
            "segment 6\n",
            "model 11\n",
            "fuel_type 3\n",
            "max_torque 9\n",
            "max_power 9\n",
            "engine_type 11\n",
            "is_esc 2\n",
            "is_adjustable_steering 2\n",
            "is_tpms 2\n",
            "is_parking_sensors 2\n",
            "is_parking_camera 2\n",
            "rear_brakes_type 2\n",
            "transmission_type 2\n",
            "steering_type 3\n",
            "is_front_fog_lights 2\n",
            "is_rear_window_wiper 2\n",
            "is_rear_window_washer 2\n",
            "is_rear_window_defogger 2\n",
            "is_brake_assist 2\n",
            "is_power_door_locks 2\n",
            "is_central_locking 2\n",
            "is_power_steering 2\n",
            "is_driver_seat_height_adjustable 2\n",
            "is_day_night_rear_view_mirror 2\n",
            "is_ecw 2\n",
            "is_speed_alert 2\n"
          ]
        }
      ],
      "source": [
        "for col in data_cols:\n",
        "  if train_data[col].dtype == object:\n",
        "    if col != target_col:\n",
        "      print(col, train_data[col].nunique() )"
      ]
    },
    {
      "cell_type": "markdown",
      "metadata": {
        "id": "HKniENS8_8fc"
      },
      "source": [
        "Since most of the columns have Yes/No or small number of nunique values, one hot encoding can be performed on the above categorical columns."
      ]
    },
    {
      "cell_type": "code",
      "execution_count": null,
      "metadata": {
        "id": "eaU_IbsY-NMf"
      },
      "outputs": [],
      "source": [
        "for col in data_cols:\n",
        "  if train_data[col].dtype == object:\n",
        "    if col != target_col:\n",
        "      # encoding using onehot encoder\n",
        "      ohe = OneHotEncoder(drop='first')\n",
        "      ohe.fit(train_data[[col]])\n",
        "      train_data[ohe.get_feature_names_out().tolist()] = ohe.transform(train_data[[col]]).toarray()\n",
        "      test_data[ohe.get_feature_names_out().tolist()] = ohe.transform(test_data[[col]]).toarray()\n",
        "      # Done with feature encoding, now dropping the actual categorical columns.\n",
        "      train_data.drop(col,axis=1,inplace=True)\n",
        "      test_data.drop(col,axis=1,inplace=True)\n"
      ]
    },
    {
      "cell_type": "code",
      "execution_count": null,
      "metadata": {
        "colab": {
          "base_uri": "https://localhost:8080/",
          "height": 349
        },
        "id": "D7s1MORRsgA8",
        "outputId": "ff0e89e0-5602-4b1b-e46c-5795db8d833d"
      },
      "outputs": [
        {
          "output_type": "execute_result",
          "data": {
            "text/plain": [
              "       policy_tenure    age_of_car  age_of_policyholder  population_density  \\\n",
              "count   43944.000000  43944.000000         43944.000000        43944.000000   \n",
              "mean        0.609665      0.069441             0.469581        18885.934803   \n",
              "std         0.414302      0.056834             0.122864        17732.414625   \n",
              "min         0.002735      0.000000             0.288462          290.000000   \n",
              "25%         0.207507      0.020000             0.365385         6112.000000   \n",
              "50%         0.572047      0.060000             0.451923         8794.000000   \n",
              "75%         1.038528      0.110000             0.548077        27003.000000   \n",
              "max         1.396641      1.000000             1.000000        73430.000000   \n",
              "\n",
              "               make       airbags  displacement      cylinder      gear_box  \\\n",
              "count  43944.000000  43944.000000  43944.000000  43944.000000  43944.000000   \n",
              "mean       1.768728      3.141020   1163.206763      3.628436      5.246473   \n",
              "std        1.139663      1.834387    266.505849      0.483228      0.430962   \n",
              "min        1.000000      1.000000    796.000000      3.000000      5.000000   \n",
              "25%        1.000000      2.000000    796.000000      3.000000      5.000000   \n",
              "50%        1.000000      2.000000   1197.000000      4.000000      5.000000   \n",
              "75%        3.000000      6.000000   1493.000000      4.000000      5.000000   \n",
              "max        5.000000      6.000000   1498.000000      4.000000      6.000000   \n",
              "\n",
              "       turning_radius  ...  is_rear_window_washer_Yes  \\\n",
              "count    43944.000000  ...               43944.000000   \n",
              "mean         4.853705  ...                   0.290392   \n",
              "std          0.228201  ...                   0.453949   \n",
              "min          4.500000  ...                   0.000000   \n",
              "25%          4.600000  ...                   0.000000   \n",
              "50%          4.800000  ...                   0.000000   \n",
              "75%          5.000000  ...                   1.000000   \n",
              "max          5.200000  ...                   1.000000   \n",
              "\n",
              "       is_rear_window_defogger_Yes  is_brake_assist_Yes  \\\n",
              "count                 43944.000000         43944.000000   \n",
              "mean                      0.351811             0.550177   \n",
              "std                       0.477541             0.497482   \n",
              "min                       0.000000             0.000000   \n",
              "25%                       0.000000             0.000000   \n",
              "50%                       0.000000             1.000000   \n",
              "75%                       1.000000             1.000000   \n",
              "max                       1.000000             1.000000   \n",
              "\n",
              "       is_power_door_locks_Yes  is_central_locking_Yes  is_power_steering_Yes  \\\n",
              "count             43944.000000            43944.000000           43944.000000   \n",
              "mean                  0.724536                0.724536               0.979451   \n",
              "std                   0.446753                0.446753               0.141870   \n",
              "min                   0.000000                0.000000               0.000000   \n",
              "25%                   0.000000                0.000000               1.000000   \n",
              "50%                   1.000000                1.000000               1.000000   \n",
              "75%                   1.000000                1.000000               1.000000   \n",
              "max                   1.000000                1.000000               1.000000   \n",
              "\n",
              "       is_driver_seat_height_adjustable_Yes  \\\n",
              "count                          43944.000000   \n",
              "mean                               0.586451   \n",
              "std                                0.492475   \n",
              "min                                0.000000   \n",
              "25%                                0.000000   \n",
              "50%                                1.000000   \n",
              "75%                                1.000000   \n",
              "max                                1.000000   \n",
              "\n",
              "       is_day_night_rear_view_mirror_Yes    is_ecw_Yes  is_speed_alert_Yes  \n",
              "count                       43944.000000  43944.000000        43944.000000  \n",
              "mean                            0.380689      0.724536            0.993583  \n",
              "std                             0.485562      0.446753            0.079851  \n",
              "min                             0.000000      0.000000            0.000000  \n",
              "25%                             0.000000      0.000000            1.000000  \n",
              "50%                             0.000000      1.000000            1.000000  \n",
              "75%                             1.000000      1.000000            1.000000  \n",
              "max                             1.000000      1.000000            1.000000  \n",
              "\n",
              "[8 rows x 101 columns]"
            ],
            "text/html": [
              "\n",
              "  <div id=\"df-8401764f-59ea-4df3-8247-6730609f84b5\" class=\"colab-df-container\">\n",
              "    <div>\n",
              "<style scoped>\n",
              "    .dataframe tbody tr th:only-of-type {\n",
              "        vertical-align: middle;\n",
              "    }\n",
              "\n",
              "    .dataframe tbody tr th {\n",
              "        vertical-align: top;\n",
              "    }\n",
              "\n",
              "    .dataframe thead th {\n",
              "        text-align: right;\n",
              "    }\n",
              "</style>\n",
              "<table border=\"1\" class=\"dataframe\">\n",
              "  <thead>\n",
              "    <tr style=\"text-align: right;\">\n",
              "      <th></th>\n",
              "      <th>policy_tenure</th>\n",
              "      <th>age_of_car</th>\n",
              "      <th>age_of_policyholder</th>\n",
              "      <th>population_density</th>\n",
              "      <th>make</th>\n",
              "      <th>airbags</th>\n",
              "      <th>displacement</th>\n",
              "      <th>cylinder</th>\n",
              "      <th>gear_box</th>\n",
              "      <th>turning_radius</th>\n",
              "      <th>...</th>\n",
              "      <th>is_rear_window_washer_Yes</th>\n",
              "      <th>is_rear_window_defogger_Yes</th>\n",
              "      <th>is_brake_assist_Yes</th>\n",
              "      <th>is_power_door_locks_Yes</th>\n",
              "      <th>is_central_locking_Yes</th>\n",
              "      <th>is_power_steering_Yes</th>\n",
              "      <th>is_driver_seat_height_adjustable_Yes</th>\n",
              "      <th>is_day_night_rear_view_mirror_Yes</th>\n",
              "      <th>is_ecw_Yes</th>\n",
              "      <th>is_speed_alert_Yes</th>\n",
              "    </tr>\n",
              "  </thead>\n",
              "  <tbody>\n",
              "    <tr>\n",
              "      <th>count</th>\n",
              "      <td>43944.000000</td>\n",
              "      <td>43944.000000</td>\n",
              "      <td>43944.000000</td>\n",
              "      <td>43944.000000</td>\n",
              "      <td>43944.000000</td>\n",
              "      <td>43944.000000</td>\n",
              "      <td>43944.000000</td>\n",
              "      <td>43944.000000</td>\n",
              "      <td>43944.000000</td>\n",
              "      <td>43944.000000</td>\n",
              "      <td>...</td>\n",
              "      <td>43944.000000</td>\n",
              "      <td>43944.000000</td>\n",
              "      <td>43944.000000</td>\n",
              "      <td>43944.000000</td>\n",
              "      <td>43944.000000</td>\n",
              "      <td>43944.000000</td>\n",
              "      <td>43944.000000</td>\n",
              "      <td>43944.000000</td>\n",
              "      <td>43944.000000</td>\n",
              "      <td>43944.000000</td>\n",
              "    </tr>\n",
              "    <tr>\n",
              "      <th>mean</th>\n",
              "      <td>0.609665</td>\n",
              "      <td>0.069441</td>\n",
              "      <td>0.469581</td>\n",
              "      <td>18885.934803</td>\n",
              "      <td>1.768728</td>\n",
              "      <td>3.141020</td>\n",
              "      <td>1163.206763</td>\n",
              "      <td>3.628436</td>\n",
              "      <td>5.246473</td>\n",
              "      <td>4.853705</td>\n",
              "      <td>...</td>\n",
              "      <td>0.290392</td>\n",
              "      <td>0.351811</td>\n",
              "      <td>0.550177</td>\n",
              "      <td>0.724536</td>\n",
              "      <td>0.724536</td>\n",
              "      <td>0.979451</td>\n",
              "      <td>0.586451</td>\n",
              "      <td>0.380689</td>\n",
              "      <td>0.724536</td>\n",
              "      <td>0.993583</td>\n",
              "    </tr>\n",
              "    <tr>\n",
              "      <th>std</th>\n",
              "      <td>0.414302</td>\n",
              "      <td>0.056834</td>\n",
              "      <td>0.122864</td>\n",
              "      <td>17732.414625</td>\n",
              "      <td>1.139663</td>\n",
              "      <td>1.834387</td>\n",
              "      <td>266.505849</td>\n",
              "      <td>0.483228</td>\n",
              "      <td>0.430962</td>\n",
              "      <td>0.228201</td>\n",
              "      <td>...</td>\n",
              "      <td>0.453949</td>\n",
              "      <td>0.477541</td>\n",
              "      <td>0.497482</td>\n",
              "      <td>0.446753</td>\n",
              "      <td>0.446753</td>\n",
              "      <td>0.141870</td>\n",
              "      <td>0.492475</td>\n",
              "      <td>0.485562</td>\n",
              "      <td>0.446753</td>\n",
              "      <td>0.079851</td>\n",
              "    </tr>\n",
              "    <tr>\n",
              "      <th>min</th>\n",
              "      <td>0.002735</td>\n",
              "      <td>0.000000</td>\n",
              "      <td>0.288462</td>\n",
              "      <td>290.000000</td>\n",
              "      <td>1.000000</td>\n",
              "      <td>1.000000</td>\n",
              "      <td>796.000000</td>\n",
              "      <td>3.000000</td>\n",
              "      <td>5.000000</td>\n",
              "      <td>4.500000</td>\n",
              "      <td>...</td>\n",
              "      <td>0.000000</td>\n",
              "      <td>0.000000</td>\n",
              "      <td>0.000000</td>\n",
              "      <td>0.000000</td>\n",
              "      <td>0.000000</td>\n",
              "      <td>0.000000</td>\n",
              "      <td>0.000000</td>\n",
              "      <td>0.000000</td>\n",
              "      <td>0.000000</td>\n",
              "      <td>0.000000</td>\n",
              "    </tr>\n",
              "    <tr>\n",
              "      <th>25%</th>\n",
              "      <td>0.207507</td>\n",
              "      <td>0.020000</td>\n",
              "      <td>0.365385</td>\n",
              "      <td>6112.000000</td>\n",
              "      <td>1.000000</td>\n",
              "      <td>2.000000</td>\n",
              "      <td>796.000000</td>\n",
              "      <td>3.000000</td>\n",
              "      <td>5.000000</td>\n",
              "      <td>4.600000</td>\n",
              "      <td>...</td>\n",
              "      <td>0.000000</td>\n",
              "      <td>0.000000</td>\n",
              "      <td>0.000000</td>\n",
              "      <td>0.000000</td>\n",
              "      <td>0.000000</td>\n",
              "      <td>1.000000</td>\n",
              "      <td>0.000000</td>\n",
              "      <td>0.000000</td>\n",
              "      <td>0.000000</td>\n",
              "      <td>1.000000</td>\n",
              "    </tr>\n",
              "    <tr>\n",
              "      <th>50%</th>\n",
              "      <td>0.572047</td>\n",
              "      <td>0.060000</td>\n",
              "      <td>0.451923</td>\n",
              "      <td>8794.000000</td>\n",
              "      <td>1.000000</td>\n",
              "      <td>2.000000</td>\n",
              "      <td>1197.000000</td>\n",
              "      <td>4.000000</td>\n",
              "      <td>5.000000</td>\n",
              "      <td>4.800000</td>\n",
              "      <td>...</td>\n",
              "      <td>0.000000</td>\n",
              "      <td>0.000000</td>\n",
              "      <td>1.000000</td>\n",
              "      <td>1.000000</td>\n",
              "      <td>1.000000</td>\n",
              "      <td>1.000000</td>\n",
              "      <td>1.000000</td>\n",
              "      <td>0.000000</td>\n",
              "      <td>1.000000</td>\n",
              "      <td>1.000000</td>\n",
              "    </tr>\n",
              "    <tr>\n",
              "      <th>75%</th>\n",
              "      <td>1.038528</td>\n",
              "      <td>0.110000</td>\n",
              "      <td>0.548077</td>\n",
              "      <td>27003.000000</td>\n",
              "      <td>3.000000</td>\n",
              "      <td>6.000000</td>\n",
              "      <td>1493.000000</td>\n",
              "      <td>4.000000</td>\n",
              "      <td>5.000000</td>\n",
              "      <td>5.000000</td>\n",
              "      <td>...</td>\n",
              "      <td>1.000000</td>\n",
              "      <td>1.000000</td>\n",
              "      <td>1.000000</td>\n",
              "      <td>1.000000</td>\n",
              "      <td>1.000000</td>\n",
              "      <td>1.000000</td>\n",
              "      <td>1.000000</td>\n",
              "      <td>1.000000</td>\n",
              "      <td>1.000000</td>\n",
              "      <td>1.000000</td>\n",
              "    </tr>\n",
              "    <tr>\n",
              "      <th>max</th>\n",
              "      <td>1.396641</td>\n",
              "      <td>1.000000</td>\n",
              "      <td>1.000000</td>\n",
              "      <td>73430.000000</td>\n",
              "      <td>5.000000</td>\n",
              "      <td>6.000000</td>\n",
              "      <td>1498.000000</td>\n",
              "      <td>4.000000</td>\n",
              "      <td>6.000000</td>\n",
              "      <td>5.200000</td>\n",
              "      <td>...</td>\n",
              "      <td>1.000000</td>\n",
              "      <td>1.000000</td>\n",
              "      <td>1.000000</td>\n",
              "      <td>1.000000</td>\n",
              "      <td>1.000000</td>\n",
              "      <td>1.000000</td>\n",
              "      <td>1.000000</td>\n",
              "      <td>1.000000</td>\n",
              "      <td>1.000000</td>\n",
              "      <td>1.000000</td>\n",
              "    </tr>\n",
              "  </tbody>\n",
              "</table>\n",
              "<p>8 rows × 101 columns</p>\n",
              "</div>\n",
              "    <div class=\"colab-df-buttons\">\n",
              "\n",
              "  <div class=\"colab-df-container\">\n",
              "    <button class=\"colab-df-convert\" onclick=\"convertToInteractive('df-8401764f-59ea-4df3-8247-6730609f84b5')\"\n",
              "            title=\"Convert this dataframe to an interactive table.\"\n",
              "            style=\"display:none;\">\n",
              "\n",
              "  <svg xmlns=\"http://www.w3.org/2000/svg\" height=\"24px\" viewBox=\"0 -960 960 960\">\n",
              "    <path d=\"M120-120v-720h720v720H120Zm60-500h600v-160H180v160Zm220 220h160v-160H400v160Zm0 220h160v-160H400v160ZM180-400h160v-160H180v160Zm440 0h160v-160H620v160ZM180-180h160v-160H180v160Zm440 0h160v-160H620v160Z\"/>\n",
              "  </svg>\n",
              "    </button>\n",
              "\n",
              "  <style>\n",
              "    .colab-df-container {\n",
              "      display:flex;\n",
              "      gap: 12px;\n",
              "    }\n",
              "\n",
              "    .colab-df-convert {\n",
              "      background-color: #E8F0FE;\n",
              "      border: none;\n",
              "      border-radius: 50%;\n",
              "      cursor: pointer;\n",
              "      display: none;\n",
              "      fill: #1967D2;\n",
              "      height: 32px;\n",
              "      padding: 0 0 0 0;\n",
              "      width: 32px;\n",
              "    }\n",
              "\n",
              "    .colab-df-convert:hover {\n",
              "      background-color: #E2EBFA;\n",
              "      box-shadow: 0px 1px 2px rgba(60, 64, 67, 0.3), 0px 1px 3px 1px rgba(60, 64, 67, 0.15);\n",
              "      fill: #174EA6;\n",
              "    }\n",
              "\n",
              "    .colab-df-buttons div {\n",
              "      margin-bottom: 4px;\n",
              "    }\n",
              "\n",
              "    [theme=dark] .colab-df-convert {\n",
              "      background-color: #3B4455;\n",
              "      fill: #D2E3FC;\n",
              "    }\n",
              "\n",
              "    [theme=dark] .colab-df-convert:hover {\n",
              "      background-color: #434B5C;\n",
              "      box-shadow: 0px 1px 3px 1px rgba(0, 0, 0, 0.15);\n",
              "      filter: drop-shadow(0px 1px 2px rgba(0, 0, 0, 0.3));\n",
              "      fill: #FFFFFF;\n",
              "    }\n",
              "  </style>\n",
              "\n",
              "    <script>\n",
              "      const buttonEl =\n",
              "        document.querySelector('#df-8401764f-59ea-4df3-8247-6730609f84b5 button.colab-df-convert');\n",
              "      buttonEl.style.display =\n",
              "        google.colab.kernel.accessAllowed ? 'block' : 'none';\n",
              "\n",
              "      async function convertToInteractive(key) {\n",
              "        const element = document.querySelector('#df-8401764f-59ea-4df3-8247-6730609f84b5');\n",
              "        const dataTable =\n",
              "          await google.colab.kernel.invokeFunction('convertToInteractive',\n",
              "                                                    [key], {});\n",
              "        if (!dataTable) return;\n",
              "\n",
              "        const docLinkHtml = 'Like what you see? Visit the ' +\n",
              "          '<a target=\"_blank\" href=https://colab.research.google.com/notebooks/data_table.ipynb>data table notebook</a>'\n",
              "          + ' to learn more about interactive tables.';\n",
              "        element.innerHTML = '';\n",
              "        dataTable['output_type'] = 'display_data';\n",
              "        await google.colab.output.renderOutput(dataTable, element);\n",
              "        const docLink = document.createElement('div');\n",
              "        docLink.innerHTML = docLinkHtml;\n",
              "        element.appendChild(docLink);\n",
              "      }\n",
              "    </script>\n",
              "  </div>\n",
              "\n",
              "\n",
              "<div id=\"df-3f517b59-452c-4049-b7c4-0493b8b82932\">\n",
              "  <button class=\"colab-df-quickchart\" onclick=\"quickchart('df-3f517b59-452c-4049-b7c4-0493b8b82932')\"\n",
              "            title=\"Suggest charts\"\n",
              "            style=\"display:none;\">\n",
              "\n",
              "<svg xmlns=\"http://www.w3.org/2000/svg\" height=\"24px\"viewBox=\"0 0 24 24\"\n",
              "     width=\"24px\">\n",
              "    <g>\n",
              "        <path d=\"M19 3H5c-1.1 0-2 .9-2 2v14c0 1.1.9 2 2 2h14c1.1 0 2-.9 2-2V5c0-1.1-.9-2-2-2zM9 17H7v-7h2v7zm4 0h-2V7h2v10zm4 0h-2v-4h2v4z\"/>\n",
              "    </g>\n",
              "</svg>\n",
              "  </button>\n",
              "\n",
              "<style>\n",
              "  .colab-df-quickchart {\n",
              "      --bg-color: #E8F0FE;\n",
              "      --fill-color: #1967D2;\n",
              "      --hover-bg-color: #E2EBFA;\n",
              "      --hover-fill-color: #174EA6;\n",
              "      --disabled-fill-color: #AAA;\n",
              "      --disabled-bg-color: #DDD;\n",
              "  }\n",
              "\n",
              "  [theme=dark] .colab-df-quickchart {\n",
              "      --bg-color: #3B4455;\n",
              "      --fill-color: #D2E3FC;\n",
              "      --hover-bg-color: #434B5C;\n",
              "      --hover-fill-color: #FFFFFF;\n",
              "      --disabled-bg-color: #3B4455;\n",
              "      --disabled-fill-color: #666;\n",
              "  }\n",
              "\n",
              "  .colab-df-quickchart {\n",
              "    background-color: var(--bg-color);\n",
              "    border: none;\n",
              "    border-radius: 50%;\n",
              "    cursor: pointer;\n",
              "    display: none;\n",
              "    fill: var(--fill-color);\n",
              "    height: 32px;\n",
              "    padding: 0;\n",
              "    width: 32px;\n",
              "  }\n",
              "\n",
              "  .colab-df-quickchart:hover {\n",
              "    background-color: var(--hover-bg-color);\n",
              "    box-shadow: 0 1px 2px rgba(60, 64, 67, 0.3), 0 1px 3px 1px rgba(60, 64, 67, 0.15);\n",
              "    fill: var(--button-hover-fill-color);\n",
              "  }\n",
              "\n",
              "  .colab-df-quickchart-complete:disabled,\n",
              "  .colab-df-quickchart-complete:disabled:hover {\n",
              "    background-color: var(--disabled-bg-color);\n",
              "    fill: var(--disabled-fill-color);\n",
              "    box-shadow: none;\n",
              "  }\n",
              "\n",
              "  .colab-df-spinner {\n",
              "    border: 2px solid var(--fill-color);\n",
              "    border-color: transparent;\n",
              "    border-bottom-color: var(--fill-color);\n",
              "    animation:\n",
              "      spin 1s steps(1) infinite;\n",
              "  }\n",
              "\n",
              "  @keyframes spin {\n",
              "    0% {\n",
              "      border-color: transparent;\n",
              "      border-bottom-color: var(--fill-color);\n",
              "      border-left-color: var(--fill-color);\n",
              "    }\n",
              "    20% {\n",
              "      border-color: transparent;\n",
              "      border-left-color: var(--fill-color);\n",
              "      border-top-color: var(--fill-color);\n",
              "    }\n",
              "    30% {\n",
              "      border-color: transparent;\n",
              "      border-left-color: var(--fill-color);\n",
              "      border-top-color: var(--fill-color);\n",
              "      border-right-color: var(--fill-color);\n",
              "    }\n",
              "    40% {\n",
              "      border-color: transparent;\n",
              "      border-right-color: var(--fill-color);\n",
              "      border-top-color: var(--fill-color);\n",
              "    }\n",
              "    60% {\n",
              "      border-color: transparent;\n",
              "      border-right-color: var(--fill-color);\n",
              "    }\n",
              "    80% {\n",
              "      border-color: transparent;\n",
              "      border-right-color: var(--fill-color);\n",
              "      border-bottom-color: var(--fill-color);\n",
              "    }\n",
              "    90% {\n",
              "      border-color: transparent;\n",
              "      border-bottom-color: var(--fill-color);\n",
              "    }\n",
              "  }\n",
              "</style>\n",
              "\n",
              "  <script>\n",
              "    async function quickchart(key) {\n",
              "      const quickchartButtonEl =\n",
              "        document.querySelector('#' + key + ' button');\n",
              "      quickchartButtonEl.disabled = true;  // To prevent multiple clicks.\n",
              "      quickchartButtonEl.classList.add('colab-df-spinner');\n",
              "      try {\n",
              "        const charts = await google.colab.kernel.invokeFunction(\n",
              "            'suggestCharts', [key], {});\n",
              "      } catch (error) {\n",
              "        console.error('Error during call to suggestCharts:', error);\n",
              "      }\n",
              "      quickchartButtonEl.classList.remove('colab-df-spinner');\n",
              "      quickchartButtonEl.classList.add('colab-df-quickchart-complete');\n",
              "    }\n",
              "    (() => {\n",
              "      let quickchartButtonEl =\n",
              "        document.querySelector('#df-3f517b59-452c-4049-b7c4-0493b8b82932 button');\n",
              "      quickchartButtonEl.style.display =\n",
              "        google.colab.kernel.accessAllowed ? 'block' : 'none';\n",
              "    })();\n",
              "  </script>\n",
              "</div>\n",
              "    </div>\n",
              "  </div>\n"
            ]
          },
          "metadata": {},
          "execution_count": 102
        }
      ],
      "source": [
        "train_data.describe()"
      ]
    },
    {
      "cell_type": "markdown",
      "metadata": {
        "id": "yvu2mVsUwe57"
      },
      "source": [
        "Few columns have values which are in higher range like 1000's, 10,000's, and it would be difficult for the model to converge, hence scale the columns."
      ]
    },
    {
      "cell_type": "code",
      "execution_count": null,
      "metadata": {
        "id": "VA3IsqTer-B1",
        "colab": {
          "base_uri": "https://localhost:8080/"
        },
        "outputId": "42a9c5c6-373a-40e0-dfd7-39850a7d4a6a"
      },
      "outputs": [
        {
          "output_type": "stream",
          "name": "stdout",
          "text": [
            "Index(['population_density', 'displacement', 'length', 'width', 'height',\n",
            "       'gross_weight'],\n",
            "      dtype='object')\n"
          ]
        }
      ],
      "source": [
        "temp = train_data.describe()\n",
        "temp = pd.DataFrame(temp.loc['mean']>10)\n",
        "scale_cols = temp[temp['mean']==True].index\n",
        "print(scale_cols)"
      ]
    },
    {
      "cell_type": "code",
      "execution_count": null,
      "metadata": {
        "id": "gt_wYbRlx2QF"
      },
      "outputs": [],
      "source": [
        "from sklearn.preprocessing import StandardScaler\n",
        "\n",
        "std_slr = StandardScaler()\n",
        "std_slr.fit(train_data[scale_cols])\n",
        "\n",
        "train_scaled = train_data.copy()\n",
        "test_scaled = test_data.copy()\n",
        "\n",
        "train_scaled[scale_cols] = std_slr.transform(train_data[scale_cols])\n",
        "test_scaled[scale_cols] = std_slr.transform(test_data[scale_cols])"
      ]
    },
    {
      "cell_type": "markdown",
      "metadata": {
        "id": "8BOdFFYex-uK"
      },
      "source": [
        "Done with data processing and train test set creation."
      ]
    },
    {
      "cell_type": "markdown",
      "source": [
        "Since the data is very imbalanced, when ran a sample experiment, model was highly biased towards negative class. Hence performing downsampling on the majority class to overcome this problem."
      ],
      "metadata": {
        "id": "Pkpe9FfYJ2J-"
      }
    },
    {
      "cell_type": "code",
      "source": [
        "minority_subset = train_scaled[train_scaled[target_col] == 1]\n",
        "majority_subset =train_scaled[train_scaled[target_col] == 0].sample(n=minority_subset.shape[0], random_state=1)\n",
        "train_scaled_balanced = pd.concat([majority_subset, minority_subset],axis=0)"
      ],
      "metadata": {
        "id": "ujP_McfJOhpT"
      },
      "execution_count": null,
      "outputs": []
    },
    {
      "cell_type": "code",
      "source": [
        "y_train =  train_scaled_balanced[[target_col]]\n",
        "X_train = train_scaled_balanced.drop(target_col, axis=1)"
      ],
      "metadata": {
        "id": "H3mBols2Q9W3"
      },
      "execution_count": null,
      "outputs": []
    },
    {
      "cell_type": "code",
      "source": [
        "y_test =  test_scaled[[target_col]]\n",
        "X_test = test_scaled.drop(target_col, axis=1)"
      ],
      "metadata": {
        "id": "9MxO2AFiRCza"
      },
      "execution_count": null,
      "outputs": []
    },
    {
      "cell_type": "code",
      "source": [
        "X_train.shape, y_train.shape, X_test.shape, y_test.shape"
      ],
      "metadata": {
        "colab": {
          "base_uri": "https://localhost:8080/"
        },
        "id": "OE4LM-vqY5ii",
        "outputId": "f7aac632-23de-466c-bb69-3faceb4d8f19"
      },
      "execution_count": null,
      "outputs": [
        {
          "output_type": "execute_result",
          "data": {
            "text/plain": [
              "((5622, 100), (5622, 1), (14648, 100), (14648, 1))"
            ]
          },
          "metadata": {},
          "execution_count": 108
        }
      ]
    },
    {
      "cell_type": "markdown",
      "metadata": {
        "id": "fcTawSPoyE6h"
      },
      "source": [
        "### Model Building"
      ]
    },
    {
      "cell_type": "code",
      "execution_count": null,
      "metadata": {
        "id": "VzuveZuK1m-G"
      },
      "outputs": [],
      "source": [
        "from sklearn.neural_network import MLPClassifier\n",
        "from sklearn import metrics"
      ]
    },
    {
      "cell_type": "code",
      "execution_count": null,
      "metadata": {
        "colab": {
          "base_uri": "https://localhost:8080/"
        },
        "id": "5pQ6_XRl2IIC",
        "outputId": "f17c2e7e-3657-4644-bd40-a1bfbbc97b77"
      },
      "outputs": [
        {
          "output_type": "stream",
          "name": "stderr",
          "text": [
            "/usr/local/lib/python3.10/dist-packages/sklearn/neural_network/_multilayer_perceptron.py:1098: DataConversionWarning: A column-vector y was passed when a 1d array was expected. Please change the shape of y to (n_samples, ), for example using ravel().\n",
            "  y = column_or_1d(y, warn=True)\n"
          ]
        },
        {
          "output_type": "stream",
          "name": "stdout",
          "text": [
            "500\n",
            "Done model training with hidden layer [32] activation tanh iterations 89\n",
            "time taken 3.2975168228149414\n"
          ]
        },
        {
          "output_type": "stream",
          "name": "stderr",
          "text": [
            "/usr/local/lib/python3.10/dist-packages/sklearn/neural_network/_multilayer_perceptron.py:1098: DataConversionWarning: A column-vector y was passed when a 1d array was expected. Please change the shape of y to (n_samples, ), for example using ravel().\n",
            "  y = column_or_1d(y, warn=True)\n"
          ]
        },
        {
          "output_type": "stream",
          "name": "stdout",
          "text": [
            "500\n",
            "Done model training with hidden layer [32] activation relu iterations 234\n",
            "time taken 7.805130243301392\n"
          ]
        },
        {
          "output_type": "stream",
          "name": "stderr",
          "text": [
            "/usr/local/lib/python3.10/dist-packages/sklearn/neural_network/_multilayer_perceptron.py:1098: DataConversionWarning: A column-vector y was passed when a 1d array was expected. Please change the shape of y to (n_samples, ), for example using ravel().\n",
            "  y = column_or_1d(y, warn=True)\n"
          ]
        },
        {
          "output_type": "stream",
          "name": "stdout",
          "text": [
            "500\n",
            "Done model training with hidden layer [64] activation tanh iterations 190\n",
            "time taken 10.984426736831665\n"
          ]
        },
        {
          "output_type": "stream",
          "name": "stderr",
          "text": [
            "/usr/local/lib/python3.10/dist-packages/sklearn/neural_network/_multilayer_perceptron.py:1098: DataConversionWarning: A column-vector y was passed when a 1d array was expected. Please change the shape of y to (n_samples, ), for example using ravel().\n",
            "  y = column_or_1d(y, warn=True)\n"
          ]
        },
        {
          "output_type": "stream",
          "name": "stdout",
          "text": [
            "500\n",
            "Done model training with hidden layer [64] activation relu iterations 133\n",
            "time taken 5.038154125213623\n"
          ]
        },
        {
          "output_type": "stream",
          "name": "stderr",
          "text": [
            "/usr/local/lib/python3.10/dist-packages/sklearn/neural_network/_multilayer_perceptron.py:1098: DataConversionWarning: A column-vector y was passed when a 1d array was expected. Please change the shape of y to (n_samples, ), for example using ravel().\n",
            "  y = column_or_1d(y, warn=True)\n"
          ]
        },
        {
          "output_type": "stream",
          "name": "stdout",
          "text": [
            "500\n",
            "Done model training with hidden layer [64, 32] activation tanh iterations 56\n",
            "time taken 4.188575744628906\n"
          ]
        },
        {
          "output_type": "stream",
          "name": "stderr",
          "text": [
            "/usr/local/lib/python3.10/dist-packages/sklearn/neural_network/_multilayer_perceptron.py:1098: DataConversionWarning: A column-vector y was passed when a 1d array was expected. Please change the shape of y to (n_samples, ), for example using ravel().\n",
            "  y = column_or_1d(y, warn=True)\n"
          ]
        },
        {
          "output_type": "stream",
          "name": "stdout",
          "text": [
            "500\n",
            "Done model training with hidden layer [64, 32] activation relu iterations 196\n",
            "time taken 10.484808683395386\n"
          ]
        },
        {
          "output_type": "stream",
          "name": "stderr",
          "text": [
            "/usr/local/lib/python3.10/dist-packages/sklearn/neural_network/_multilayer_perceptron.py:1098: DataConversionWarning: A column-vector y was passed when a 1d array was expected. Please change the shape of y to (n_samples, ), for example using ravel().\n",
            "  y = column_or_1d(y, warn=True)\n"
          ]
        },
        {
          "output_type": "stream",
          "name": "stdout",
          "text": [
            "500\n",
            "Done model training with hidden layer [128, 64, 32] activation tanh iterations 284\n",
            "time taken 50.14936661720276\n"
          ]
        },
        {
          "output_type": "stream",
          "name": "stderr",
          "text": [
            "/usr/local/lib/python3.10/dist-packages/sklearn/neural_network/_multilayer_perceptron.py:1098: DataConversionWarning: A column-vector y was passed when a 1d array was expected. Please change the shape of y to (n_samples, ), for example using ravel().\n",
            "  y = column_or_1d(y, warn=True)\n"
          ]
        },
        {
          "output_type": "stream",
          "name": "stdout",
          "text": [
            "500\n",
            "Done model training with hidden layer [128, 64, 32] activation relu iterations 362\n",
            "time taken 37.012516021728516\n"
          ]
        }
      ],
      "source": [
        "import time\n",
        "import numpy as np\n",
        "\n",
        "outputs = []\n",
        "hidden_layers = [[32], [64],[64,32],[128,64,32]]\n",
        "activation_funcs = ['tanh','relu']\n",
        "for hidden_layer in hidden_layers:\n",
        "  for activation_func in activation_funcs:\n",
        "    time_start = time.time()\n",
        "    clf = MLPClassifier(random_state=1, hidden_layer_sizes=hidden_layer,activation= activation_func,max_iter = 500)\n",
        "    clf.fit(X_train,y_train)\n",
        "    print(clf.max_iter)\n",
        "\n",
        "    print('Done model training with hidden layer', hidden_layer, 'activation', activation_func,'iterations',clf.n_iter_)\n",
        "    print('time taken', time.time()- time_start)\n",
        "\n",
        "    y_test_pred = clf.predict(X_test)\n",
        "    y_train_pred = clf.predict(X_train)\n",
        "\n",
        "    mat_train = metrics.confusion_matrix(y_train, y_train_pred)\n",
        "    mat_test = metrics.confusion_matrix(y_test, y_test_pred)\n",
        "\n",
        "    train_acc = metrics.accuracy_score(y_train,y_train_pred)\n",
        "    test_acc = metrics.accuracy_score(y_test,y_test_pred)\n",
        "\n",
        "    class_report = metrics.classification_report(y_test, y_test_pred)\n",
        "\n",
        "    outputs.append([hidden_layer, activation_func, class_report, mat_test,mat_train,train_acc,test_acc,clf.n_iter_])\n"
      ]
    },
    {
      "cell_type": "code",
      "source": [
        "import matplotlib.pyplot as plt\n",
        "fig, ax = plt.subplots(figsize=(6,4))\n",
        "ax.plot(clf.loss_curve_)\n",
        "\n",
        "ax.set_xlabel('Number of iterations')\n",
        "ax.set_ylabel('Training Loss')\n",
        "plt.legend()\n",
        "plt.show()"
      ],
      "metadata": {
        "colab": {
          "base_uri": "https://localhost:8080/",
          "height": 426
        },
        "id": "1xLqjy81AbLA",
        "outputId": "87818eaf-36b1-4575-8fc8-1370fc85dcb8"
      },
      "execution_count": null,
      "outputs": [
        {
          "output_type": "stream",
          "name": "stderr",
          "text": [
            "WARNING:matplotlib.legend:No artists with labels found to put in legend.  Note that artists whose label start with an underscore are ignored when legend() is called with no argument.\n"
          ]
        },
        {
          "output_type": "display_data",
          "data": {
            "text/plain": [
              "<Figure size 600x400 with 1 Axes>"
            ],
            "image/png": "[encoded data removed]"
          },
          "metadata": {}
        }
      ]
    },
    {
      "cell_type": "code",
      "source": [
        "for i in range(len(outputs)):\n",
        "  print('train',outputs[i][5])\n",
        "  print('test',outputs[i][6])"
      ],
      "metadata": {
        "colab": {
          "base_uri": "https://localhost:8080/"
        },
        "id": "pBDCg9jja22f",
        "outputId": "5a4189af-d036-48b1-88a6-4180e3fe2666"
      },
      "execution_count": null,
      "outputs": [
        {
          "output_type": "stream",
          "name": "stdout",
          "text": [
            "train 0.5926716471006759\n",
            "test 0.5823320589841616\n",
            "train 0.6177516897901103\n",
            "test 0.5367285636264336\n",
            "train 0.6036997509782995\n",
            "test 0.4557618787547788\n",
            "train 0.6118818925649235\n",
            "test 0.56301201529219\n",
            "train 0.5932052650302384\n",
            "test 0.4985663571818678\n",
            "train 0.6382070437566703\n",
            "test 0.5142681594756964\n",
            "train 0.7082888651725364\n",
            "test 0.5542736209721464\n",
            "train 0.7344361437210957\n",
            "test 0.5519524849808848\n"
          ]
        }
      ]
    },
    {
      "cell_type": "code",
      "source": [
        "for i in range(len(outputs)):\n",
        "  print(outputs[i][2])"
      ],
      "metadata": {
        "colab": {
          "base_uri": "https://localhost:8080/"
        },
        "id": "u6feV3gdoP-J",
        "outputId": "fc02c3c5-e6d5-4583-c6c3-96a69ed716e9"
      },
      "execution_count": null,
      "outputs": [
        {
          "output_type": "stream",
          "name": "stdout",
          "text": [
            "              precision    recall  f1-score   support\n",
            "\n",
            "           0       0.95      0.58      0.72     13711\n",
            "           1       0.09      0.58      0.15       937\n",
            "\n",
            "    accuracy                           0.58     14648\n",
            "   macro avg       0.52      0.58      0.44     14648\n",
            "weighted avg       0.90      0.58      0.69     14648\n",
            "\n",
            "              precision    recall  f1-score   support\n",
            "\n",
            "           0       0.95      0.53      0.68     13711\n",
            "           1       0.08      0.63      0.15       937\n",
            "\n",
            "    accuracy                           0.54     14648\n",
            "   macro avg       0.52      0.58      0.42     14648\n",
            "weighted avg       0.90      0.54      0.65     14648\n",
            "\n",
            "              precision    recall  f1-score   support\n",
            "\n",
            "           0       0.96      0.44      0.60     13711\n",
            "           1       0.08      0.72      0.14       937\n",
            "\n",
            "    accuracy                           0.46     14648\n",
            "   macro avg       0.52      0.58      0.37     14648\n",
            "weighted avg       0.90      0.46      0.57     14648\n",
            "\n",
            "              precision    recall  f1-score   support\n",
            "\n",
            "           0       0.95      0.56      0.71     13711\n",
            "           1       0.08      0.58      0.15       937\n",
            "\n",
            "    accuracy                           0.56     14648\n",
            "   macro avg       0.52      0.57      0.43     14648\n",
            "weighted avg       0.90      0.56      0.67     14648\n",
            "\n",
            "              precision    recall  f1-score   support\n",
            "\n",
            "           0       0.95      0.49      0.65     13711\n",
            "           1       0.08      0.64      0.14       937\n",
            "\n",
            "    accuracy                           0.50     14648\n",
            "   macro avg       0.52      0.56      0.39     14648\n",
            "weighted avg       0.90      0.50      0.61     14648\n",
            "\n",
            "              precision    recall  f1-score   support\n",
            "\n",
            "           0       0.95      0.51      0.66     13711\n",
            "           1       0.08      0.64      0.14       937\n",
            "\n",
            "    accuracy                           0.51     14648\n",
            "   macro avg       0.52      0.57      0.40     14648\n",
            "weighted avg       0.90      0.51      0.63     14648\n",
            "\n",
            "              precision    recall  f1-score   support\n",
            "\n",
            "           0       0.95      0.55      0.70     13711\n",
            "           1       0.08      0.59      0.15       937\n",
            "\n",
            "    accuracy                           0.55     14648\n",
            "   macro avg       0.52      0.57      0.42     14648\n",
            "weighted avg       0.90      0.55      0.66     14648\n",
            "\n",
            "              precision    recall  f1-score   support\n",
            "\n",
            "           0       0.95      0.55      0.70     13711\n",
            "           1       0.08      0.58      0.14       937\n",
            "\n",
            "    accuracy                           0.55     14648\n",
            "   macro avg       0.52      0.56      0.42     14648\n",
            "weighted avg       0.89      0.55      0.66     14648\n",
            "\n"
          ]
        }
      ]
    },
    {
      "cell_type": "code",
      "execution_count": null,
      "metadata": {
        "id": "aot9Wj6E0mQp",
        "colab": {
          "base_uri": "https://localhost:8080/",
          "height": 1000
        },
        "outputId": "034dc1df-ee35-4596-af56-c2e8019fce74"
      },
      "outputs": [
        {
          "output_type": "display_data",
          "data": {
            "text/plain": [
              "<Figure size 640x480 with 1 Axes>"
            ],
            "image/png": "[encoded data removed]"
          },
          "metadata": {}
        },
        {
          "output_type": "display_data",
          "data": {
            "text/plain": [
              "<Figure size 640x480 with 1 Axes>"
            ],
            "image/png": "[encoded data removed]"
          },
          "metadata": {}
        },
        {
          "output_type": "display_data",
          "data": {
            "text/plain": [
              "<Figure size 640x480 with 1 Axes>"
            ],
            "image/png": "[encoded data removed]"
          },
          "metadata": {}
        },
        {
          "output_type": "display_data",
          "data": {
            "text/plain": [
              "<Figure size 640x480 with 1 Axes>"
            ],
            "image/png": "[encoded data removed]"
          },
          "metadata": {}
        },
        {
          "output_type": "display_data",
          "data": {
            "text/plain": [
              "<Figure size 640x480 with 1 Axes>"
            ],
            "image/png": "[encoded data removed]"
          },
          "metadata": {}
        },
        {
          "output_type": "display_data",
          "data": {
            "text/plain": [
              "<Figure size 640x480 with 1 Axes>"
            ],
            "image/png": "[encoded data removed]"
          },
          "metadata": {}
        },
        {
          "output_type": "display_data",
          "data": {
            "text/plain": [
              "<Figure size 640x480 with 1 Axes>"
            ],
            "image/png": "[encoded data removed]"
          },
          "metadata": {}
        },
        {
          "output_type": "display_data",
          "data": {
            "text/plain": [
              "<Figure size 640x480 with 1 Axes>"
            ],
            "image/png": "[encoded data removed]"
          },
          "metadata": {}
        }
      ],
      "source": [
        "import seaborn as sns\n",
        "import matplotlib.pyplot as plt\n",
        "\n",
        "for i in range(len(outputs)):\n",
        "  mat = outputs[i][3]\n",
        "  plt.figure(i)\n",
        "  sns.heatmap(mat.T, square=True, annot=True, fmt='d', cbar=False)\n",
        "  plt.xlabel(\"True Label\")\n",
        "  plt.ylabel(\"Predicted Label\")\n"
      ]
    },
    {
      "cell_type": "code",
      "source": [],
      "metadata": {
        "id": "gXBJ6Prjs1K7"
      },
      "execution_count": null,
      "outputs": []
    }
  ],
  "metadata": {
    "colab": {
      "provenance": []
    },
    "kernelspec": {
      "display_name": "Python 3",
      "name": "python3"
    },
    "language_info": {
      "name": "python"
    }
  },
  "nbformat": 4,
  "nbformat_minor": 0
}